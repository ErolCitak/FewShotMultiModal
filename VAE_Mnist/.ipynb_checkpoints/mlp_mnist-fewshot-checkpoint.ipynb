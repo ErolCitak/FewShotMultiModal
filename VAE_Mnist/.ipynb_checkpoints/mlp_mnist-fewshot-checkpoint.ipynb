{
 "cells": [
  {
   "cell_type": "code",
   "execution_count": 1,
   "metadata": {},
   "outputs": [
    {
     "name": "stderr",
     "output_type": "stream",
     "text": [
      "WARNING:root:Limited tf.compat.v2.summary API due to missing TensorBoard installation.\n",
      "WARNING:root:Limited tf.compat.v2.summary API due to missing TensorBoard installation.\n",
      "WARNING:root:Limited tf.compat.v2.summary API due to missing TensorBoard installation.\n",
      "WARNING:root:Limited tf.summary API due to missing TensorBoard installation.\n"
     ]
    }
   ],
   "source": [
    "# prerequisites\n",
    "from tensorflow.keras.datasets import mnist\n",
    "from tensorflow.keras.layers import Input, Dense, Lambda\n",
    "from tensorflow.keras.models import Model\n",
    "from tensorflow.keras import backend as K\n",
    "from tensorflow.keras.losses import binary_crossentropy\n",
    "\n",
    "from scipy.stats import norm\n",
    "from scipy import stats as sps \n",
    "import scipy\n",
    "from scipy.spatial import distance\n",
    "from scipy.stats import ks_2samp\n",
    "from scipy.stats import multivariate_normal\n",
    "\n",
    "import random\n",
    "import numpy as np\n",
    "import os\n",
    "import matplotlib.pyplot as plt\n",
    "from tqdm import tqdm\n",
    "import math\n",
    "\n",
    "from sklearn.metrics import mean_squared_error"
   ]
  },
  {
   "cell_type": "code",
   "execution_count": 2,
   "metadata": {},
   "outputs": [
    {
     "name": "stdout",
     "output_type": "stream",
     "text": [
      "(60000, 784) (10000, 784)\n"
     ]
    }
   ],
   "source": [
    "# data load\n",
    "(x_tr, y_tr), (x_te, y_te) = mnist.load_data()\n",
    "x_tr, x_te = x_tr.astype('float32')/255., x_te.astype('float32')/255.\n",
    "x_tr, x_te = x_tr.reshape(x_tr.shape[0], -1), x_te.reshape(x_te.shape[0], -1)\n",
    "print(x_tr.shape, x_te.shape)\n",
    "\n",
    "# network parameters\n",
    "batch_size, n_epoch = 101, 100\n",
    "n_hidden, z_dim = 256, 4"
   ]
  },
  {
   "cell_type": "code",
   "execution_count": 3,
   "metadata": {},
   "outputs": [
    {
     "name": "stderr",
     "output_type": "stream",
     "text": [
      "C:\\Users\\PC\\anaconda3\\lib\\site-packages\\ipykernel_launcher.py:20: VisibleDeprecationWarning: Creating an ndarray from ragged nested sequences (which is a list-or-tuple of lists-or-tuples-or ndarrays with different lengths or shapes) is deprecated. If you meant to do this, you must specify 'dtype=object' when creating the ndarray\n",
      "C:\\Users\\PC\\anaconda3\\lib\\site-packages\\ipykernel_launcher.py:21: VisibleDeprecationWarning: Creating an ndarray from ragged nested sequences (which is a list-or-tuple of lists-or-tuples-or ndarrays with different lengths or shapes) is deprecated. If you meant to do this, you must specify 'dtype=object' when creating the ndarray\n"
     ]
    }
   ],
   "source": [
    "x_f, y_f = [], [] \n",
    "rmv_idx = []\n",
    "\n",
    "for i in range(10): \n",
    "    if i % 2 != 0: \n",
    "        \n",
    "        # 1,3,5,7,9 \n",
    "        idf_i = list(np.where(y_tr == i)[0]) \n",
    "        \n",
    "        y_f.append([i]*len(idf_i))\n",
    "        x_f.append(x_tr[idf_i]) \n",
    "        \n",
    "            \n",
    "        # remove elements by index list \n",
    "        rmv_idx += idf_i\n",
    "             \n",
    "x_tr = np.delete(x_tr, rmv_idx, axis=0) \n",
    "y_tr = np.delete(y_tr, rmv_idx, axis=0) \n",
    "        \n",
    "x_f = np.array(x_f) \n",
    "y_f = np.array(y_f)"
   ]
  },
  {
   "cell_type": "code",
   "execution_count": 4,
   "metadata": {},
   "outputs": [
    {
     "name": "stdout",
     "output_type": "stream",
     "text": [
      "(29492, 784) (10000, 784)\n"
     ]
    }
   ],
   "source": [
    "print(x_tr.shape, x_te.shape)"
   ]
  },
  {
   "cell_type": "code",
   "execution_count": 5,
   "metadata": {},
   "outputs": [],
   "source": [
    "# encoder\n",
    "x = Input(shape=(x_tr.shape[1:]))\n",
    "x_encoded = Dense(n_hidden, activation='relu')(x)\n",
    "x_encoded = Dense(n_hidden//2, activation='relu')(x_encoded)\n",
    "z  = Dense(z_dim)(x_encoded)"
   ]
  },
  {
   "cell_type": "code",
   "execution_count": 6,
   "metadata": {},
   "outputs": [],
   "source": [
    "# decoder\n",
    "z_decoder1 = Dense(n_hidden//2, activation='relu')\n",
    "z_decoder2 = Dense(n_hidden, activation='relu')\n",
    "y_decoder = Dense(x_tr.shape[1], activation='sigmoid')\n",
    "\n",
    "z_decoded = z_decoder1(z)\n",
    "z_decoded = z_decoder2(z_decoded)\n",
    "y = y_decoder(z_decoded)"
   ]
  },
  {
   "cell_type": "code",
   "execution_count": 7,
   "metadata": {
    "scrolled": true
   },
   "outputs": [
    {
     "name": "stdout",
     "output_type": "stream",
     "text": [
      "Model: \"model\"\n",
      "__________________________________________________________________________________________________\n",
      "Layer (type)                    Output Shape         Param #     Connected to                     \n",
      "==================================================================================================\n",
      "input_1 (InputLayer)            [(None, 784)]        0                                            \n",
      "__________________________________________________________________________________________________\n",
      "dense (Dense)                   (None, 256)          200960      input_1[0][0]                    \n",
      "__________________________________________________________________________________________________\n",
      "dense_1 (Dense)                 (None, 128)          32896       dense[0][0]                      \n",
      "__________________________________________________________________________________________________\n",
      "dense_2 (Dense)                 (None, 4)            516         dense_1[0][0]                    \n",
      "__________________________________________________________________________________________________\n",
      "dense_3 (Dense)                 (None, 128)          640         dense_2[0][0]                    \n",
      "__________________________________________________________________________________________________\n",
      "dense_4 (Dense)                 (None, 256)          33024       dense_3[0][0]                    \n",
      "__________________________________________________________________________________________________\n",
      "dense_5 (Dense)                 (None, 784)          201488      dense_4[0][0]                    \n",
      "__________________________________________________________________________________________________\n",
      "tf.cast (TFOpLambda)            (None, 784)          0           input_1[0][0]                    \n",
      "__________________________________________________________________________________________________\n",
      "tf.convert_to_tensor (TFOpLambd (None, 784)          0           dense_5[0][0]                    \n",
      "__________________________________________________________________________________________________\n",
      "tf.keras.backend.binary_crossen (None, 784)          0           tf.cast[0][0]                    \n",
      "                                                                 tf.convert_to_tensor[0][0]       \n",
      "__________________________________________________________________________________________________\n",
      "tf.math.reduce_mean (TFOpLambda (None,)              0           tf.keras.backend.binary_crossentr\n",
      "__________________________________________________________________________________________________\n",
      "tf.math.multiply (TFOpLambda)   (None,)              0           tf.math.reduce_mean[0][0]        \n",
      "__________________________________________________________________________________________________\n",
      "add_loss (AddLoss)              (None,)              0           tf.math.multiply[0][0]           \n",
      "==================================================================================================\n",
      "Total params: 469,524\n",
      "Trainable params: 469,524\n",
      "Non-trainable params: 0\n",
      "__________________________________________________________________________________________________\n"
     ]
    }
   ],
   "source": [
    "# loss\n",
    "reconstruction_loss = binary_crossentropy(x, y) * x_tr.shape[1]\n",
    "mlp_loss = reconstruction_loss\n",
    "\n",
    "# build model\n",
    "mlp = Model(x, y)\n",
    "mlp.add_loss(mlp_loss)\n",
    "mlp.compile(optimizer='rmsprop')\n",
    "mlp.summary()"
   ]
  },
  {
   "cell_type": "code",
   "execution_count": 8,
   "metadata": {},
   "outputs": [
    {
     "name": "stdout",
     "output_type": "stream",
     "text": [
      "Epoch 1/100\n",
      "292/292 [==============================] - 2s 5ms/step - loss: 216.2625\n",
      "Epoch 2/100\n",
      "292/292 [==============================] - 1s 5ms/step - loss: 145.4863\n",
      "Epoch 3/100\n",
      "292/292 [==============================] - 1s 5ms/step - loss: 137.4534\n",
      "Epoch 4/100\n",
      "292/292 [==============================] - 1s 5ms/step - loss: 133.1516\n",
      "Epoch 5/100\n",
      "292/292 [==============================] - 1s 5ms/step - loss: 130.6855\n",
      "Epoch 6/100\n",
      "292/292 [==============================] - 1s 5ms/step - loss: 129.1490\n",
      "Epoch 7/100\n",
      "292/292 [==============================] - 1s 5ms/step - loss: 128.0052\n",
      "Epoch 8/100\n",
      "292/292 [==============================] - 1s 5ms/step - loss: 126.4398\n",
      "Epoch 9/100\n",
      "292/292 [==============================] - 1s 5ms/step - loss: 125.2292\n",
      "Epoch 10/100\n",
      "292/292 [==============================] - 2s 5ms/step - loss: 124.4326\n",
      "Epoch 11/100\n",
      "292/292 [==============================] - 2s 5ms/step - loss: 123.9048\n",
      "Epoch 12/100\n",
      "292/292 [==============================] - 1s 5ms/step - loss: 123.2141\n",
      "Epoch 13/100\n",
      "292/292 [==============================] - 2s 5ms/step - loss: 122.5737\n",
      "Epoch 14/100\n",
      "292/292 [==============================] - 2s 5ms/step - loss: 121.9349\n",
      "Epoch 15/100\n",
      "292/292 [==============================] - 2s 5ms/step - loss: 121.6269\n",
      "Epoch 16/100\n",
      "292/292 [==============================] - 1s 5ms/step - loss: 121.0464\n",
      "Epoch 17/100\n",
      "292/292 [==============================] - 1s 5ms/step - loss: 120.5883\n",
      "Epoch 18/100\n",
      "292/292 [==============================] - 2s 6ms/step - loss: 119.9367\n",
      "Epoch 19/100\n",
      "292/292 [==============================] - 1s 5ms/step - loss: 119.6263\n",
      "Epoch 20/100\n",
      "292/292 [==============================] - 1s 5ms/step - loss: 119.5438\n",
      "Epoch 21/100\n",
      "292/292 [==============================] - 1s 5ms/step - loss: 118.8751\n",
      "Epoch 22/100\n",
      "292/292 [==============================] - 1s 5ms/step - loss: 118.6245\n",
      "Epoch 23/100\n",
      "292/292 [==============================] - 1s 5ms/step - loss: 118.2519\n",
      "Epoch 24/100\n",
      "292/292 [==============================] - 1s 5ms/step - loss: 117.7456\n",
      "Epoch 25/100\n",
      "292/292 [==============================] - 1s 5ms/step - loss: 117.6183\n",
      "Epoch 26/100\n",
      "292/292 [==============================] - 1s 5ms/step - loss: 117.1670\n",
      "Epoch 27/100\n",
      "292/292 [==============================] - 1s 5ms/step - loss: 117.1243\n",
      "Epoch 28/100\n",
      "292/292 [==============================] - 1s 5ms/step - loss: 116.9096\n",
      "Epoch 29/100\n",
      "292/292 [==============================] - 1s 5ms/step - loss: 116.6764\n",
      "Epoch 30/100\n",
      "292/292 [==============================] - 1s 5ms/step - loss: 116.6542\n",
      "Epoch 31/100\n",
      "292/292 [==============================] - 1s 5ms/step - loss: 115.9130\n",
      "Epoch 32/100\n",
      "292/292 [==============================] - 1s 5ms/step - loss: 115.8551\n",
      "Epoch 33/100\n",
      "292/292 [==============================] - 1s 5ms/step - loss: 115.8338\n",
      "Epoch 34/100\n",
      "292/292 [==============================] - 1s 5ms/step - loss: 115.5689\n",
      "Epoch 35/100\n",
      "292/292 [==============================] - 1s 5ms/step - loss: 115.2806\n",
      "Epoch 36/100\n",
      "292/292 [==============================] - 1s 5ms/step - loss: 115.4642\n",
      "Epoch 37/100\n",
      "292/292 [==============================] - 1s 5ms/step - loss: 115.3295\n",
      "Epoch 38/100\n",
      "292/292 [==============================] - 1s 5ms/step - loss: 115.1241\n",
      "Epoch 39/100\n",
      "292/292 [==============================] - 1s 5ms/step - loss: 114.9390\n",
      "Epoch 40/100\n",
      "292/292 [==============================] - 1s 5ms/step - loss: 114.7809\n",
      "Epoch 41/100\n",
      "292/292 [==============================] - 1s 5ms/step - loss: 114.7240\n",
      "Epoch 42/100\n",
      "292/292 [==============================] - 1s 5ms/step - loss: 114.3809\n",
      "Epoch 43/100\n",
      "292/292 [==============================] - 1s 5ms/step - loss: 114.4945\n",
      "Epoch 44/100\n",
      "292/292 [==============================] - 1s 5ms/step - loss: 114.2566\n",
      "Epoch 45/100\n",
      "292/292 [==============================] - 1s 5ms/step - loss: 114.2849\n",
      "Epoch 46/100\n",
      "292/292 [==============================] - 1s 5ms/step - loss: 113.9609\n",
      "Epoch 47/100\n",
      "292/292 [==============================] - 1s 5ms/step - loss: 113.8672\n",
      "Epoch 48/100\n",
      "292/292 [==============================] - 1s 5ms/step - loss: 114.0387\n",
      "Epoch 49/100\n",
      "292/292 [==============================] - 1s 5ms/step - loss: 113.8794\n",
      "Epoch 50/100\n",
      "292/292 [==============================] - 1s 5ms/step - loss: 113.9725\n",
      "Epoch 51/100\n",
      "292/292 [==============================] - 1s 5ms/step - loss: 113.7044\n",
      "Epoch 52/100\n",
      "292/292 [==============================] - 1s 5ms/step - loss: 113.4143\n",
      "Epoch 53/100\n",
      "292/292 [==============================] - 1s 5ms/step - loss: 113.2996\n",
      "Epoch 54/100\n",
      "292/292 [==============================] - 1s 5ms/step - loss: 113.5045\n",
      "Epoch 55/100\n",
      "292/292 [==============================] - 1s 5ms/step - loss: 113.2567\n",
      "Epoch 56/100\n",
      "292/292 [==============================] - 2s 5ms/step - loss: 113.2182\n",
      "Epoch 57/100\n",
      "292/292 [==============================] - 1s 5ms/step - loss: 113.3372\n",
      "Epoch 58/100\n",
      "292/292 [==============================] - 1s 5ms/step - loss: 113.1614\n",
      "Epoch 59/100\n",
      "292/292 [==============================] - 1s 5ms/step - loss: 113.0944\n",
      "Epoch 60/100\n",
      "292/292 [==============================] - 1s 5ms/step - loss: 112.9322\n",
      "Epoch 61/100\n",
      "292/292 [==============================] - 2s 5ms/step - loss: 112.9043\n",
      "Epoch 62/100\n",
      "292/292 [==============================] - 1s 5ms/step - loss: 112.8752\n",
      "Epoch 63/100\n",
      "292/292 [==============================] - 1s 5ms/step - loss: 112.7261\n",
      "Epoch 64/100\n",
      "292/292 [==============================] - 1s 5ms/step - loss: 112.5652\n",
      "Epoch 65/100\n",
      "292/292 [==============================] - 1s 5ms/step - loss: 112.8843\n",
      "Epoch 66/100\n",
      "292/292 [==============================] - 1s 5ms/step - loss: 112.4590\n",
      "Epoch 67/100\n",
      "292/292 [==============================] - 1s 5ms/step - loss: 112.4656\n",
      "Epoch 68/100\n",
      "292/292 [==============================] - 1s 5ms/step - loss: 112.4197\n",
      "Epoch 69/100\n",
      "292/292 [==============================] - 1s 5ms/step - loss: 112.4238\n",
      "Epoch 70/100\n",
      "292/292 [==============================] - 1s 5ms/step - loss: 112.6769\n",
      "Epoch 71/100\n",
      "292/292 [==============================] - 1s 5ms/step - loss: 112.3040\n",
      "Epoch 72/100\n",
      "292/292 [==============================] - 1s 5ms/step - loss: 112.0864\n",
      "Epoch 73/100\n",
      "292/292 [==============================] - 1s 5ms/step - loss: 112.3314\n",
      "Epoch 74/100\n",
      "292/292 [==============================] - 1s 5ms/step - loss: 111.9670\n",
      "Epoch 75/100\n",
      "292/292 [==============================] - 1s 5ms/step - loss: 111.7839\n",
      "Epoch 76/100\n",
      "292/292 [==============================] - 1s 5ms/step - loss: 111.9307\n",
      "Epoch 77/100\n",
      "292/292 [==============================] - 1s 5ms/step - loss: 111.9230\n",
      "Epoch 78/100\n",
      "292/292 [==============================] - 1s 5ms/step - loss: 111.9740\n",
      "Epoch 79/100\n",
      "292/292 [==============================] - 1s 5ms/step - loss: 111.8489\n",
      "Epoch 80/100\n",
      "292/292 [==============================] - 2s 5ms/step - loss: 111.5207\n",
      "Epoch 81/100\n",
      "292/292 [==============================] - 1s 5ms/step - loss: 111.5412\n",
      "Epoch 82/100\n",
      "292/292 [==============================] - 1s 5ms/step - loss: 111.9548\n",
      "Epoch 83/100\n",
      "292/292 [==============================] - 1s 5ms/step - loss: 111.7874\n",
      "Epoch 84/100\n",
      "292/292 [==============================] - 1s 5ms/step - loss: 111.4836\n",
      "Epoch 85/100\n",
      "292/292 [==============================] - 1s 5ms/step - loss: 111.5968\n",
      "Epoch 86/100\n",
      "292/292 [==============================] - 1s 5ms/step - loss: 111.8657\n",
      "Epoch 87/100\n",
      "292/292 [==============================] - 1s 5ms/step - loss: 111.6620\n",
      "Epoch 88/100\n",
      "292/292 [==============================] - 1s 5ms/step - loss: 111.2461\n",
      "Epoch 89/100\n",
      "292/292 [==============================] - 1s 5ms/step - loss: 111.3337\n",
      "Epoch 90/100\n",
      "292/292 [==============================] - 1s 5ms/step - loss: 111.6977\n",
      "Epoch 91/100\n",
      "292/292 [==============================] - 1s 5ms/step - loss: 111.2855\n",
      "Epoch 92/100\n",
      "292/292 [==============================] - 1s 5ms/step - loss: 111.5936\n",
      "Epoch 93/100\n",
      "292/292 [==============================] - 1s 5ms/step - loss: 111.0660\n",
      "Epoch 94/100\n",
      "292/292 [==============================] - 1s 5ms/step - loss: 111.0883\n",
      "Epoch 95/100\n",
      "292/292 [==============================] - 1s 5ms/step - loss: 111.0458\n",
      "Epoch 96/100\n",
      "292/292 [==============================] - 1s 5ms/step - loss: 111.1052\n",
      "Epoch 97/100\n"
     ]
    },
    {
     "name": "stdout",
     "output_type": "stream",
     "text": [
      "292/292 [==============================] - 2s 5ms/step - loss: 111.1008\n",
      "Epoch 98/100\n",
      "292/292 [==============================] - 1s 5ms/step - loss: 111.0040\n",
      "Epoch 99/100\n",
      "292/292 [==============================] - 1s 5ms/step - loss: 111.0816\n",
      "Epoch 100/100\n",
      "292/292 [==============================] - 1s 5ms/step - loss: 111.0607\n"
     ]
    },
    {
     "data": {
      "text/plain": [
       "<tensorflow.python.keras.callbacks.History at 0x1de14a98f48>"
      ]
     },
     "execution_count": 8,
     "metadata": {},
     "output_type": "execute_result"
    }
   ],
   "source": [
    "# train\n",
    "mlp.fit(x_tr,\n",
    "       shuffle=True,\n",
    "       epochs=n_epoch,\n",
    "       batch_size=batch_size,\n",
    "       verbose=1)"
   ]
  },
  {
   "cell_type": "code",
   "execution_count": 9,
   "metadata": {},
   "outputs": [
    {
     "name": "stdout",
     "output_type": "stream",
     "text": [
      "Model: \"model_1\"\n",
      "_________________________________________________________________\n",
      "Layer (type)                 Output Shape              Param #   \n",
      "=================================================================\n",
      "input_1 (InputLayer)         [(None, 784)]             0         \n",
      "_________________________________________________________________\n",
      "dense (Dense)                (None, 256)               200960    \n",
      "_________________________________________________________________\n",
      "dense_1 (Dense)              (None, 128)               32896     \n",
      "_________________________________________________________________\n",
      "dense_2 (Dense)              (None, 4)                 516       \n",
      "=================================================================\n",
      "Total params: 234,372\n",
      "Trainable params: 234,372\n",
      "Non-trainable params: 0\n",
      "_________________________________________________________________\n"
     ]
    }
   ],
   "source": [
    "# build encoder\n",
    "encoder = Model(x, z)\n",
    "encoder.summary()"
   ]
  },
  {
   "cell_type": "code",
   "execution_count": 10,
   "metadata": {},
   "outputs": [
    {
     "data": {
      "image/png": "[encoded data removed]",
      "text/plain": [
       "<Figure size 432x432 with 2 Axes>"
      ]
     },
     "metadata": {
      "needs_background": "light"
     },
     "output_type": "display_data"
    }
   ],
   "source": [
    "# Plot of the digit classes in the latent space\n",
    "x_te_latent = encoder.predict(x_te, batch_size=batch_size)\n",
    "plt.figure(figsize=(6, 6))\n",
    "plt.scatter(x_te_latent[:, 0], x_te_latent[:, 1], c=y_te)\n",
    "plt.colorbar()\n",
    "plt.show()"
   ]
  },
  {
   "cell_type": "code",
   "execution_count": 11,
   "metadata": {},
   "outputs": [
    {
     "name": "stdout",
     "output_type": "stream",
     "text": [
      "Model: \"model_2\"\n",
      "_________________________________________________________________\n",
      "Layer (type)                 Output Shape              Param #   \n",
      "=================================================================\n",
      "input_2 (InputLayer)         [(None, 4)]               0         \n",
      "_________________________________________________________________\n",
      "dense_3 (Dense)              (None, 128)               640       \n",
      "_________________________________________________________________\n",
      "dense_4 (Dense)              (None, 256)               33024     \n",
      "_________________________________________________________________\n",
      "dense_5 (Dense)              (None, 784)               201488    \n",
      "=================================================================\n",
      "Total params: 235,152\n",
      "Trainable params: 235,152\n",
      "Non-trainable params: 0\n",
      "_________________________________________________________________\n"
     ]
    }
   ],
   "source": [
    "# build decoder\n",
    "decoder_input = Input(shape=(z_dim,))\n",
    "_z_decoded = z_decoder1(decoder_input)\n",
    "_z_decoded = z_decoder2(_z_decoded)\n",
    "_y = y_decoder(_z_decoded)\n",
    "\n",
    "generator = Model(decoder_input, _y)\n",
    "generator.summary()"
   ]
  },
  {
   "cell_type": "code",
   "execution_count": 12,
   "metadata": {},
   "outputs": [
    {
     "data": {
      "image/png": "[encoded data removed]",
      "text/plain": [
       "<Figure size 720x720 with 1 Axes>"
      ]
     },
     "metadata": {
      "needs_background": "light"
     },
     "output_type": "display_data"
    }
   ],
   "source": [
    "# display a 2D manifold of the digits\n",
    "n = 5 # figure with 15x15 digits\n",
    "digit_size = 28\n",
    "figure = np.zeros((digit_size * n, digit_size * n))\n",
    "\n",
    "grid_x = norm.ppf(np.linspace(0.05, 0.95, n)) \n",
    "grid_y = norm.ppf(np.linspace(0.05, 0.95, n))\n",
    "\n",
    "for i, yi in enumerate(grid_x):\n",
    "    for j, xi in enumerate(grid_y):\n",
    "        z_sample = np.array([[xi, yi,xi, yi]])\n",
    "        x_decoded = generator.predict(z_sample)\n",
    "        digit = x_decoded[0].reshape(digit_size, digit_size)\n",
    "        figure[i * digit_size: (i + 1) * digit_size,\n",
    "               j * digit_size: (j + 1) * digit_size] = digit\n",
    "\n",
    "plt.figure(figsize=(10, 10))\n",
    "plt.imshow(figure, cmap='Greys_r')\n",
    "plt.show()"
   ]
  },
  {
   "cell_type": "markdown",
   "metadata": {},
   "source": [
    "# Few Shot Sampling"
   ]
  },
  {
   "cell_type": "code",
   "execution_count": 13,
   "metadata": {},
   "outputs": [],
   "source": [
    "# https://github.com/Michedev/VAE_anomaly_detection/blob/0a9eb14b7df226e8195c77d145a0f586ecbb6d67/VAE.py#L7\n",
    "def softplus(x):\n",
    "    return np.log(1+np.exp(x))\n",
    "\n",
    "from dictances import bhattacharyya, bhattacharyya_coefficient"
   ]
  },
  {
   "cell_type": "code",
   "execution_count": 14,
   "metadata": {},
   "outputs": [
    {
     "name": "stdout",
     "output_type": "stream",
     "text": [
      "Model: \"model_3\"\n",
      "_________________________________________________________________\n",
      "Layer (type)                 Output Shape              Param #   \n",
      "=================================================================\n",
      "input_1 (InputLayer)         [(None, 784)]             0         \n",
      "_________________________________________________________________\n",
      "dense (Dense)                (None, 256)               200960    \n",
      "_________________________________________________________________\n",
      "dense_1 (Dense)              (None, 128)               32896     \n",
      "_________________________________________________________________\n",
      "dense_2 (Dense)              (None, 4)                 516       \n",
      "=================================================================\n",
      "Total params: 234,372\n",
      "Trainable params: 234,372\n",
      "Non-trainable params: 0\n",
      "_________________________________________________________________\n"
     ]
    }
   ],
   "source": [
    "# build model\n",
    "mlp_enc = Model(x, z)\n",
    "\n",
    "mlp_enc.summary()"
   ]
  },
  {
   "cell_type": "code",
   "execution_count": 15,
   "metadata": {},
   "outputs": [
    {
     "name": "stdout",
     "output_type": "stream",
     "text": [
      "[1, 3, 5, 7, 9]\n"
     ]
    }
   ],
   "source": [
    "test_classes = []\n",
    "\n",
    "for i in range(y_f.shape[0]):\n",
    "    test_classes.append(y_f[i][0])\n",
    "    \n",
    "print(test_classes)"
   ]
  },
  {
   "cell_type": "code",
   "execution_count": 16,
   "metadata": {},
   "outputs": [],
   "source": [
    "# Mahalanobis Distance\n",
    "def mahalanobis(x=None, mean=None, cov=None):\n",
    "\n",
    "    x_mu = x - mean\n",
    "    inv_covmat = np.linalg.inv(cov)\n",
    "    \n",
    "    left = np.dot(x_mu, inv_covmat)\n",
    "        \n",
    "    mahal = np.dot(left, x_mu.T)\n",
    "        \n",
    "    return mahal"
   ]
  },
  {
   "cell_type": "code",
   "execution_count": 22,
   "metadata": {},
   "outputs": [
    {
     "name": "stderr",
     "output_type": "stream",
     "text": [
      "100%|██████████████████████████████████████████████████████████████████████████████| 1200/1200 [04:04<00:00,  4.90it/s]\n"
     ]
    }
   ],
   "source": [
    "n_way = 4 # number of classes\n",
    "n_shot = 1 # number of samples per class\n",
    "\n",
    "n_trial = 0\n",
    "n_true = 0\n",
    "n_false = 0\n",
    "\n",
    "n_test = 1200\n",
    "\n",
    "for ntest in tqdm(range(n_test)):\n",
    "    #print(\"Test Classes: {}\".format(test_classes))\n",
    "\n",
    "    test_images = []\n",
    "    test_gt_labels = []\n",
    "\n",
    "\n",
    "    train_images = []\n",
    "    train_gt_labels = []\n",
    "\n",
    "    class_selector = random.sample(range(1, len(test_classes)), n_way)\n",
    "    ways = []\n",
    "\n",
    "    for i in class_selector:\n",
    "        ways.append(test_classes[i])\n",
    "\n",
    "    #print(\"Selected Indices: {}\".format(class_selector))\n",
    "    #print(\"Selected Classes: {}\".format(ways))\n",
    "\n",
    "\n",
    "    for cls_idx in class_selector:\n",
    "\n",
    "        class_label = test_classes[cls_idx]\n",
    "        x_sample_idx = random.sample(range(0, x_f[cls_idx].shape[0]), n_shot+1)\n",
    "\n",
    "        for c, idx in enumerate(x_sample_idx):\n",
    "\n",
    "            x_sample = x_f[cls_idx][idx].reshape(-1,784)\n",
    "\n",
    "            if c == len(x_sample_idx) - 1:\n",
    "                test_images.append(x_sample)\n",
    "                test_gt_labels.append(class_label)\n",
    "            else:\n",
    "                train_images.append(x_sample)\n",
    "                train_gt_labels.append(class_label)          \n",
    "\n",
    "\n",
    "    train_mus = []\n",
    "\n",
    "    for image in train_images:\n",
    "        res = mlp_enc.predict(image)\n",
    "        mu_val = res[0][0]\n",
    "\n",
    "        train_mus.append(mu_val)\n",
    "\n",
    "\n",
    "    test_mus = []\n",
    "\n",
    "    for image in test_images:\n",
    "        res = mlp_enc.predict(image)\n",
    "        mu_val = res[0][0]\n",
    "\n",
    "        test_mus.append(mu_val)\n",
    "\n",
    "    # Averaging mean's and mu's for each class\n",
    "    alpha = 1 / n_shot\n",
    "    avg_train_mus = []\n",
    "\n",
    "    c = 0\n",
    "    sum_mean = 0.0\n",
    "    sum_var = [0.0] * z_dim\n",
    "    for i in range(len(train_mus)):    \n",
    "\n",
    "        if c <= n_shot-1:\n",
    "            sum_mean += (alpha * train_mus[i])\n",
    "\n",
    "            c += 1\n",
    "\n",
    "            if c == n_shot:\n",
    "                avg_train_mus.append(sum_mean)\n",
    "\n",
    "                sum_mean = 0.0\n",
    "\n",
    "                c = 0\n",
    "\n",
    "    #print(train_mus, train_vars)\n",
    "    #print(avg_train_mus, avg_train_vars)\n",
    "\n",
    "    test_pred_labels= []\n",
    "    for i in range(len(test_mus)):\n",
    "        test_dist = test_mus[i]\n",
    "\n",
    "        local_scores = []\n",
    "        for j in range(len(avg_train_mus)):\n",
    "                        \n",
    "            scr = (test_dist - avg_train_mus[j])**2\n",
    "\n",
    "            local_scores.append(scr)\n",
    "\n",
    "        # get the minimum mahalanobis distance\n",
    "        pred_cls_idx = np.argmin(local_scores)\n",
    "        test_pred_labels.append(ways[pred_cls_idx])\n",
    "\n",
    "\n",
    "    for i in range(len(test_gt_labels)):\n",
    "        if test_gt_labels[i] == test_pred_labels[i]:\n",
    "            n_true += 1\n",
    "        else:\n",
    "            n_false += 1\n",
    "\n",
    "        n_trial += 1"
   ]
  },
  {
   "cell_type": "code",
   "execution_count": 23,
   "metadata": {},
   "outputs": [
    {
     "name": "stdout",
     "output_type": "stream",
     "text": [
      "Acc: 0.34437 in 1200 different trials\n"
     ]
    }
   ],
   "source": [
    "print(\"Acc: {:.5f} in {} different trials\".format(n_true/n_trial, n_test))"
   ]
  },
  {
   "cell_type": "markdown",
   "metadata": {},
   "source": [
    "#####\n",
    "#####\n",
    "#####"
   ]
  },
  {
   "cell_type": "code",
   "execution_count": null,
   "metadata": {},
   "outputs": [],
   "source": [
    "# output of test images in terms of mu,sigma\n",
    "test_0 = scipy.stats.multivariate_normal(test_mus[0], np.diag(test_vars[0]))\n",
    "test_1 = scipy.stats.multivariate_normal(test_mus[1], np.diag(test_vars[1]))\n",
    "test_2 = scipy.stats.multivariate_normal(test_mus[2], np.diag(test_vars[2]))\n",
    "\n",
    "print(np.mean(np.sum(sps.multivariate_normal(avg_train_mus[0], avg_train_logvars[0]).pdf(test_2.rvs(1)))))\n",
    "print(np.mean(np.sum(sps.multivariate_normal(avg_train_mus[1], avg_train_logvars[1]).pdf(test_2.rvs(1)))))\n",
    "print(np.mean(np.sum(sps.multivariate_normal(avg_train_mus[2], avg_train_logvars[2]).pdf(test_2.rvs(1)))))"
   ]
  },
  {
   "cell_type": "code",
   "execution_count": null,
   "metadata": {},
   "outputs": [],
   "source": [
    "eps = K.random_normal(shape=(100, z_dim), mean=0., stddev=1.0)\n",
    "\n",
    "dist_a1 = train_mus[0] + K.exp(train_logvars[0]) * eps\n",
    "dist_a2 = train_mus[2] + K.exp(train_logvars[2]) * eps\n",
    "dist_b1 = train_mus[10] + K.exp(train_logvars[10]) * eps\n",
    "dist_b2 = train_mus[14] + K.exp(train_logvars[14]) * eps\n",
    "\n",
    "\n",
    "m_a1, std_a1 = np.mean(np.array(dist_a1)), np.std(np.array(dist_a1))\n",
    "m_a2, std_a2 = np.mean(np.array(dist_a2)), np.std(np.array(dist_a2))\n",
    "m_b1, std_b1 = np.mean(np.array(dist_b1)), np.std(np.array(dist_b1))\n",
    "m_b2, std_b2 = np.mean(np.array(dist_b2)), np.std(np.array(dist_b2))\n",
    "\n",
    "\n",
    "x_a1 = np.random.normal(m_a1, std_a1, 100)\n",
    "x_a2 = np.random.normal(m_a2, std_a2, 100)\n",
    "x_b1 = np.random.normal(m_b1, std_b1, 100)\n",
    "x_b2 = np.random.normal(m_b2, std_b2, 100)\n",
    "\n",
    "\n",
    "#######################\n",
    "multivariate_a1 = scipy.stats.multivariate_normal(train_mus[0], np.diag(np.exp(train_logvars[0])))\n",
    "multivariate_a2 = scipy.stats.multivariate_normal(train_mus[2], np.diag(np.exp(train_logvars[2])))\n",
    "multivariate_b1 = scipy.stats.multivariate_normal(train_mus[10], np.diag(np.exp(train_logvars[10])))\n",
    "multivariate_b2 = scipy.stats.multivariate_normal(train_mus[14], np.diag(np.exp(train_logvars[14])))\n",
    "\n",
    "multivariate_1 = scipy.stats.multivariate_normal(avg_train_mus[0], np.diag(np.exp(avg_train_logvars[0])))\n",
    "multivariate_2 = scipy.stats.multivariate_normal(avg_train_mus[1], np.diag(np.exp(avg_train_logvars[1])))\n",
    "multivariate_3 = scipy.stats.multivariate_normal(avg_train_mus[2], np.diag(np.exp(avg_train_logvars[2])))"
   ]
  },
  {
   "cell_type": "code",
   "execution_count": null,
   "metadata": {
    "scrolled": true
   },
   "outputs": [],
   "source": [
    "test_sample = sps.multivariate_normal.rvs(test_mus[2], np.diag(test_logvars[2]), 10)\n",
    "print(np.mean(multivariate_1.pdf(test_sample)))\n",
    "print(np.mean(multivariate_2.pdf(test_sample)))\n",
    "print(np.mean(multivariate_3.pdf(test_sample)))"
   ]
  },
  {
   "cell_type": "code",
   "execution_count": null,
   "metadata": {},
   "outputs": [],
   "source": [
    "test_sample"
   ]
  },
  {
   "cell_type": "code",
   "execution_count": null,
   "metadata": {},
   "outputs": [],
   "source": [
    "ks_2samp(x_a1, x_a1)"
   ]
  },
  {
   "cell_type": "code",
   "execution_count": null,
   "metadata": {},
   "outputs": [],
   "source": [
    "ks_2samp(x_a1, x_a2)"
   ]
  },
  {
   "cell_type": "code",
   "execution_count": null,
   "metadata": {},
   "outputs": [],
   "source": [
    "ks_2samp(x_a1, x_b1)"
   ]
  },
  {
   "cell_type": "code",
   "execution_count": null,
   "metadata": {},
   "outputs": [],
   "source": [
    "ks_2samp(x_a2, x_b1)"
   ]
  },
  {
   "cell_type": "code",
   "execution_count": null,
   "metadata": {},
   "outputs": [],
   "source": [
    "ks_2samp(x_a2, x_b2)"
   ]
  },
  {
   "cell_type": "code",
   "execution_count": null,
   "metadata": {},
   "outputs": [],
   "source": [
    "ks_2samp(x_a1, x_b2)"
   ]
  },
  {
   "cell_type": "code",
   "execution_count": null,
   "metadata": {},
   "outputs": [],
   "source": [
    "ks_2samp(x_b1, x_b2)"
   ]
  },
  {
   "cell_type": "code",
   "execution_count": null,
   "metadata": {},
   "outputs": [],
   "source": [
    "multivariate_a1.pdf((multivariate_a1.rvs())), multivariate_a1.pdf((multivariate_a2.rvs()))"
   ]
  },
  {
   "cell_type": "code",
   "execution_count": null,
   "metadata": {},
   "outputs": [],
   "source": [
    "multivariate_a2.pdf((multivariate_b1.rvs())), multivariate_a1.pdf((multivariate_b2.rvs()))"
   ]
  },
  {
   "cell_type": "code",
   "execution_count": null,
   "metadata": {},
   "outputs": [],
   "source": []
  }
 ],
 "metadata": {
  "interpreter": {
   "hash": "20095610f18a3268815da2e700e8452467ae104b71ca0ca74a40afa76fc500a6"
  },
  "kernelspec": {
   "display_name": "Python 3",
   "language": "python",
   "name": "python3"
  },
  "language_info": {
   "codemirror_mode": {
    "name": "ipython",
    "version": 3
   },
   "file_extension": ".py",
   "mimetype": "text/x-python",
   "name": "python",
   "nbconvert_exporter": "python",
   "pygments_lexer": "ipython3",
   "version": "3.7.6"
  }
 },
 "nbformat": 4,
 "nbformat_minor": 2
}
