{
 "cells": [
  {
   "cell_type": "code",
   "execution_count": 1,
   "metadata": {},
   "outputs": [
    {
     "name": "stderr",
     "output_type": "stream",
     "text": [
      "WARNING:root:Limited tf.compat.v2.summary API due to missing TensorBoard installation.\n",
      "WARNING:root:Limited tf.compat.v2.summary API due to missing TensorBoard installation.\n",
      "WARNING:root:Limited tf.compat.v2.summary API due to missing TensorBoard installation.\n",
      "WARNING:root:Limited tf.summary API due to missing TensorBoard installation.\n"
     ]
    }
   ],
   "source": [
    "# prerequisites\n",
    "from tensorflow.keras.datasets import mnist\n",
    "from tensorflow.keras.layers import Input, Dense, Lambda\n",
    "from tensorflow.keras.models import Model\n",
    "from tensorflow.keras import backend as K\n",
    "from tensorflow.keras.losses import binary_crossentropy\n",
    "\n",
    "from scipy.stats import norm\n",
    "from scipy import stats as sps \n",
    "import scipy\n",
    "from scipy.spatial import distance\n",
    "from scipy.stats import ks_2samp\n",
    "from scipy.stats import multivariate_normal\n",
    "\n",
    "import random\n",
    "import numpy as np\n",
    "import os\n",
    "import matplotlib.pyplot as plt\n",
    "from tqdm import tqdm\n",
    "import math"
   ]
  },
  {
   "cell_type": "code",
   "execution_count": 2,
   "metadata": {},
   "outputs": [
    {
     "name": "stdout",
     "output_type": "stream",
     "text": [
      "(60000, 784) (10000, 784)\n"
     ]
    }
   ],
   "source": [
    "# data load\n",
    "(x_tr, y_tr), (x_te, y_te) = mnist.load_data()\n",
    "x_tr, x_te = x_tr.astype('float32')/255., x_te.astype('float32')/255.\n",
    "x_tr, x_te = x_tr.reshape(x_tr.shape[0], -1), x_te.reshape(x_te.shape[0], -1)\n",
    "print(x_tr.shape, x_te.shape)\n",
    "\n",
    "# network parameters\n",
    "batch_size, n_epoch = 101, 100\n",
    "n_hidden, z_dim = 256, 4"
   ]
  },
  {
   "cell_type": "code",
   "execution_count": 3,
   "metadata": {},
   "outputs": [
    {
     "name": "stderr",
     "output_type": "stream",
     "text": [
      "C:\\Users\\PC\\anaconda3\\lib\\site-packages\\ipykernel_launcher.py:20: VisibleDeprecationWarning: Creating an ndarray from ragged nested sequences (which is a list-or-tuple of lists-or-tuples-or ndarrays with different lengths or shapes) is deprecated. If you meant to do this, you must specify 'dtype=object' when creating the ndarray\n",
      "C:\\Users\\PC\\anaconda3\\lib\\site-packages\\ipykernel_launcher.py:21: VisibleDeprecationWarning: Creating an ndarray from ragged nested sequences (which is a list-or-tuple of lists-or-tuples-or ndarrays with different lengths or shapes) is deprecated. If you meant to do this, you must specify 'dtype=object' when creating the ndarray\n"
     ]
    }
   ],
   "source": [
    "x_f, y_f = [], [] \n",
    "rmv_idx = []\n",
    "\n",
    "for i in range(10): \n",
    "    if i % 2 != 0: \n",
    "        \n",
    "        # 1,3,5,7,9 \n",
    "        idf_i = list(np.where(y_tr == i)[0]) \n",
    "        \n",
    "        y_f.append([i]*len(idf_i))\n",
    "        x_f.append(x_tr[idf_i]) \n",
    "        \n",
    "            \n",
    "        # remove elements by index list \n",
    "        rmv_idx += idf_i\n",
    "             \n",
    "x_tr = np.delete(x_tr, rmv_idx, axis=0) \n",
    "y_tr = np.delete(y_tr, rmv_idx, axis=0) \n",
    "        \n",
    "x_f = np.array(x_f) \n",
    "y_f = np.array(y_f)"
   ]
  },
  {
   "cell_type": "code",
   "execution_count": 4,
   "metadata": {},
   "outputs": [
    {
     "name": "stdout",
     "output_type": "stream",
     "text": [
      "(29492, 784) (10000, 784)\n"
     ]
    }
   ],
   "source": [
    "print(x_tr.shape, x_te.shape)"
   ]
  },
  {
   "cell_type": "code",
   "execution_count": 5,
   "metadata": {},
   "outputs": [],
   "source": [
    "# encoder\n",
    "x = Input(shape=(x_tr.shape[1:]))\n",
    "x_encoded = Dense(n_hidden, activation='relu')(x)\n",
    "x_encoded = Dense(n_hidden//2, activation='relu')(x_encoded)\n",
    "\n",
    "mu = Dense(z_dim)(x_encoded)\n",
    "log_var = Dense(z_dim)(x_encoded)"
   ]
  },
  {
   "cell_type": "code",
   "execution_count": 6,
   "metadata": {},
   "outputs": [],
   "source": [
    "# sampling function\n",
    "def sampling(args):\n",
    "    mu, log_var = args\n",
    "    eps = K.random_normal(shape=(batch_size, z_dim), mean=0., stddev=1.0)\n",
    "    return mu + K.exp(log_var) * eps\n",
    "\n",
    "z = Lambda(sampling, output_shape=(z_dim,))([mu, log_var])"
   ]
  },
  {
   "cell_type": "code",
   "execution_count": 7,
   "metadata": {},
   "outputs": [],
   "source": [
    "# decoder\n",
    "z_decoder1 = Dense(n_hidden//2, activation='relu')\n",
    "z_decoder2 = Dense(n_hidden, activation='relu')\n",
    "y_decoder = Dense(x_tr.shape[1], activation='sigmoid')\n",
    "\n",
    "z_decoded = z_decoder1(z)\n",
    "z_decoded = z_decoder2(z_decoded)\n",
    "y = y_decoder(z_decoded)"
   ]
  },
  {
   "cell_type": "code",
   "execution_count": 8,
   "metadata": {},
   "outputs": [
    {
     "name": "stdout",
     "output_type": "stream",
     "text": [
      "Model: \"model\"\n",
      "__________________________________________________________________________________________________\n",
      "Layer (type)                    Output Shape         Param #     Connected to                     \n",
      "==================================================================================================\n",
      "input_1 (InputLayer)            [(None, 784)]        0                                            \n",
      "__________________________________________________________________________________________________\n",
      "dense (Dense)                   (None, 256)          200960      input_1[0][0]                    \n",
      "__________________________________________________________________________________________________\n",
      "dense_1 (Dense)                 (None, 128)          32896       dense[0][0]                      \n",
      "__________________________________________________________________________________________________\n",
      "dense_2 (Dense)                 (None, 4)            516         dense_1[0][0]                    \n",
      "__________________________________________________________________________________________________\n",
      "dense_3 (Dense)                 (None, 4)            516         dense_1[0][0]                    \n",
      "__________________________________________________________________________________________________\n",
      "lambda (Lambda)                 (101, 4)             0           dense_2[0][0]                    \n",
      "                                                                 dense_3[0][0]                    \n",
      "__________________________________________________________________________________________________\n",
      "dense_4 (Dense)                 (101, 128)           640         lambda[0][0]                     \n",
      "__________________________________________________________________________________________________\n",
      "dense_5 (Dense)                 (101, 256)           33024       dense_4[0][0]                    \n",
      "__________________________________________________________________________________________________\n",
      "dense_6 (Dense)                 (101, 784)           201488      dense_5[0][0]                    \n",
      "__________________________________________________________________________________________________\n",
      "tf.math.square (TFOpLambda)     (None, 4)            0           dense_2[0][0]                    \n",
      "__________________________________________________________________________________________________\n",
      "tf.math.exp (TFOpLambda)        (None, 4)            0           dense_3[0][0]                    \n",
      "__________________________________________________________________________________________________\n",
      "tf.__operators__.add (TFOpLambd (None, 4)            0           tf.math.square[0][0]             \n",
      "                                                                 tf.math.exp[0][0]                \n",
      "__________________________________________________________________________________________________\n",
      "tf.cast (TFOpLambda)            (None, 784)          0           input_1[0][0]                    \n",
      "__________________________________________________________________________________________________\n",
      "tf.convert_to_tensor (TFOpLambd (101, 784)           0           dense_6[0][0]                    \n",
      "__________________________________________________________________________________________________\n",
      "tf.math.subtract (TFOpLambda)   (None, 4)            0           tf.__operators__.add[0][0]       \n",
      "                                                                 dense_3[0][0]                    \n",
      "__________________________________________________________________________________________________\n",
      "tf.keras.backend.binary_crossen (101, 784)           0           tf.cast[0][0]                    \n",
      "                                                                 tf.convert_to_tensor[0][0]       \n",
      "__________________________________________________________________________________________________\n",
      "tf.math.subtract_1 (TFOpLambda) (None, 4)            0           tf.math.subtract[0][0]           \n",
      "__________________________________________________________________________________________________\n",
      "tf.math.reduce_mean (TFOpLambda (101,)               0           tf.keras.backend.binary_crossentr\n",
      "__________________________________________________________________________________________________\n",
      "tf.math.reduce_sum (TFOpLambda) (None,)              0           tf.math.subtract_1[0][0]         \n",
      "__________________________________________________________________________________________________\n",
      "tf.math.multiply (TFOpLambda)   (101,)               0           tf.math.reduce_mean[0][0]        \n",
      "__________________________________________________________________________________________________\n",
      "tf.math.multiply_1 (TFOpLambda) (None,)              0           tf.math.reduce_sum[0][0]         \n",
      "__________________________________________________________________________________________________\n",
      "tf.__operators__.add_1 (TFOpLam (101,)               0           tf.math.multiply[0][0]           \n",
      "                                                                 tf.math.multiply_1[0][0]         \n",
      "__________________________________________________________________________________________________\n",
      "add_loss (AddLoss)              (101,)               0           tf.__operators__.add_1[0][0]     \n",
      "==================================================================================================\n",
      "Total params: 470,040\n",
      "Trainable params: 470,040\n",
      "Non-trainable params: 0\n",
      "__________________________________________________________________________________________________\n"
     ]
    }
   ],
   "source": [
    "# loss\n",
    "reconstruction_loss = binary_crossentropy(x, y) * x_tr.shape[1]\n",
    "kl_loss = 0.5 * K.sum(K.square(mu) + K.exp(log_var) - log_var - 1, axis = -1)\n",
    "vae_loss = reconstruction_loss + kl_loss\n",
    "\n",
    "# build model\n",
    "vae = Model(x, y)\n",
    "vae.add_loss(vae_loss)\n",
    "vae.compile(optimizer='rmsprop')\n",
    "vae.summary()"
   ]
  },
  {
   "cell_type": "code",
   "execution_count": 9,
   "metadata": {},
   "outputs": [
    {
     "name": "stdout",
     "output_type": "stream",
     "text": [
      "Epoch 1/100\n",
      "292/292 [==============================] - 3s 6ms/step - loss: 357.3986\n",
      "Epoch 2/100\n",
      "292/292 [==============================] - 2s 6ms/step - loss: 164.6521\n",
      "Epoch 3/100\n",
      "292/292 [==============================] - 2s 6ms/step - loss: 151.4699\n",
      "Epoch 4/100\n",
      "292/292 [==============================] - 2s 6ms/step - loss: 146.6147\n",
      "Epoch 5/100\n",
      "292/292 [==============================] - 2s 6ms/step - loss: 143.0417\n",
      "Epoch 6/100\n",
      "292/292 [==============================] - 2s 6ms/step - loss: 140.8013\n",
      "Epoch 7/100\n",
      "292/292 [==============================] - 2s 6ms/step - loss: 138.7397\n",
      "Epoch 8/100\n",
      "292/292 [==============================] - 2s 6ms/step - loss: 136.8858\n",
      "Epoch 9/100\n",
      "292/292 [==============================] - 2s 6ms/step - loss: 135.6810\n",
      "Epoch 10/100\n",
      "292/292 [==============================] - 2s 6ms/step - loss: 134.4334\n",
      "Epoch 11/100\n",
      "292/292 [==============================] - 2s 6ms/step - loss: 133.7819\n",
      "Epoch 12/100\n",
      "292/292 [==============================] - 2s 6ms/step - loss: 132.5335\n",
      "Epoch 13/100\n",
      "292/292 [==============================] - 2s 6ms/step - loss: 131.9603\n",
      "Epoch 14/100\n",
      "292/292 [==============================] - 2s 6ms/step - loss: 131.0880\n",
      "Epoch 15/100\n",
      "292/292 [==============================] - 2s 6ms/step - loss: 130.4400\n",
      "Epoch 16/100\n",
      "292/292 [==============================] - 2s 6ms/step - loss: 129.9565\n",
      "Epoch 17/100\n",
      "292/292 [==============================] - 2s 6ms/step - loss: 129.0319\n",
      "Epoch 18/100\n",
      "292/292 [==============================] - 2s 6ms/step - loss: 129.1742\n",
      "Epoch 19/100\n",
      "292/292 [==============================] - 2s 7ms/step - loss: 128.4124\n",
      "Epoch 20/100\n",
      "292/292 [==============================] - 2s 6ms/step - loss: 128.1347\n",
      "Epoch 21/100\n",
      "292/292 [==============================] - 2s 6ms/step - loss: 127.8608\n",
      "Epoch 22/100\n",
      "292/292 [==============================] - 2s 6ms/step - loss: 127.5603\n",
      "Epoch 23/100\n",
      "292/292 [==============================] - 2s 6ms/step - loss: 127.2537\n",
      "Epoch 24/100\n",
      "292/292 [==============================] - 2s 6ms/step - loss: 127.0005\n",
      "Epoch 25/100\n",
      "292/292 [==============================] - 2s 6ms/step - loss: 126.3896\n",
      "Epoch 26/100\n",
      "292/292 [==============================] - 2s 6ms/step - loss: 126.2340\n",
      "Epoch 27/100\n",
      "292/292 [==============================] - 2s 6ms/step - loss: 126.2304\n",
      "Epoch 28/100\n",
      "292/292 [==============================] - 2s 6ms/step - loss: 125.5931\n",
      "Epoch 29/100\n",
      "292/292 [==============================] - 2s 6ms/step - loss: 125.6552\n",
      "Epoch 30/100\n",
      "292/292 [==============================] - 2s 6ms/step - loss: 125.4212\n",
      "Epoch 31/100\n",
      "292/292 [==============================] - 2s 6ms/step - loss: 125.7914\n",
      "Epoch 32/100\n",
      "292/292 [==============================] - 2s 6ms/step - loss: 125.2023\n",
      "Epoch 33/100\n",
      "292/292 [==============================] - 2s 7ms/step - loss: 124.6623\n",
      "Epoch 34/100\n",
      "292/292 [==============================] - 2s 6ms/step - loss: 124.7094\n",
      "Epoch 35/100\n",
      "292/292 [==============================] - 2s 6ms/step - loss: 124.7778\n",
      "Epoch 36/100\n",
      "292/292 [==============================] - 2s 6ms/step - loss: 124.1121\n",
      "Epoch 37/100\n",
      "292/292 [==============================] - 2s 6ms/step - loss: 124.1459\n",
      "Epoch 38/100\n",
      "292/292 [==============================] - 2s 6ms/step - loss: 124.1474\n",
      "Epoch 39/100\n",
      "292/292 [==============================] - 2s 6ms/step - loss: 124.4597\n",
      "Epoch 40/100\n",
      "292/292 [==============================] - 2s 7ms/step - loss: 124.4464\n",
      "Epoch 41/100\n",
      "292/292 [==============================] - 2s 6ms/step - loss: 123.7712\n",
      "Epoch 42/100\n",
      "292/292 [==============================] - 2s 7ms/step - loss: 123.6909\n",
      "Epoch 43/100\n",
      "292/292 [==============================] - 2s 7ms/step - loss: 123.7145\n",
      "Epoch 44/100\n",
      "292/292 [==============================] - 2s 6ms/step - loss: 123.6695\n",
      "Epoch 45/100\n",
      "292/292 [==============================] - 2s 7ms/step - loss: 123.4775\n",
      "Epoch 46/100\n",
      "292/292 [==============================] - 2s 7ms/step - loss: 123.7041\n",
      "Epoch 47/100\n",
      "292/292 [==============================] - 2s 6ms/step - loss: 123.0590\n",
      "Epoch 48/100\n",
      "292/292 [==============================] - 2s 6ms/step - loss: 122.9533\n",
      "Epoch 49/100\n",
      "292/292 [==============================] - 2s 6ms/step - loss: 123.0552\n",
      "Epoch 50/100\n",
      "292/292 [==============================] - 2s 6ms/step - loss: 123.0011\n",
      "Epoch 51/100\n",
      "292/292 [==============================] - 2s 7ms/step - loss: 122.9060\n",
      "Epoch 52/100\n",
      "292/292 [==============================] - 2s 6ms/step - loss: 122.5761\n",
      "Epoch 53/100\n",
      "292/292 [==============================] - 2s 6ms/step - loss: 122.3735\n",
      "Epoch 54/100\n",
      "292/292 [==============================] - 2s 7ms/step - loss: 122.3956\n",
      "Epoch 55/100\n",
      "292/292 [==============================] - 2s 7ms/step - loss: 122.6034\n",
      "Epoch 56/100\n",
      "292/292 [==============================] - 2s 6ms/step - loss: 122.3019\n",
      "Epoch 57/100\n",
      "292/292 [==============================] - 2s 6ms/step - loss: 122.1057\n",
      "Epoch 58/100\n",
      "292/292 [==============================] - 2s 7ms/step - loss: 122.3883\n",
      "Epoch 59/100\n",
      "292/292 [==============================] - 2s 6ms/step - loss: 122.1114\n",
      "Epoch 60/100\n",
      "292/292 [==============================] - 2s 6ms/step - loss: 122.1287\n",
      "Epoch 61/100\n",
      "292/292 [==============================] - 2s 6ms/step - loss: 122.0728\n",
      "Epoch 62/100\n",
      "292/292 [==============================] - 2s 7ms/step - loss: 121.8931\n",
      "Epoch 63/100\n",
      "292/292 [==============================] - 2s 6ms/step - loss: 121.9047\n",
      "Epoch 64/100\n",
      "292/292 [==============================] - 2s 6ms/step - loss: 121.7198\n",
      "Epoch 65/100\n",
      "292/292 [==============================] - 2s 6ms/step - loss: 121.4994\n",
      "Epoch 66/100\n",
      "292/292 [==============================] - 2s 6ms/step - loss: 121.9023\n",
      "Epoch 67/100\n",
      "292/292 [==============================] - 2s 7ms/step - loss: 121.9281\n",
      "Epoch 68/100\n",
      "292/292 [==============================] - 2s 6ms/step - loss: 121.6495\n",
      "Epoch 69/100\n",
      "292/292 [==============================] - 2s 6ms/step - loss: 121.4776\n",
      "Epoch 70/100\n",
      "292/292 [==============================] - 2s 7ms/step - loss: 121.7913\n",
      "Epoch 71/100\n",
      "292/292 [==============================] - 2s 6ms/step - loss: 121.6308\n",
      "Epoch 72/100\n",
      "292/292 [==============================] - 2s 7ms/step - loss: 121.5485\n",
      "Epoch 73/100\n",
      "292/292 [==============================] - 2s 6ms/step - loss: 121.4609\n",
      "Epoch 74/100\n",
      "292/292 [==============================] - 2s 6ms/step - loss: 121.0839\n",
      "Epoch 75/100\n",
      "292/292 [==============================] - 2s 6ms/step - loss: 121.2493\n",
      "Epoch 76/100\n",
      "292/292 [==============================] - 2s 6ms/step - loss: 120.9493\n",
      "Epoch 77/100\n",
      "292/292 [==============================] - 2s 6ms/step - loss: 121.0174\n",
      "Epoch 78/100\n",
      "292/292 [==============================] - 2s 7ms/step - loss: 120.6390\n",
      "Epoch 79/100\n",
      "292/292 [==============================] - 2s 7ms/step - loss: 121.1956\n",
      "Epoch 80/100\n",
      "292/292 [==============================] - 2s 6ms/step - loss: 121.1660\n",
      "Epoch 81/100\n",
      "292/292 [==============================] - 2s 6ms/step - loss: 120.7780\n",
      "Epoch 82/100\n",
      "292/292 [==============================] - 2s 6ms/step - loss: 120.7959\n",
      "Epoch 83/100\n",
      "292/292 [==============================] - 2s 6ms/step - loss: 120.9246\n",
      "Epoch 84/100\n",
      "292/292 [==============================] - 2s 6ms/step - loss: 120.6959\n",
      "Epoch 85/100\n",
      "292/292 [==============================] - 2s 6ms/step - loss: 120.6992\n",
      "Epoch 86/100\n",
      "292/292 [==============================] - 2s 6ms/step - loss: 120.5196\n",
      "Epoch 87/100\n",
      "292/292 [==============================] - 2s 6ms/step - loss: 120.5989\n",
      "Epoch 88/100\n",
      "292/292 [==============================] - 2s 6ms/step - loss: 121.0198\n",
      "Epoch 89/100\n",
      "292/292 [==============================] - 2s 6ms/step - loss: 120.5673\n",
      "Epoch 90/100\n",
      "292/292 [==============================] - 2s 6ms/step - loss: 120.7175\n",
      "Epoch 91/100\n",
      "292/292 [==============================] - 2s 6ms/step - loss: 120.4979\n",
      "Epoch 92/100\n",
      "292/292 [==============================] - 2s 6ms/step - loss: 120.6211\n",
      "Epoch 93/100\n",
      "292/292 [==============================] - 2s 6ms/step - loss: 120.4876\n",
      "Epoch 94/100\n",
      "292/292 [==============================] - 2s 6ms/step - loss: 120.4800\n",
      "Epoch 95/100\n",
      "292/292 [==============================] - 2s 6ms/step - loss: 120.5448\n",
      "Epoch 96/100\n",
      "292/292 [==============================] - 2s 6ms/step - loss: 120.2515\n",
      "Epoch 97/100\n"
     ]
    },
    {
     "name": "stdout",
     "output_type": "stream",
     "text": [
      "292/292 [==============================] - 2s 6ms/step - loss: 120.5342\n",
      "Epoch 98/100\n",
      "292/292 [==============================] - 2s 6ms/step - loss: 120.1667\n",
      "Epoch 99/100\n",
      "292/292 [==============================] - 2s 6ms/step - loss: 120.2921\n",
      "Epoch 100/100\n",
      "292/292 [==============================] - 2s 6ms/step - loss: 120.3675\n"
     ]
    },
    {
     "data": {
      "text/plain": [
       "<tensorflow.python.keras.callbacks.History at 0x19d94731748>"
      ]
     },
     "execution_count": 9,
     "metadata": {},
     "output_type": "execute_result"
    }
   ],
   "source": [
    "# train\n",
    "vae.fit(x_tr,\n",
    "       shuffle=True,\n",
    "       epochs=n_epoch,\n",
    "       batch_size=batch_size,\n",
    "       verbose=1)"
   ]
  },
  {
   "cell_type": "code",
   "execution_count": 10,
   "metadata": {},
   "outputs": [
    {
     "name": "stdout",
     "output_type": "stream",
     "text": [
      "Model: \"model_1\"\n",
      "_________________________________________________________________\n",
      "Layer (type)                 Output Shape              Param #   \n",
      "=================================================================\n",
      "input_1 (InputLayer)         [(None, 784)]             0         \n",
      "_________________________________________________________________\n",
      "dense (Dense)                (None, 256)               200960    \n",
      "_________________________________________________________________\n",
      "dense_1 (Dense)              (None, 128)               32896     \n",
      "_________________________________________________________________\n",
      "dense_2 (Dense)              (None, 4)                 516       \n",
      "=================================================================\n",
      "Total params: 234,372\n",
      "Trainable params: 234,372\n",
      "Non-trainable params: 0\n",
      "_________________________________________________________________\n"
     ]
    }
   ],
   "source": [
    "# build encoder\n",
    "encoder = Model(x, mu)\n",
    "encoder.summary()"
   ]
  },
  {
   "cell_type": "code",
   "execution_count": 11,
   "metadata": {},
   "outputs": [
    {
     "data": {
      "image/png": "[encoded data removed]",
      "text/plain": [
       "<Figure size 432x432 with 2 Axes>"
      ]
     },
     "metadata": {
      "needs_background": "light"
     },
     "output_type": "display_data"
    }
   ],
   "source": [
    "# Plot of the digit classes in the latent space\n",
    "x_te_latent = encoder.predict(x_te, batch_size=batch_size)\n",
    "plt.figure(figsize=(6, 6))\n",
    "plt.scatter(x_te_latent[:, 0], x_te_latent[:, 1], c=y_te)\n",
    "plt.colorbar()\n",
    "plt.show()"
   ]
  },
  {
   "cell_type": "code",
   "execution_count": 12,
   "metadata": {},
   "outputs": [
    {
     "name": "stdout",
     "output_type": "stream",
     "text": [
      "Model: \"model_2\"\n",
      "_________________________________________________________________\n",
      "Layer (type)                 Output Shape              Param #   \n",
      "=================================================================\n",
      "input_2 (InputLayer)         [(None, 4)]               0         \n",
      "_________________________________________________________________\n",
      "dense_4 (Dense)              multiple                  640       \n",
      "_________________________________________________________________\n",
      "dense_5 (Dense)              multiple                  33024     \n",
      "_________________________________________________________________\n",
      "dense_6 (Dense)              multiple                  201488    \n",
      "=================================================================\n",
      "Total params: 235,152\n",
      "Trainable params: 235,152\n",
      "Non-trainable params: 0\n",
      "_________________________________________________________________\n"
     ]
    }
   ],
   "source": [
    "# build decoder\n",
    "decoder_input = Input(shape=(z_dim,))\n",
    "_z_decoded = z_decoder1(decoder_input)\n",
    "_z_decoded = z_decoder2(_z_decoded)\n",
    "_y = y_decoder(_z_decoded)\n",
    "\n",
    "generator = Model(decoder_input, _y)\n",
    "generator.summary()"
   ]
  },
  {
   "cell_type": "code",
   "execution_count": 13,
   "metadata": {},
   "outputs": [
    {
     "data": {
      "image/png": "[encoded data removed]",
      "text/plain": [
       "<Figure size 720x720 with 1 Axes>"
      ]
     },
     "metadata": {
      "needs_background": "light"
     },
     "output_type": "display_data"
    }
   ],
   "source": [
    "# display a 2D manifold of the digits\n",
    "n = 5 # figure with 15x15 digits\n",
    "digit_size = 28\n",
    "figure = np.zeros((digit_size * n, digit_size * n))\n",
    "\n",
    "grid_x = norm.ppf(np.linspace(0.05, 0.95, n)) \n",
    "grid_y = norm.ppf(np.linspace(0.05, 0.95, n))\n",
    "\n",
    "for i, yi in enumerate(grid_x):\n",
    "    for j, xi in enumerate(grid_y):\n",
    "        z_sample = np.array([[xi, yi,xi, yi]])\n",
    "        x_decoded = generator.predict(z_sample)\n",
    "        digit = x_decoded[0].reshape(digit_size, digit_size)\n",
    "        figure[i * digit_size: (i + 1) * digit_size,\n",
    "               j * digit_size: (j + 1) * digit_size] = digit\n",
    "\n",
    "plt.figure(figsize=(10, 10))\n",
    "plt.imshow(figure, cmap='Greys_r')\n",
    "plt.show()"
   ]
  },
  {
   "cell_type": "markdown",
   "metadata": {},
   "source": [
    "# Few Shot Sampling"
   ]
  },
  {
   "cell_type": "code",
   "execution_count": 14,
   "metadata": {},
   "outputs": [],
   "source": [
    "# https://github.com/Michedev/VAE_anomaly_detection/blob/0a9eb14b7df226e8195c77d145a0f586ecbb6d67/VAE.py#L7\n",
    "def softplus(x):\n",
    "    return np.log(1+np.exp(x))\n",
    "\n",
    "from dictances import bhattacharyya, bhattacharyya_coefficient"
   ]
  },
  {
   "cell_type": "code",
   "execution_count": 15,
   "metadata": {},
   "outputs": [
    {
     "name": "stdout",
     "output_type": "stream",
     "text": [
      "Model: \"model_3\"\n",
      "__________________________________________________________________________________________________\n",
      "Layer (type)                    Output Shape         Param #     Connected to                     \n",
      "==================================================================================================\n",
      "input_1 (InputLayer)            [(None, 784)]        0                                            \n",
      "__________________________________________________________________________________________________\n",
      "dense (Dense)                   (None, 256)          200960      input_1[0][0]                    \n",
      "__________________________________________________________________________________________________\n",
      "dense_1 (Dense)                 (None, 128)          32896       dense[0][0]                      \n",
      "__________________________________________________________________________________________________\n",
      "dense_2 (Dense)                 (None, 4)            516         dense_1[0][0]                    \n",
      "__________________________________________________________________________________________________\n",
      "dense_3 (Dense)                 (None, 4)            516         dense_1[0][0]                    \n",
      "==================================================================================================\n",
      "Total params: 234,888\n",
      "Trainable params: 234,888\n",
      "Non-trainable params: 0\n",
      "__________________________________________________________________________________________________\n"
     ]
    }
   ],
   "source": [
    "# build model\n",
    "vae_enc = Model(x, [mu, log_var])\n",
    "\n",
    "vae_enc.summary()"
   ]
  },
  {
   "cell_type": "code",
   "execution_count": 16,
   "metadata": {},
   "outputs": [
    {
     "name": "stdout",
     "output_type": "stream",
     "text": [
      "[1, 3, 5, 7, 9]\n"
     ]
    }
   ],
   "source": [
    "test_classes = []\n",
    "\n",
    "for i in range(y_f.shape[0]):\n",
    "    test_classes.append(y_f[i][0])\n",
    "    \n",
    "print(test_classes)"
   ]
  },
  {
   "cell_type": "code",
   "execution_count": 17,
   "metadata": {},
   "outputs": [],
   "source": [
    "# Mahalanobis Distance\n",
    "def mahalanobis(x=None, mean=None, cov=None):\n",
    "\n",
    "    x_mu = x - mean\n",
    "    inv_covmat = np.linalg.inv(cov)\n",
    "    \n",
    "    left = np.dot(x_mu, inv_covmat)\n",
    "        \n",
    "    mahal = np.dot(left, x_mu.T)\n",
    "        \n",
    "    return mahal"
   ]
  },
  {
   "cell_type": "code",
   "execution_count": 20,
   "metadata": {},
   "outputs": [
    {
     "name": "stderr",
     "output_type": "stream",
     "text": [
      "100%|██████████████████████████████████████████████████████████████████████████████| 1200/1200 [04:23<00:00,  4.55it/s]\n"
     ]
    }
   ],
   "source": [
    "n_way = 4 # number of classes\n",
    "n_shot = 1 # number of samples per class\n",
    "\n",
    "n_trial = 0\n",
    "n_true = 0\n",
    "n_false = 0\n",
    "\n",
    "n_test = 1200\n",
    "\n",
    "for ntest in tqdm(range(n_test)):\n",
    "    #print(\"Test Classes: {}\".format(test_classes))\n",
    "\n",
    "    test_images = []\n",
    "    test_gt_labels = []\n",
    "\n",
    "\n",
    "    train_images = []\n",
    "    train_gt_labels = []\n",
    "\n",
    "    class_selector = random.sample(range(1, len(test_classes)), n_way)\n",
    "    ways = []\n",
    "\n",
    "    for i in class_selector:\n",
    "        ways.append(test_classes[i])\n",
    "\n",
    "    #print(\"Selected Indices: {}\".format(class_selector))\n",
    "    #print(\"Selected Classes: {}\".format(ways))\n",
    "\n",
    "\n",
    "    for cls_idx in class_selector:\n",
    "\n",
    "        class_label = test_classes[cls_idx]\n",
    "        x_sample_idx = random.sample(range(0, x_f[cls_idx].shape[0]), n_shot+1)\n",
    "\n",
    "        for c, idx in enumerate(x_sample_idx):\n",
    "\n",
    "            x_sample = x_f[cls_idx][idx].reshape(-1,784)\n",
    "\n",
    "            if c == len(x_sample_idx) - 1:\n",
    "                test_images.append(x_sample)\n",
    "                test_gt_labels.append(class_label)\n",
    "            else:\n",
    "                train_images.append(x_sample)\n",
    "                train_gt_labels.append(class_label)          \n",
    "\n",
    "\n",
    "    train_mus = []\n",
    "    train_vars = []\n",
    "\n",
    "    for image in train_images:\n",
    "        res = vae_enc.predict(image)\n",
    "        mu_val = res[0][0]\n",
    "        var_val = res[1][0]\n",
    "\n",
    "        train_mus.append(mu_val)\n",
    "        train_vars.append(np.exp(var_val))\n",
    "\n",
    "\n",
    "    test_mus = []\n",
    "    test_vars = []\n",
    "\n",
    "    for image in test_images:\n",
    "        res = vae_enc.predict(image)\n",
    "        mu_val = res[0][0]\n",
    "        var_val = res[1][0]\n",
    "\n",
    "        test_mus.append(mu_val)\n",
    "        test_vars.append(np.exp(var_val))\n",
    "\n",
    "    # Averaging mean's and mu's for each class\n",
    "    alpha = 1 / n_shot\n",
    "    avg_train_mus = []\n",
    "    avg_train_vars = []\n",
    "\n",
    "    c = 0\n",
    "    sum_mean = 0.0\n",
    "    sum_var = [0.0] * z_dim\n",
    "    for i in range(len(train_mus)):    \n",
    "\n",
    "        if c <= n_shot-1:\n",
    "            sum_mean += (alpha * train_mus[i])\n",
    "            weighted_train_var = [ (x)*(alpha**2) for x in train_vars[i] ]\n",
    "\n",
    "            for i in range(len(weighted_train_var)):\n",
    "                sum_var[i] = sum_var[i] + weighted_train_var[i]\n",
    "\n",
    "            c += 1\n",
    "\n",
    "            if c == n_shot:\n",
    "                avg_train_mus.append(sum_mean)\n",
    "                avg_train_vars.append(sum_var)\n",
    "\n",
    "                sum_mean = 0.0\n",
    "                sum_var = [0.0] * z_dim\n",
    "\n",
    "                c = 0\n",
    "\n",
    "    #print(train_mus, train_vars)\n",
    "    #print(avg_train_mus, avg_train_vars)\n",
    "\n",
    "    test_pred_labels= []\n",
    "    for i in range(len(test_mus)):\n",
    "        test_dist = scipy.stats.multivariate_normal(test_mus[i], np.diag(test_vars[i]))\n",
    "\n",
    "        local_scores = []\n",
    "        for j in range(len(avg_train_mus)):\n",
    "            scr = mahalanobis(test_dist.rvs(), avg_train_mus[j], np.diag(avg_train_vars[j]))\n",
    "\n",
    "            local_scores.append(scr)\n",
    "\n",
    "        # get the minimum mahalanobis distance\n",
    "        pred_cls_idx = np.argmin(local_scores)\n",
    "        test_pred_labels.append(ways[pred_cls_idx])\n",
    "\n",
    "\n",
    "    for i in range(len(test_gt_labels)):\n",
    "        if test_gt_labels[i] == test_pred_labels[i]:\n",
    "            n_true += 1\n",
    "        else:\n",
    "            n_false += 1\n",
    "\n",
    "        n_trial += 1"
   ]
  },
  {
   "cell_type": "code",
   "execution_count": 21,
   "metadata": {},
   "outputs": [
    {
     "name": "stdout",
     "output_type": "stream",
     "text": [
      "Acc: 0.43042 in 1200 different trials\n"
     ]
    }
   ],
   "source": [
    "print(\"Acc: {:.5f} in {} different trials\".format(n_true/n_trial, n_test))"
   ]
  },
  {
   "cell_type": "markdown",
   "metadata": {},
   "source": [
    "#####\n",
    "#####\n",
    "#####"
   ]
  },
  {
   "cell_type": "code",
   "execution_count": null,
   "metadata": {},
   "outputs": [],
   "source": [
    "# output of test images in terms of mu,sigma\n",
    "test_0 = scipy.stats.multivariate_normal(test_mus[0], np.diag(test_vars[0]))\n",
    "test_1 = scipy.stats.multivariate_normal(test_mus[1], np.diag(test_vars[1]))\n",
    "test_2 = scipy.stats.multivariate_normal(test_mus[2], np.diag(test_vars[2]))\n",
    "\n",
    "print(np.mean(np.sum(sps.multivariate_normal(avg_train_mus[0], avg_train_logvars[0]).pdf(test_2.rvs(1)))))\n",
    "print(np.mean(np.sum(sps.multivariate_normal(avg_train_mus[1], avg_train_logvars[1]).pdf(test_2.rvs(1)))))\n",
    "print(np.mean(np.sum(sps.multivariate_normal(avg_train_mus[2], avg_train_logvars[2]).pdf(test_2.rvs(1)))))"
   ]
  },
  {
   "cell_type": "code",
   "execution_count": null,
   "metadata": {},
   "outputs": [],
   "source": [
    "eps = K.random_normal(shape=(100, z_dim), mean=0., stddev=1.0)\n",
    "\n",
    "dist_a1 = train_mus[0] + K.exp(train_logvars[0]) * eps\n",
    "dist_a2 = train_mus[2] + K.exp(train_logvars[2]) * eps\n",
    "dist_b1 = train_mus[10] + K.exp(train_logvars[10]) * eps\n",
    "dist_b2 = train_mus[14] + K.exp(train_logvars[14]) * eps\n",
    "\n",
    "\n",
    "m_a1, std_a1 = np.mean(np.array(dist_a1)), np.std(np.array(dist_a1))\n",
    "m_a2, std_a2 = np.mean(np.array(dist_a2)), np.std(np.array(dist_a2))\n",
    "m_b1, std_b1 = np.mean(np.array(dist_b1)), np.std(np.array(dist_b1))\n",
    "m_b2, std_b2 = np.mean(np.array(dist_b2)), np.std(np.array(dist_b2))\n",
    "\n",
    "\n",
    "x_a1 = np.random.normal(m_a1, std_a1, 100)\n",
    "x_a2 = np.random.normal(m_a2, std_a2, 100)\n",
    "x_b1 = np.random.normal(m_b1, std_b1, 100)\n",
    "x_b2 = np.random.normal(m_b2, std_b2, 100)\n",
    "\n",
    "\n",
    "#######################\n",
    "multivariate_a1 = scipy.stats.multivariate_normal(train_mus[0], np.diag(np.exp(train_logvars[0])))\n",
    "multivariate_a2 = scipy.stats.multivariate_normal(train_mus[2], np.diag(np.exp(train_logvars[2])))\n",
    "multivariate_b1 = scipy.stats.multivariate_normal(train_mus[10], np.diag(np.exp(train_logvars[10])))\n",
    "multivariate_b2 = scipy.stats.multivariate_normal(train_mus[14], np.diag(np.exp(train_logvars[14])))\n",
    "\n",
    "multivariate_1 = scipy.stats.multivariate_normal(avg_train_mus[0], np.diag(np.exp(avg_train_logvars[0])))\n",
    "multivariate_2 = scipy.stats.multivariate_normal(avg_train_mus[1], np.diag(np.exp(avg_train_logvars[1])))\n",
    "multivariate_3 = scipy.stats.multivariate_normal(avg_train_mus[2], np.diag(np.exp(avg_train_logvars[2])))"
   ]
  },
  {
   "cell_type": "code",
   "execution_count": null,
   "metadata": {
    "scrolled": true
   },
   "outputs": [],
   "source": [
    "test_sample = sps.multivariate_normal.rvs(test_mus[2], np.diag(test_logvars[2]), 10)\n",
    "print(np.mean(multivariate_1.pdf(test_sample)))\n",
    "print(np.mean(multivariate_2.pdf(test_sample)))\n",
    "print(np.mean(multivariate_3.pdf(test_sample)))"
   ]
  },
  {
   "cell_type": "code",
   "execution_count": null,
   "metadata": {},
   "outputs": [],
   "source": [
    "test_sample"
   ]
  },
  {
   "cell_type": "code",
   "execution_count": null,
   "metadata": {},
   "outputs": [],
   "source": [
    "ks_2samp(x_a1, x_a1)"
   ]
  },
  {
   "cell_type": "code",
   "execution_count": null,
   "metadata": {},
   "outputs": [],
   "source": [
    "ks_2samp(x_a1, x_a2)"
   ]
  },
  {
   "cell_type": "code",
   "execution_count": null,
   "metadata": {},
   "outputs": [],
   "source": [
    "ks_2samp(x_a1, x_b1)"
   ]
  },
  {
   "cell_type": "code",
   "execution_count": null,
   "metadata": {},
   "outputs": [],
   "source": [
    "ks_2samp(x_a2, x_b1)"
   ]
  },
  {
   "cell_type": "code",
   "execution_count": null,
   "metadata": {},
   "outputs": [],
   "source": [
    "ks_2samp(x_a2, x_b2)"
   ]
  },
  {
   "cell_type": "code",
   "execution_count": null,
   "metadata": {},
   "outputs": [],
   "source": [
    "ks_2samp(x_a1, x_b2)"
   ]
  },
  {
   "cell_type": "code",
   "execution_count": null,
   "metadata": {},
   "outputs": [],
   "source": [
    "ks_2samp(x_b1, x_b2)"
   ]
  },
  {
   "cell_type": "code",
   "execution_count": null,
   "metadata": {},
   "outputs": [],
   "source": [
    "multivariate_a1.pdf((multivariate_a1.rvs())), multivariate_a1.pdf((multivariate_a2.rvs()))"
   ]
  },
  {
   "cell_type": "code",
   "execution_count": null,
   "metadata": {},
   "outputs": [],
   "source": [
    "multivariate_a2.pdf((multivariate_b1.rvs())), multivariate_a1.pdf((multivariate_b2.rvs()))"
   ]
  },
  {
   "cell_type": "code",
   "execution_count": null,
   "metadata": {},
   "outputs": [],
   "source": []
  }
 ],
 "metadata": {
  "interpreter": {
   "hash": "20095610f18a3268815da2e700e8452467ae104b71ca0ca74a40afa76fc500a6"
  },
  "kernelspec": {
   "display_name": "Python 3",
   "language": "python",
   "name": "python3"
  },
  "language_info": {
   "codemirror_mode": {
    "name": "ipython",
    "version": 3
   },
   "file_extension": ".py",
   "mimetype": "text/x-python",
   "name": "python",
   "nbconvert_exporter": "python",
   "pygments_lexer": "ipython3",
   "version": "3.7.6"
  }
 },
 "nbformat": 4,
 "nbformat_minor": 2
}
