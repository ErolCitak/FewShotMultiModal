{
 "cells": [
  {
   "cell_type": "code",
   "execution_count": 1,
   "metadata": {},
   "outputs": [
    {
     "name": "stderr",
     "output_type": "stream",
     "text": [
      "WARNING:root:Limited tf.compat.v2.summary API due to missing TensorBoard installation.\n",
      "WARNING:root:Limited tf.compat.v2.summary API due to missing TensorBoard installation.\n",
      "WARNING:root:Limited tf.compat.v2.summary API due to missing TensorBoard installation.\n",
      "WARNING:root:Limited tf.summary API due to missing TensorBoard installation.\n"
     ]
    }
   ],
   "source": [
    "# prerequisites\n",
    "from tensorflow.keras.datasets import mnist\n",
    "from tensorflow.keras.layers import Input, Dense, Lambda\n",
    "from tensorflow.keras.models import Model\n",
    "from tensorflow.keras import backend as K\n",
    "from tensorflow.keras.losses import binary_crossentropy\n",
    "\n",
    "from scipy.stats import norm\n",
    "from scipy import stats as sps \n",
    "import scipy\n",
    "from scipy.spatial import distance\n",
    "from scipy.stats import ks_2samp\n",
    "from scipy.stats import multivariate_normal\n",
    "\n",
    "import random\n",
    "import numpy as np\n",
    "import os\n",
    "import matplotlib.pyplot as plt\n",
    "from tqdm import tqdm\n",
    "import math\n",
    "\n",
    "import torch"
   ]
  },
  {
   "cell_type": "code",
   "execution_count": 3,
   "metadata": {},
   "outputs": [
    {
     "name": "stdout",
     "output_type": "stream",
     "text": [
      "(60000, 784) (10000, 784)\n"
     ]
    }
   ],
   "source": [
    "# data load\n",
    "(x_tr, y_tr), (x_te, y_te) = mnist.load_data()\n",
    "x_tr, x_te = x_tr.astype('float32')/255., x_te.astype('float32')/255.\n",
    "x_tr, x_te = x_tr.reshape(x_tr.shape[0], -1), x_te.reshape(x_te.shape[0], -1)\n",
    "print(x_tr.shape, x_te.shape)\n",
    "\n",
    "# network parameters\n",
    "batch_size, n_epoch = 101, 50\n",
    "n_hidden, z_dim = 256, 16"
   ]
  },
  {
   "cell_type": "code",
   "execution_count": 4,
   "metadata": {},
   "outputs": [
    {
     "name": "stderr",
     "output_type": "stream",
     "text": [
      "C:\\Users\\PC\\Anaconda3\\lib\\site-packages\\ipykernel_launcher.py:20: VisibleDeprecationWarning: Creating an ndarray from ragged nested sequences (which is a list-or-tuple of lists-or-tuples-or ndarrays with different lengths or shapes) is deprecated. If you meant to do this, you must specify 'dtype=object' when creating the ndarray\n",
      "C:\\Users\\PC\\Anaconda3\\lib\\site-packages\\ipykernel_launcher.py:21: VisibleDeprecationWarning: Creating an ndarray from ragged nested sequences (which is a list-or-tuple of lists-or-tuples-or ndarrays with different lengths or shapes) is deprecated. If you meant to do this, you must specify 'dtype=object' when creating the ndarray\n"
     ]
    }
   ],
   "source": [
    "x_f, y_f = [], [] \n",
    "rmv_idx = []\n",
    "\n",
    "for i in range(10): \n",
    "    if i % 2 != 0: \n",
    "        \n",
    "        # 1,3,5,7,9 \n",
    "        idf_i = list(np.where(y_tr == i)[0]) \n",
    "        \n",
    "        y_f.append([i]*len(idf_i))\n",
    "        x_f.append(x_tr[idf_i]) \n",
    "        \n",
    "            \n",
    "        # remove elements by index list \n",
    "        rmv_idx += idf_i\n",
    "             \n",
    "x_tr = np.delete(x_tr, rmv_idx, axis=0) \n",
    "y_tr = np.delete(y_tr, rmv_idx, axis=0) \n",
    "        \n",
    "x_f = np.array(x_f) \n",
    "y_f = np.array(y_f)"
   ]
  },
  {
   "cell_type": "code",
   "execution_count": 5,
   "metadata": {},
   "outputs": [
    {
     "name": "stdout",
     "output_type": "stream",
     "text": [
      "(29492, 784) (10000, 784)\n"
     ]
    }
   ],
   "source": [
    "print(x_tr.shape, x_te.shape)"
   ]
  },
  {
   "cell_type": "code",
   "execution_count": 6,
   "metadata": {},
   "outputs": [],
   "source": [
    "# encoder\n",
    "x = Input(shape=(x_tr.shape[1:]))\n",
    "x_encoded = Dense(n_hidden, activation='relu')(x)\n",
    "x_encoded = Dense(n_hidden//2, activation='relu')(x_encoded)\n",
    "z  = Dense(z_dim)(x_encoded)"
   ]
  },
  {
   "cell_type": "code",
   "execution_count": 7,
   "metadata": {},
   "outputs": [],
   "source": [
    "# decoder\n",
    "z_decoder1 = Dense(n_hidden//2, activation='relu')\n",
    "z_decoder2 = Dense(n_hidden, activation='relu')\n",
    "y_decoder = Dense(x_tr.shape[1], activation='sigmoid')\n",
    "\n",
    "z_decoded = z_decoder1(z)\n",
    "z_decoded = z_decoder2(z_decoded)\n",
    "y = y_decoder(z_decoded)"
   ]
  },
  {
   "cell_type": "code",
   "execution_count": null,
   "metadata": {},
   "outputs": [],
   "source": [
    "# loss\n",
    "reconstruction_loss = binary_crossentropy(x, y) * x_tr.shape[1]\n",
    "mlp_loss = reconstruction_loss\n",
    "\n",
    "# build model\n",
    "mlp = Model(x, y)\n",
    "mlp.add_loss(mlp_loss)\n",
    "mlp.compile(optimizer='rmsprop')\n",
    "mlp.summary()"
   ]
  },
  {
   "cell_type": "code",
   "execution_count": 9,
   "metadata": {},
   "outputs": [
    {
     "name": "stdout",
     "output_type": "stream",
     "text": [
      "Epoch 1/50\n",
      "292/292 [==============================] - 2s 5ms/step - loss: 204.6367\n",
      "Epoch 2/50\n",
      "292/292 [==============================] - 1s 5ms/step - loss: 125.6833\n",
      "Epoch 3/50\n",
      "292/292 [==============================] - 1s 5ms/step - loss: 109.7948\n",
      "Epoch 4/50\n",
      "292/292 [==============================] - 1s 5ms/step - loss: 101.9237\n",
      "Epoch 5/50\n",
      "292/292 [==============================] - 1s 5ms/step - loss: 97.1935\n",
      "Epoch 6/50\n",
      "292/292 [==============================] - 1s 5ms/step - loss: 93.6404\n",
      "Epoch 7/50\n",
      "292/292 [==============================] - 1s 5ms/step - loss: 90.8526\n",
      "Epoch 8/50\n",
      "292/292 [==============================] - 1s 5ms/step - loss: 89.0197\n",
      "Epoch 9/50\n",
      "292/292 [==============================] - 1s 5ms/step - loss: 87.6866\n",
      "Epoch 10/50\n",
      "292/292 [==============================] - 1s 5ms/step - loss: 86.2752\n",
      "Epoch 11/50\n",
      "292/292 [==============================] - 1s 5ms/step - loss: 85.4287\n",
      "Epoch 12/50\n",
      "292/292 [==============================] - 1s 5ms/step - loss: 84.4346\n",
      "Epoch 13/50\n",
      "292/292 [==============================] - 1s 5ms/step - loss: 83.4507\n",
      "Epoch 14/50\n",
      "292/292 [==============================] - 1s 5ms/step - loss: 83.0002\n",
      "Epoch 15/50\n",
      "292/292 [==============================] - 1s 5ms/step - loss: 82.2333\n",
      "Epoch 16/50\n",
      "292/292 [==============================] - 2s 5ms/step - loss: 81.8594\n",
      "Epoch 17/50\n",
      "292/292 [==============================] - 1s 5ms/step - loss: 81.6459\n",
      "Epoch 18/50\n",
      "292/292 [==============================] - 1s 5ms/step - loss: 80.7870\n",
      "Epoch 19/50\n",
      "292/292 [==============================] - 1s 5ms/step - loss: 80.3814\n",
      "Epoch 20/50\n",
      "292/292 [==============================] - 1s 5ms/step - loss: 80.2371\n",
      "Epoch 21/50\n",
      "292/292 [==============================] - 1s 5ms/step - loss: 79.8837\n",
      "Epoch 22/50\n",
      "292/292 [==============================] - 1s 5ms/step - loss: 79.7985\n",
      "Epoch 23/50\n",
      "292/292 [==============================] - 1s 5ms/step - loss: 79.4389\n",
      "Epoch 24/50\n",
      "292/292 [==============================] - 2s 6ms/step - loss: 79.0674\n",
      "Epoch 25/50\n",
      "292/292 [==============================] - 1s 5ms/step - loss: 78.8890\n",
      "Epoch 26/50\n",
      "292/292 [==============================] - 1s 5ms/step - loss: 78.4118\n",
      "Epoch 27/50\n",
      "292/292 [==============================] - 1s 5ms/step - loss: 78.3844\n",
      "Epoch 28/50\n",
      "292/292 [==============================] - 1s 5ms/step - loss: 78.2488\n",
      "Epoch 29/50\n",
      "292/292 [==============================] - 1s 5ms/step - loss: 77.8643\n",
      "Epoch 30/50\n",
      "292/292 [==============================] - 2s 5ms/step - loss: 77.7292\n",
      "Epoch 31/50\n",
      "292/292 [==============================] - 1s 5ms/step - loss: 77.5136\n",
      "Epoch 32/50\n",
      "292/292 [==============================] - 1s 5ms/step - loss: 77.3950\n",
      "Epoch 33/50\n",
      "292/292 [==============================] - 1s 5ms/step - loss: 77.1888\n",
      "Epoch 34/50\n",
      "292/292 [==============================] - 1s 5ms/step - loss: 76.9936\n",
      "Epoch 35/50\n",
      "292/292 [==============================] - 1s 5ms/step - loss: 76.8622\n",
      "Epoch 36/50\n",
      "292/292 [==============================] - 1s 5ms/step - loss: 76.8675\n",
      "Epoch 37/50\n",
      "292/292 [==============================] - 1s 5ms/step - loss: 76.5464\n",
      "Epoch 38/50\n",
      "292/292 [==============================] - 1s 5ms/step - loss: 76.5676\n",
      "Epoch 39/50\n",
      "292/292 [==============================] - 1s 5ms/step - loss: 76.6096\n",
      "Epoch 40/50\n",
      "292/292 [==============================] - 1s 5ms/step - loss: 76.3264\n",
      "Epoch 41/50\n",
      "292/292 [==============================] - 2s 5ms/step - loss: 76.2847\n",
      "Epoch 42/50\n",
      "292/292 [==============================] - 1s 5ms/step - loss: 76.1233\n",
      "Epoch 43/50\n",
      "292/292 [==============================] - 1s 5ms/step - loss: 75.9957\n",
      "Epoch 44/50\n",
      "292/292 [==============================] - 1s 5ms/step - loss: 75.8714\n",
      "Epoch 45/50\n",
      "292/292 [==============================] - 1s 5ms/step - loss: 75.6589\n",
      "Epoch 46/50\n",
      "292/292 [==============================] - 1s 5ms/step - loss: 75.7721\n",
      "Epoch 47/50\n",
      "292/292 [==============================] - 1s 5ms/step - loss: 75.5763\n",
      "Epoch 48/50\n",
      "292/292 [==============================] - 1s 5ms/step - loss: 75.5877\n",
      "Epoch 49/50\n",
      "292/292 [==============================] - 1s 5ms/step - loss: 75.4844\n",
      "Epoch 50/50\n",
      "292/292 [==============================] - 1s 5ms/step - loss: 75.5036\n"
     ]
    },
    {
     "data": {
      "text/plain": [
       "<tensorflow.python.keras.callbacks.History at 0x18f1985e1c8>"
      ]
     },
     "execution_count": 9,
     "metadata": {},
     "output_type": "execute_result"
    }
   ],
   "source": [
    "# train\n",
    "mlp.fit(x_tr,\n",
    "       shuffle=True,\n",
    "       epochs=n_epoch,\n",
    "       batch_size=batch_size,\n",
    "       verbose=1)"
   ]
  },
  {
   "cell_type": "code",
   "execution_count": 10,
   "metadata": {},
   "outputs": [
    {
     "name": "stdout",
     "output_type": "stream",
     "text": [
      "Model: \"model_1\"\n",
      "_________________________________________________________________\n",
      "Layer (type)                 Output Shape              Param #   \n",
      "=================================================================\n",
      "input_1 (InputLayer)         [(None, 784)]             0         \n",
      "_________________________________________________________________\n",
      "dense (Dense)                (None, 256)               200960    \n",
      "_________________________________________________________________\n",
      "dense_1 (Dense)              (None, 128)               32896     \n",
      "_________________________________________________________________\n",
      "dense_2 (Dense)              (None, 16)                2064      \n",
      "=================================================================\n",
      "Total params: 235,920\n",
      "Trainable params: 235,920\n",
      "Non-trainable params: 0\n",
      "_________________________________________________________________\n"
     ]
    }
   ],
   "source": [
    "# build encoder\n",
    "encoder = Model(x, z)\n",
    "encoder.summary()"
   ]
  },
  {
   "cell_type": "code",
   "execution_count": 11,
   "metadata": {},
   "outputs": [
    {
     "data": {
      "image/png": "[encoded data removed]",
      "text/plain": [
       "<Figure size 432x432 with 2 Axes>"
      ]
     },
     "metadata": {
      "needs_background": "light"
     },
     "output_type": "display_data"
    }
   ],
   "source": [
    "# Plot of the digit classes in the latent space\n",
    "x_te_latent = encoder.predict(x_te, batch_size=batch_size)\n",
    "plt.figure(figsize=(6, 6))\n",
    "plt.scatter(x_te_latent[:, 0], x_te_latent[:, 1], c=y_te)\n",
    "plt.colorbar()\n",
    "plt.show()"
   ]
  },
  {
   "cell_type": "code",
   "execution_count": 12,
   "metadata": {},
   "outputs": [
    {
     "name": "stdout",
     "output_type": "stream",
     "text": [
      "Model: \"model_2\"\n",
      "_________________________________________________________________\n",
      "Layer (type)                 Output Shape              Param #   \n",
      "=================================================================\n",
      "input_2 (InputLayer)         [(None, 16)]              0         \n",
      "_________________________________________________________________\n",
      "dense_3 (Dense)              (None, 128)               2176      \n",
      "_________________________________________________________________\n",
      "dense_4 (Dense)              (None, 256)               33024     \n",
      "_________________________________________________________________\n",
      "dense_5 (Dense)              (None, 784)               201488    \n",
      "=================================================================\n",
      "Total params: 236,688\n",
      "Trainable params: 236,688\n",
      "Non-trainable params: 0\n",
      "_________________________________________________________________\n"
     ]
    }
   ],
   "source": [
    "# build decoder\n",
    "decoder_input = Input(shape=(z_dim,))\n",
    "_z_decoded = z_decoder1(decoder_input)\n",
    "_z_decoded = z_decoder2(_z_decoded)\n",
    "_y = y_decoder(_z_decoded)\n",
    "\n",
    "generator = Model(decoder_input, _y)\n",
    "generator.summary()"
   ]
  },
  {
   "cell_type": "markdown",
   "metadata": {},
   "source": [
    "# Few Shot Sampling"
   ]
  },
  {
   "cell_type": "code",
   "execution_count": 14,
   "metadata": {},
   "outputs": [],
   "source": [
    "# https://github.com/Michedev/VAE_anomaly_detection/blob/0a9eb14b7df226e8195c77d145a0f586ecbb6d67/VAE.py#L7\n",
    "def softplus(x):\n",
    "    return np.log(1+np.exp(x))\n",
    "\n",
    "from dictances import bhattacharyya, bhattacharyya_coefficient"
   ]
  },
  {
   "cell_type": "code",
   "execution_count": 15,
   "metadata": {},
   "outputs": [
    {
     "name": "stdout",
     "output_type": "stream",
     "text": [
      "Model: \"model_3\"\n",
      "_________________________________________________________________\n",
      "Layer (type)                 Output Shape              Param #   \n",
      "=================================================================\n",
      "input_1 (InputLayer)         [(None, 784)]             0         \n",
      "_________________________________________________________________\n",
      "dense (Dense)                (None, 256)               200960    \n",
      "_________________________________________________________________\n",
      "dense_1 (Dense)              (None, 128)               32896     \n",
      "_________________________________________________________________\n",
      "dense_2 (Dense)              (None, 16)                2064      \n",
      "=================================================================\n",
      "Total params: 235,920\n",
      "Trainable params: 235,920\n",
      "Non-trainable params: 0\n",
      "_________________________________________________________________\n"
     ]
    }
   ],
   "source": [
    "# build model\n",
    "mlp_enc = Model(x, z)\n",
    "\n",
    "mlp_enc.summary()"
   ]
  },
  {
   "cell_type": "code",
   "execution_count": 16,
   "metadata": {},
   "outputs": [
    {
     "name": "stdout",
     "output_type": "stream",
     "text": [
      "[1, 3, 5, 7, 9]\n"
     ]
    }
   ],
   "source": [
    "test_classes = []\n",
    "\n",
    "for i in range(y_f.shape[0]):\n",
    "    test_classes.append(y_f[i][0])\n",
    "    \n",
    "print(test_classes)"
   ]
  },
  {
   "cell_type": "code",
   "execution_count": 17,
   "metadata": {},
   "outputs": [],
   "source": [
    "# Mahalanobis Distance\n",
    "def mahalanobis(x=None, mean=None, cov=None):\n",
    "\n",
    "    x_mu = x - mean\n",
    "    inv_covmat = np.linalg.inv(cov)\n",
    "    \n",
    "    left = np.dot(x_mu, inv_covmat)\n",
    "        \n",
    "    mahal = np.dot(left, x_mu.T)\n",
    "        \n",
    "    return mahal"
   ]
  },
  {
   "cell_type": "code",
   "execution_count": 25,
   "metadata": {},
   "outputs": [
    {
     "name": "stderr",
     "output_type": "stream",
     "text": [
      "100%|██████████| 1200/1200 [03:17<00:00,  6.09it/s]\n"
     ]
    }
   ],
   "source": [
    "n_way = 3 # number of classes\n",
    "n_shot = 1 # number of samples per class\n",
    "\n",
    "n_trial = 0\n",
    "n_true = 0\n",
    "n_false = 0\n",
    "\n",
    "n_test = 1200\n",
    "\n",
    "g_train_images, g_train_gt_labels = np.load(str(n_way)+\"-\"+str(n_shot)+'.npz')[\"trainImage\"],np.load(str(n_way)+\"-\"+str(n_shot)+'.npz')[\"trainLabel\"]\n",
    "g_test_images, g_test_gt_labels = np.load(str(n_way)+\"-\"+str(n_shot)+'.npz')[\"testImage\"],np.load(str(n_way)+\"-\"+str(n_shot)+'.npz')[\"testLabel\"]\n",
    "g_ways = np.load(str(n_way)+\"-\"+str(n_shot)+'.npz')[\"ways\"]\n",
    "\n",
    "\n",
    "for ntest in tqdm(range(n_test)):\n",
    "    #print(\"Test Classes: {}\".format(test_classes))\n",
    "\n",
    "    # Load test data\n",
    "    test_images = g_test_images[ntest]\n",
    "    test_gt_labels = g_test_gt_labels[ntest]\n",
    "\n",
    "\n",
    "    train_images = g_train_images[ntest]\n",
    "    train_gt_labels = g_train_gt_labels[ntest]\n",
    "    \n",
    "    ways = g_ways[ntest]\n",
    "\n",
    "    train_mus = []\n",
    "\n",
    "    for image in train_images:\n",
    "        res = mlp_enc.predict(image)\n",
    "        mu_val = res[0][0]\n",
    "\n",
    "        train_mus.append(mu_val)\n",
    "\n",
    "\n",
    "    test_mus = []\n",
    "\n",
    "    for image in test_images:\n",
    "        res = mlp_enc.predict(image)\n",
    "        mu_val = res[0][0]\n",
    "\n",
    "        test_mus.append(mu_val)\n",
    "\n",
    "    ###########################\n",
    "    # Averaging mean's and mu's for each class\n",
    "    alpha = 1 / n_shot\n",
    "    avg_train_mus = []\n",
    "    \n",
    "    # average the mu variable\n",
    "    for i in range(0,len(train_mus) - 1, n_shot):\n",
    "        \n",
    "        avg_mu = np.mean(train_mus[i: i + n_shot], axis=0)\n",
    "        \n",
    "        # class oriented mu\n",
    "        avg_train_mus.append(avg_mu)\n",
    "\n",
    "\n",
    "    #print(train_mus, train_vars)\n",
    "    #print(avg_train_mus, avg_train_vars)\n",
    "\n",
    "    test_pred_labels= []\n",
    "    for i in range(len(test_mus)):\n",
    "        test_dist = test_mus[i]\n",
    "\n",
    "        local_scores = []\n",
    "        for j in range(len(avg_train_mus)):\n",
    "                        \n",
    "            scr = np.sqrt((test_dist - avg_train_mus[j])**2)\n",
    "            \n",
    "            local_scores.append(scr)\n",
    "\n",
    "        # get the minimum mahalanobis distance\n",
    "        pred_cls_idx = np.argmin(local_scores)\n",
    "        test_pred_labels.append(ways[pred_cls_idx])\n",
    "\n",
    "\n",
    "    for i in range(len(test_gt_labels)):\n",
    "        if test_gt_labels[i] == test_pred_labels[i]:\n",
    "            n_true += 1\n",
    "        else:\n",
    "            n_false += 1\n",
    "\n",
    "        n_trial += 1"
   ]
  },
  {
   "cell_type": "code",
   "execution_count": 27,
   "metadata": {},
   "outputs": [
    {
     "name": "stdout",
     "output_type": "stream",
     "text": [
      "N-way: 3 - N-shot: 1\n",
      "Acc: 0.40583 in 1200 different trials\n"
     ]
    }
   ],
   "source": [
    "print(\"N-way: {} - N-shot: {}\".format(n_way,n_shot))\n",
    "print(\"Acc: {:.5f} in {} different trials\".format(n_true/n_trial, n_test))"
   ]
  },
  {
   "cell_type": "markdown",
   "metadata": {},
   "source": [
    "#####\n",
    "#####\n",
    "#####"
   ]
  },
  {
   "cell_type": "code",
   "execution_count": null,
   "metadata": {},
   "outputs": [],
   "source": [
    "# output of test images in terms of mu,sigma\n",
    "test_0 = scipy.stats.multivariate_normal(test_mus[0], np.diag(test_vars[0]))\n",
    "test_1 = scipy.stats.multivariate_normal(test_mus[1], np.diag(test_vars[1]))\n",
    "test_2 = scipy.stats.multivariate_normal(test_mus[2], np.diag(test_vars[2]))\n",
    "\n",
    "print(np.mean(np.sum(sps.multivariate_normal(avg_train_mus[0], avg_train_logvars[0]).pdf(test_2.rvs(1)))))\n",
    "print(np.mean(np.sum(sps.multivariate_normal(avg_train_mus[1], avg_train_logvars[1]).pdf(test_2.rvs(1)))))\n",
    "print(np.mean(np.sum(sps.multivariate_normal(avg_train_mus[2], avg_train_logvars[2]).pdf(test_2.rvs(1)))))"
   ]
  },
  {
   "cell_type": "code",
   "execution_count": null,
   "metadata": {},
   "outputs": [],
   "source": [
    "eps = K.random_normal(shape=(100, z_dim), mean=0., stddev=1.0)\n",
    "\n",
    "dist_a1 = train_mus[0] + K.exp(train_logvars[0]) * eps\n",
    "dist_a2 = train_mus[2] + K.exp(train_logvars[2]) * eps\n",
    "dist_b1 = train_mus[10] + K.exp(train_logvars[10]) * eps\n",
    "dist_b2 = train_mus[14] + K.exp(train_logvars[14]) * eps\n",
    "\n",
    "\n",
    "m_a1, std_a1 = np.mean(np.array(dist_a1)), np.std(np.array(dist_a1))\n",
    "m_a2, std_a2 = np.mean(np.array(dist_a2)), np.std(np.array(dist_a2))\n",
    "m_b1, std_b1 = np.mean(np.array(dist_b1)), np.std(np.array(dist_b1))\n",
    "m_b2, std_b2 = np.mean(np.array(dist_b2)), np.std(np.array(dist_b2))\n",
    "\n",
    "\n",
    "x_a1 = np.random.normal(m_a1, std_a1, 100)\n",
    "x_a2 = np.random.normal(m_a2, std_a2, 100)\n",
    "x_b1 = np.random.normal(m_b1, std_b1, 100)\n",
    "x_b2 = np.random.normal(m_b2, std_b2, 100)\n",
    "\n",
    "\n",
    "#######################\n",
    "multivariate_a1 = scipy.stats.multivariate_normal(train_mus[0], np.diag(np.exp(train_logvars[0])))\n",
    "multivariate_a2 = scipy.stats.multivariate_normal(train_mus[2], np.diag(np.exp(train_logvars[2])))\n",
    "multivariate_b1 = scipy.stats.multivariate_normal(train_mus[10], np.diag(np.exp(train_logvars[10])))\n",
    "multivariate_b2 = scipy.stats.multivariate_normal(train_mus[14], np.diag(np.exp(train_logvars[14])))\n",
    "\n",
    "multivariate_1 = scipy.stats.multivariate_normal(avg_train_mus[0], np.diag(np.exp(avg_train_logvars[0])))\n",
    "multivariate_2 = scipy.stats.multivariate_normal(avg_train_mus[1], np.diag(np.exp(avg_train_logvars[1])))\n",
    "multivariate_3 = scipy.stats.multivariate_normal(avg_train_mus[2], np.diag(np.exp(avg_train_logvars[2])))"
   ]
  },
  {
   "cell_type": "code",
   "execution_count": null,
   "metadata": {
    "scrolled": true
   },
   "outputs": [],
   "source": [
    "test_sample = sps.multivariate_normal.rvs(test_mus[2], np.diag(test_logvars[2]), 10)\n",
    "print(np.mean(multivariate_1.pdf(test_sample)))\n",
    "print(np.mean(multivariate_2.pdf(test_sample)))\n",
    "print(np.mean(multivariate_3.pdf(test_sample)))"
   ]
  },
  {
   "cell_type": "code",
   "execution_count": null,
   "metadata": {},
   "outputs": [],
   "source": [
    "test_sample"
   ]
  },
  {
   "cell_type": "code",
   "execution_count": null,
   "metadata": {},
   "outputs": [],
   "source": [
    "ks_2samp(x_a1, x_a1)"
   ]
  },
  {
   "cell_type": "code",
   "execution_count": null,
   "metadata": {},
   "outputs": [],
   "source": [
    "ks_2samp(x_a1, x_a2)"
   ]
  },
  {
   "cell_type": "code",
   "execution_count": null,
   "metadata": {},
   "outputs": [],
   "source": [
    "ks_2samp(x_a1, x_b1)"
   ]
  },
  {
   "cell_type": "code",
   "execution_count": null,
   "metadata": {},
   "outputs": [],
   "source": [
    "ks_2samp(x_a2, x_b1)"
   ]
  },
  {
   "cell_type": "code",
   "execution_count": null,
   "metadata": {},
   "outputs": [],
   "source": [
    "ks_2samp(x_a2, x_b2)"
   ]
  },
  {
   "cell_type": "code",
   "execution_count": null,
   "metadata": {},
   "outputs": [],
   "source": [
    "ks_2samp(x_a1, x_b2)"
   ]
  },
  {
   "cell_type": "code",
   "execution_count": null,
   "metadata": {},
   "outputs": [],
   "source": [
    "ks_2samp(x_b1, x_b2)"
   ]
  },
  {
   "cell_type": "code",
   "execution_count": null,
   "metadata": {},
   "outputs": [],
   "source": [
    "multivariate_a1.pdf((multivariate_a1.rvs())), multivariate_a1.pdf((multivariate_a2.rvs()))"
   ]
  },
  {
   "cell_type": "code",
   "execution_count": null,
   "metadata": {},
   "outputs": [],
   "source": [
    "multivariate_a2.pdf((multivariate_b1.rvs())), multivariate_a1.pdf((multivariate_b2.rvs()))"
   ]
  },
  {
   "cell_type": "code",
   "execution_count": null,
   "metadata": {},
   "outputs": [],
   "source": []
  }
 ],
 "metadata": {
  "interpreter": {
   "hash": "20095610f18a3268815da2e700e8452467ae104b71ca0ca74a40afa76fc500a6"
  },
  "kernelspec": {
   "display_name": "Python 3",
   "language": "python",
   "name": "python3"
  },
  "language_info": {
   "codemirror_mode": {
    "name": "ipython",
    "version": 3
   },
   "file_extension": ".py",
   "mimetype": "text/x-python",
   "name": "python",
   "nbconvert_exporter": "python",
   "pygments_lexer": "ipython3",
   "version": "3.7.6"
  }
 },
 "nbformat": 4,
 "nbformat_minor": 2
}
