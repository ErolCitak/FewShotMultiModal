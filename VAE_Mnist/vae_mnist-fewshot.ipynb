{
 "cells": [
  {
   "cell_type": "code",
   "execution_count": 1,
   "metadata": {},
   "outputs": [
    {
     "name": "stderr",
     "output_type": "stream",
     "text": [
      "WARNING:root:Limited tf.compat.v2.summary API due to missing TensorBoard installation.\n",
      "WARNING:root:Limited tf.compat.v2.summary API due to missing TensorBoard installation.\n",
      "WARNING:root:Limited tf.compat.v2.summary API due to missing TensorBoard installation.\n",
      "WARNING:root:Limited tf.summary API due to missing TensorBoard installation.\n"
     ]
    }
   ],
   "source": [
    "# prerequisites\n",
    "from tensorflow.keras.datasets import mnist\n",
    "from tensorflow.keras.layers import Input, Dense, Lambda\n",
    "from tensorflow.keras.models import Model\n",
    "from tensorflow.keras import backend as K\n",
    "from tensorflow.keras.losses import binary_crossentropy\n",
    "\n",
    "from scipy.stats import norm\n",
    "from scipy import stats as sps \n",
    "import scipy\n",
    "from scipy.spatial import distance\n",
    "from scipy.stats import ks_2samp\n",
    "from scipy.stats import multivariate_normal\n",
    "\n",
    "import random\n",
    "import numpy as np\n",
    "import os\n",
    "import matplotlib.pyplot as plt\n",
    "from tqdm import tqdm\n",
    "import math\n",
    "\n",
    "import torch"
   ]
  },
  {
   "cell_type": "code",
   "execution_count": 2,
   "metadata": {},
   "outputs": [
    {
     "name": "stdout",
     "output_type": "stream",
     "text": [
      "(60000, 784) (10000, 784)\n"
     ]
    }
   ],
   "source": [
    "# data load\n",
    "(x_tr, y_tr), (x_te, y_te) = mnist.load_data()\n",
    "x_tr, x_te = x_tr.astype('float32')/255., x_te.astype('float32')/255.\n",
    "x_tr, x_te = x_tr.reshape(x_tr.shape[0], -1), x_te.reshape(x_te.shape[0], -1)\n",
    "print(x_tr.shape, x_te.shape)\n",
    "\n",
    "# network parameters\n",
    "batch_size, n_epoch = 101, 5\n",
    "n_hidden, z_dim = 256, 16"
   ]
  },
  {
   "cell_type": "code",
   "execution_count": 3,
   "metadata": {},
   "outputs": [
    {
     "name": "stderr",
     "output_type": "stream",
     "text": [
      "C:\\Users\\PC\\Anaconda3\\lib\\site-packages\\ipykernel_launcher.py:20: VisibleDeprecationWarning: Creating an ndarray from ragged nested sequences (which is a list-or-tuple of lists-or-tuples-or ndarrays with different lengths or shapes) is deprecated. If you meant to do this, you must specify 'dtype=object' when creating the ndarray\n",
      "C:\\Users\\PC\\Anaconda3\\lib\\site-packages\\ipykernel_launcher.py:21: VisibleDeprecationWarning: Creating an ndarray from ragged nested sequences (which is a list-or-tuple of lists-or-tuples-or ndarrays with different lengths or shapes) is deprecated. If you meant to do this, you must specify 'dtype=object' when creating the ndarray\n"
     ]
    }
   ],
   "source": [
    "x_f, y_f = [], [] \n",
    "rmv_idx = []\n",
    "\n",
    "for i in range(10): \n",
    "    if i % 2 != 0: \n",
    "        \n",
    "        # 1,3,5,7,9 \n",
    "        idf_i = list(np.where(y_tr == i)[0]) \n",
    "        \n",
    "        y_f.append([i]*len(idf_i))\n",
    "        x_f.append(x_tr[idf_i]) \n",
    "        \n",
    "            \n",
    "        # remove elements by index list \n",
    "        rmv_idx += idf_i\n",
    "             \n",
    "x_tr = np.delete(x_tr, rmv_idx, axis=0) \n",
    "y_tr = np.delete(y_tr, rmv_idx, axis=0) \n",
    "        \n",
    "x_f = np.array(x_f) \n",
    "y_f = np.array(y_f)"
   ]
  },
  {
   "cell_type": "code",
   "execution_count": 4,
   "metadata": {},
   "outputs": [
    {
     "name": "stdout",
     "output_type": "stream",
     "text": [
      "(29492, 784) (10000, 784)\n"
     ]
    }
   ],
   "source": [
    "print(x_tr.shape, x_te.shape)"
   ]
  },
  {
   "cell_type": "code",
   "execution_count": 5,
   "metadata": {},
   "outputs": [],
   "source": [
    "# encoder\n",
    "x = Input(shape=(x_tr.shape[1:]))\n",
    "x_encoded = Dense(n_hidden, activation='relu')(x)\n",
    "x_encoded = Dense(n_hidden//2, activation='relu')(x_encoded)\n",
    "\n",
    "mu = Dense(z_dim)(x_encoded)\n",
    "log_var = Dense(z_dim)(x_encoded)"
   ]
  },
  {
   "cell_type": "code",
   "execution_count": 6,
   "metadata": {},
   "outputs": [],
   "source": [
    "# sampling function\n",
    "def sampling(args):\n",
    "    mu, log_var = args\n",
    "    eps = K.random_normal(shape=(batch_size, z_dim), mean=0., stddev=1.0)\n",
    "    return mu + K.exp(log_var) * eps\n",
    "\n",
    "z = Lambda(sampling, output_shape=(z_dim,))([mu, log_var])"
   ]
  },
  {
   "cell_type": "code",
   "execution_count": 7,
   "metadata": {},
   "outputs": [],
   "source": [
    "# decoder\n",
    "z_decoder1 = Dense(n_hidden//2, activation='relu')\n",
    "z_decoder2 = Dense(n_hidden, activation='relu')\n",
    "y_decoder = Dense(x_tr.shape[1], activation='sigmoid')\n",
    "\n",
    "z_decoded = z_decoder1(z)\n",
    "z_decoded = z_decoder2(z_decoded)\n",
    "y = y_decoder(z_decoded)"
   ]
  },
  {
   "cell_type": "code",
   "execution_count": 8,
   "metadata": {},
   "outputs": [
    {
     "name": "stdout",
     "output_type": "stream",
     "text": [
      "Model: \"model\"\n",
      "__________________________________________________________________________________________________\n",
      "Layer (type)                    Output Shape         Param #     Connected to                     \n",
      "==================================================================================================\n",
      "input_1 (InputLayer)            [(None, 784)]        0                                            \n",
      "__________________________________________________________________________________________________\n",
      "dense (Dense)                   (None, 256)          200960      input_1[0][0]                    \n",
      "__________________________________________________________________________________________________\n",
      "dense_1 (Dense)                 (None, 128)          32896       dense[0][0]                      \n",
      "__________________________________________________________________________________________________\n",
      "dense_2 (Dense)                 (None, 16)           2064        dense_1[0][0]                    \n",
      "__________________________________________________________________________________________________\n",
      "dense_3 (Dense)                 (None, 16)           2064        dense_1[0][0]                    \n",
      "__________________________________________________________________________________________________\n",
      "lambda (Lambda)                 (101, 16)            0           dense_2[0][0]                    \n",
      "                                                                 dense_3[0][0]                    \n",
      "__________________________________________________________________________________________________\n",
      "dense_4 (Dense)                 (101, 128)           2176        lambda[0][0]                     \n",
      "__________________________________________________________________________________________________\n",
      "dense_5 (Dense)                 (101, 256)           33024       dense_4[0][0]                    \n",
      "__________________________________________________________________________________________________\n",
      "dense_6 (Dense)                 (101, 784)           201488      dense_5[0][0]                    \n",
      "__________________________________________________________________________________________________\n",
      "tf.math.square (TFOpLambda)     (None, 16)           0           dense_2[0][0]                    \n",
      "__________________________________________________________________________________________________\n",
      "tf.math.exp (TFOpLambda)        (None, 16)           0           dense_3[0][0]                    \n",
      "__________________________________________________________________________________________________\n",
      "tf.__operators__.add (TFOpLambd (None, 16)           0           tf.math.square[0][0]             \n",
      "                                                                 tf.math.exp[0][0]                \n",
      "__________________________________________________________________________________________________\n",
      "tf.cast (TFOpLambda)            (None, 784)          0           input_1[0][0]                    \n",
      "__________________________________________________________________________________________________\n",
      "tf.convert_to_tensor (TFOpLambd (101, 784)           0           dense_6[0][0]                    \n",
      "__________________________________________________________________________________________________\n",
      "tf.math.subtract (TFOpLambda)   (None, 16)           0           tf.__operators__.add[0][0]       \n",
      "                                                                 dense_3[0][0]                    \n",
      "__________________________________________________________________________________________________\n",
      "tf.keras.backend.binary_crossen (101, 784)           0           tf.cast[0][0]                    \n",
      "                                                                 tf.convert_to_tensor[0][0]       \n",
      "__________________________________________________________________________________________________\n",
      "tf.math.subtract_1 (TFOpLambda) (None, 16)           0           tf.math.subtract[0][0]           \n",
      "__________________________________________________________________________________________________\n",
      "tf.math.reduce_mean (TFOpLambda (101,)               0           tf.keras.backend.binary_crossentr\n",
      "__________________________________________________________________________________________________\n",
      "tf.math.reduce_sum (TFOpLambda) (None,)              0           tf.math.subtract_1[0][0]         \n",
      "__________________________________________________________________________________________________\n",
      "tf.math.multiply (TFOpLambda)   (101,)               0           tf.math.reduce_mean[0][0]        \n",
      "__________________________________________________________________________________________________\n",
      "tf.math.multiply_1 (TFOpLambda) (None,)              0           tf.math.reduce_sum[0][0]         \n",
      "__________________________________________________________________________________________________\n",
      "tf.__operators__.add_1 (TFOpLam (101,)               0           tf.math.multiply[0][0]           \n",
      "                                                                 tf.math.multiply_1[0][0]         \n",
      "__________________________________________________________________________________________________\n",
      "add_loss (AddLoss)              (101,)               0           tf.__operators__.add_1[0][0]     \n",
      "==================================================================================================\n",
      "Total params: 474,672\n",
      "Trainable params: 474,672\n",
      "Non-trainable params: 0\n",
      "__________________________________________________________________________________________________\n"
     ]
    }
   ],
   "source": [
    "# loss\n",
    "reconstruction_loss = binary_crossentropy(x, y) * x_tr.shape[1]\n",
    "kl_loss = 0.05 * K.sum(K.square(mu) + K.exp(log_var) - log_var - 1, axis = -1)\n",
    "vae_loss = reconstruction_loss + kl_loss\n",
    "\n",
    "# build model\n",
    "vae = Model(x, y)\n",
    "vae.add_loss(vae_loss)\n",
    "vae.compile(optimizer='rmsprop')\n",
    "vae.summary()"
   ]
  },
  {
   "cell_type": "code",
   "execution_count": 9,
   "metadata": {},
   "outputs": [
    {
     "name": "stdout",
     "output_type": "stream",
     "text": [
      "Epoch 1/5\n",
      "292/292 [==============================] - 3s 7ms/step - loss: 215.6345\n",
      "Epoch 2/5\n",
      "292/292 [==============================] - 2s 7ms/step - loss: 134.0607\n",
      "Epoch 3/5\n",
      "292/292 [==============================] - 2s 7ms/step - loss: 118.0628\n",
      "Epoch 4/5\n",
      "292/292 [==============================] - 2s 7ms/step - loss: 110.0400\n",
      "Epoch 5/5\n",
      "292/292 [==============================] - 2s 7ms/step - loss: 104.8062\n"
     ]
    },
    {
     "data": {
      "text/plain": [
       "<tensorflow.python.keras.callbacks.History at 0x165905c5188>"
      ]
     },
     "execution_count": 9,
     "metadata": {},
     "output_type": "execute_result"
    }
   ],
   "source": [
    "# train\n",
    "vae.fit(x_tr,\n",
    "       shuffle=True,\n",
    "       epochs=n_epoch,\n",
    "       batch_size=batch_size,\n",
    "       verbose=1)"
   ]
  },
  {
   "cell_type": "code",
   "execution_count": 10,
   "metadata": {},
   "outputs": [
    {
     "name": "stdout",
     "output_type": "stream",
     "text": [
      "Model: \"model_1\"\n",
      "_________________________________________________________________\n",
      "Layer (type)                 Output Shape              Param #   \n",
      "=================================================================\n",
      "input_1 (InputLayer)         [(None, 784)]             0         \n",
      "_________________________________________________________________\n",
      "dense (Dense)                (None, 256)               200960    \n",
      "_________________________________________________________________\n",
      "dense_1 (Dense)              (None, 128)               32896     \n",
      "_________________________________________________________________\n",
      "dense_2 (Dense)              (None, 16)                2064      \n",
      "=================================================================\n",
      "Total params: 235,920\n",
      "Trainable params: 235,920\n",
      "Non-trainable params: 0\n",
      "_________________________________________________________________\n"
     ]
    }
   ],
   "source": [
    "# build encoder\n",
    "encoder = Model(x, mu)\n",
    "encoder.summary()"
   ]
  },
  {
   "cell_type": "code",
   "execution_count": 11,
   "metadata": {},
   "outputs": [
    {
     "data": {
      "image/png": "[encoded data removed]",
      "text/plain": [
       "<Figure size 432x432 with 2 Axes>"
      ]
     },
     "metadata": {
      "needs_background": "light"
     },
     "output_type": "display_data"
    }
   ],
   "source": [
    "# Plot of the digit classes in the latent space\n",
    "x_te_latent = encoder.predict(x_te, batch_size=batch_size)\n",
    "plt.figure(figsize=(6, 6))\n",
    "plt.scatter(x_te_latent[:, 0], x_te_latent[:, 1], c=y_te)\n",
    "plt.colorbar()\n",
    "plt.show()"
   ]
  },
  {
   "cell_type": "code",
   "execution_count": 12,
   "metadata": {},
   "outputs": [
    {
     "name": "stdout",
     "output_type": "stream",
     "text": [
      "Model: \"model_2\"\n",
      "_________________________________________________________________\n",
      "Layer (type)                 Output Shape              Param #   \n",
      "=================================================================\n",
      "input_2 (InputLayer)         [(None, 16)]              0         \n",
      "_________________________________________________________________\n",
      "dense_4 (Dense)              multiple                  2176      \n",
      "_________________________________________________________________\n",
      "dense_5 (Dense)              multiple                  33024     \n",
      "_________________________________________________________________\n",
      "dense_6 (Dense)              multiple                  201488    \n",
      "=================================================================\n",
      "Total params: 236,688\n",
      "Trainable params: 236,688\n",
      "Non-trainable params: 0\n",
      "_________________________________________________________________\n"
     ]
    }
   ],
   "source": [
    "# build decoder\n",
    "decoder_input = Input(shape=(z_dim,))\n",
    "_z_decoded = z_decoder1(decoder_input)\n",
    "_z_decoded = z_decoder2(_z_decoded)\n",
    "_y = y_decoder(_z_decoded)\n",
    "\n",
    "generator = Model(decoder_input, _y)\n",
    "generator.summary()"
   ]
  },
  {
   "cell_type": "markdown",
   "metadata": {},
   "source": [
    "# Few Shot Sampling"
   ]
  },
  {
   "cell_type": "code",
   "execution_count": 13,
   "metadata": {},
   "outputs": [],
   "source": [
    "# https://github.com/Michedev/VAE_anomaly_detection/blob/0a9eb14b7df226e8195c77d145a0f586ecbb6d67/VAE.py#L7\n",
    "def softplus(x):\n",
    "    return np.log(1+np.exp(x))\n",
    "\n",
    "from dictances import bhattacharyya, bhattacharyya_coefficient"
   ]
  },
  {
   "cell_type": "code",
   "execution_count": 14,
   "metadata": {},
   "outputs": [
    {
     "name": "stdout",
     "output_type": "stream",
     "text": [
      "Model: \"model_3\"\n",
      "__________________________________________________________________________________________________\n",
      "Layer (type)                    Output Shape         Param #     Connected to                     \n",
      "==================================================================================================\n",
      "input_1 (InputLayer)            [(None, 784)]        0                                            \n",
      "__________________________________________________________________________________________________\n",
      "dense (Dense)                   (None, 256)          200960      input_1[0][0]                    \n",
      "__________________________________________________________________________________________________\n",
      "dense_1 (Dense)                 (None, 128)          32896       dense[0][0]                      \n",
      "__________________________________________________________________________________________________\n",
      "dense_2 (Dense)                 (None, 16)           2064        dense_1[0][0]                    \n",
      "__________________________________________________________________________________________________\n",
      "dense_3 (Dense)                 (None, 16)           2064        dense_1[0][0]                    \n",
      "==================================================================================================\n",
      "Total params: 237,984\n",
      "Trainable params: 237,984\n",
      "Non-trainable params: 0\n",
      "__________________________________________________________________________________________________\n"
     ]
    }
   ],
   "source": [
    "# build model\n",
    "vae_enc = Model(x, [mu, log_var])\n",
    "\n",
    "vae_enc.summary()"
   ]
  },
  {
   "cell_type": "code",
   "execution_count": 15,
   "metadata": {},
   "outputs": [
    {
     "name": "stdout",
     "output_type": "stream",
     "text": [
      "[1, 3, 5, 7, 9]\n"
     ]
    }
   ],
   "source": [
    "test_classes = []\n",
    "\n",
    "for i in range(y_f.shape[0]):\n",
    "    test_classes.append(y_f[i][0])\n",
    "    \n",
    "print(test_classes)"
   ]
  },
  {
   "cell_type": "code",
   "execution_count": 17,
   "metadata": {},
   "outputs": [],
   "source": [
    "# Mahalanobis Distance\n",
    "def mahalanobis(x=None, mean=None, cov=None):\n",
    "\n",
    "    x_mu = x - mean\n",
    "    inv_covmat = np.linalg.inv(cov)\n",
    "    \n",
    "    left = np.dot(x_mu, inv_covmat)\n",
    "        \n",
    "    mahal = np.dot(left, x_mu.T)\n",
    "        \n",
    "    return mahal"
   ]
  },
  {
   "cell_type": "code",
   "execution_count": 23,
   "metadata": {},
   "outputs": [
    {
     "name": "stderr",
     "output_type": "stream",
     "text": [
      "  0%|          | 0/1200 [00:00<?, ?it/s]"
     ]
    },
    {
     "name": "stdout",
     "output_type": "stream",
     "text": [
      "16 5 5\n",
      "(16,)\n",
      "Avg var shape:\n",
      "(5, 16)\n",
      "16 5 5\n",
      "(16,)\n",
      "Avg var shape:\n",
      "(5, 16)\n",
      "16 5 5\n",
      "(16,)\n",
      "Avg var shape:\n",
      "(5, 16)\n"
     ]
    },
    {
     "name": "stderr",
     "output_type": "stream",
     "text": [
      "\n"
     ]
    }
   ],
   "source": [
    "n_way = 3 # number of classes\n",
    "n_shot = 5 # number of samples per class\n",
    "\n",
    "n_trial = 0\n",
    "n_true = 0\n",
    "n_false = 0\n",
    "\n",
    "n_test = 1200\n",
    "\n",
    "g_train_images, g_train_gt_labels = np.load(str(n_way)+\"-\"+str(n_shot)+'.npz')[\"trainImage\"],np.load(str(n_way)+\"-\"+str(n_shot)+'.npz')[\"trainLabel\"]\n",
    "g_test_images, g_test_gt_labels = np.load(str(n_way)+\"-\"+str(n_shot)+'.npz')[\"testImage\"],np.load(str(n_way)+\"-\"+str(n_shot)+'.npz')[\"testLabel\"]\n",
    "g_ways = np.load(str(n_way)+\"-\"+str(n_shot)+'.npz')[\"ways\"]\n",
    "\n",
    "for ntest in tqdm(range(n_test)):\n",
    "    #print(\"Test Classes: {}\".format(test_classes))\n",
    "\n",
    "    # Load test data\n",
    "    test_images = g_test_images[ntest]\n",
    "    test_gt_labels = g_test_gt_labels[ntest]\n",
    "\n",
    "\n",
    "    train_images = g_train_images[ntest]\n",
    "    train_gt_labels = g_train_gt_labels[ntest]\n",
    "    \n",
    "    ways = g_ways[ntest]\n",
    "\n",
    "    train_mus = []\n",
    "    train_vars = []\n",
    "\n",
    "    for image in train_images:\n",
    "        res = vae_enc.predict(image)\n",
    "        mu_val = res[0][0]\n",
    "        var_val = res[1][0]\n",
    "\n",
    "        train_mus.append(mu_val)\n",
    "        train_vars.append(K.exp(var_val))\n",
    "\n",
    "\n",
    "    test_mus = []\n",
    "    test_vars = []\n",
    "\n",
    "    for image in test_images:\n",
    "        res = vae_enc.predict(image)\n",
    "        mu_val = res[0][0]\n",
    "        var_val = res[1][0]\n",
    "\n",
    "        test_mus.append(mu_val)\n",
    "        test_vars.append(K.exp(var_val))\n",
    "\n",
    "    ###########################\n",
    "    # Averaging mean's and mu's for each class\n",
    "    alpha = 1 / n_shot\n",
    "    avg_train_mus = []\n",
    "    avg_train_vars = []\n",
    "    \n",
    "    # average the mu and variance variables\n",
    "    for i in range(0,len(train_mus) - 1, n_shot):\n",
    "        \n",
    "        \n",
    "        avg_mu = np.mean(train_mus[i: i + n_shot], axis=0)\n",
    "            \n",
    "        class_mu = train_mus[i: i + n_shot]\n",
    "        class_variance = train_vars[i: i + n_shot]        \n",
    "                \n",
    "        # sinif ici her bir mu variance al\n",
    "        avg_var = [0.0] * z_dim\n",
    "        for j in range(len(class_variance)):\n",
    "            \n",
    "            # For the 1st, 2nd, 3rd solutions            \n",
    "            if n_shot != 1:\n",
    "                avg_var += (( 1/n_shot * class_variance[j] ) + (1/n_shot * ((class_mu - avg_mu)**2)))\n",
    "                \n",
    "            # If there is only 1 sample, avg_var equals to that sample's var\n",
    "            else:\n",
    "                avg_var += class_variance[j]        \n",
    "        \n",
    "        # class oriented var\n",
    "        avg_train_vars.append(avg_var)\n",
    "        \n",
    "        # class oriented mu\n",
    "        avg_train_mus.append(avg_mu)\n",
    "    \n",
    "    test_pred_labels = []\n",
    "    for i in range(len(test_mus)):\n",
    "        # 1.st and 2.nd way\n",
    "        #test_dist = scipy.stats.multivariate_normal(test_mus[i], test_vars[i])\n",
    "        #test_elem = test_dist.rvs()\n",
    "        \n",
    "        # 3.rd way;\n",
    "        test_dist = torch.distributions.Normal(torch.from_numpy(test_mus[i]), torch.from_numpy(np.sqrt(test_vars[i].numpy())))\n",
    "        \n",
    "        \n",
    "        local_scores = []\n",
    "        for j in range(len(avg_train_mus)):\n",
    "            # 1.st way; MAHALANOBIS\n",
    "            #scr = mahalanobis(test_elem, avg_train_mus[j], np.diag(avg_train_vars[j])) \n",
    "            \n",
    "            # 2.nd way; PDF \n",
    "            #scr = scipy.stats.multivariate_normal(avg_train_mus[j], np.diag(avg_train_vars[j])).pdf(test_elem)    \n",
    "            \n",
    "            # 3.rd way; KL divergence\n",
    "            train_dist = torch.distributions.Normal(torch.from_numpy(avg_train_mus[j]), torch.from_numpy(np.sqrt(np.array(avg_train_vars[j]))))\n",
    "            scr = torch.distributions.kl_divergence(test_dist, train_dist).mean()\n",
    "            \n",
    "            local_scores.append(scr)\n",
    "\n",
    "        # 1.st way, min of mahalanobis distance\n",
    "        #pred_cls_idx = np.argmin(local_scores)\n",
    "        \n",
    "        # 2.nd way, maximum pdf\n",
    "        #pred_cls_idx = np.argmax(local_scores)\n",
    "    \n",
    "        # 3.rd way, min of kl divergence\n",
    "        pred_cls_idx = np.argmin(local_scores)\n",
    "        \n",
    "         \n",
    "        test_pred_labels.append(ways[pred_cls_idx])\n",
    "\n",
    "\n",
    "    for i in range(len(test_gt_labels)):\n",
    "        if test_gt_labels[i] == test_pred_labels[i]:\n",
    "            n_true += 1\n",
    "        else:\n",
    "            n_false += 1\n",
    "\n",
    "        n_trial += 1"
   ]
  },
  {
   "cell_type": "code",
   "execution_count": 28,
   "metadata": {},
   "outputs": [
    {
     "name": "stdout",
     "output_type": "stream",
     "text": [
      "N_way: 3 - K-shot: 1\n",
      "Acc: 0.48167 in 1200 different trials\n"
     ]
    }
   ],
   "source": [
    "print(\"N_way: {} - K-shot: {}\".format(n_way, n_shot))\n",
    "print(\"Acc: {:.5f} in {} different trials\".format(n_true/n_trial, n_test))"
   ]
  },
  {
   "cell_type": "markdown",
   "metadata": {},
   "source": []
  },
  {
   "cell_type": "markdown",
   "metadata": {},
   "source": []
  },
  {
   "cell_type": "markdown",
   "metadata": {},
   "source": [
    "#################\n",
    "#################\n",
    "# Save test data\n",
    "#################\n",
    "#################\n",
    "n_way = 3 # number of classes\n",
    "n_shot = 1 # number of samples per class\n",
    "\n",
    "n_test = 1200\n",
    "\n",
    "test_images = []\n",
    "test_gt_labels = []\n",
    "\n",
    "\n",
    "train_images = []\n",
    "train_gt_labels = []\n",
    "\n",
    "ways = []\n",
    "\n",
    "\n",
    "\n",
    "for ntest in tqdm(range(n_test)):\n",
    "    #print(\"Test Classes: {}\".format(test_classes))\n",
    "\n",
    "    local_test_images = []\n",
    "    local_test_gt_labels = []\n",
    "\n",
    "\n",
    "    local_train_images = []\n",
    "    local_train_gt_labels = []\n",
    "\n",
    "    class_selector = random.sample(range(1, len(test_classes)), n_way)\n",
    "    local_ways = []\n",
    "\n",
    "    for i in class_selector:\n",
    "        local_ways.append(test_classes[i])\n",
    "\n",
    "    #print(\"Selected Indices: {}\".format(class_selector))\n",
    "    #print(\"Selected Classes: {}\".format(ways))\n",
    "\n",
    "\n",
    "    for cls_idx in class_selector:\n",
    "\n",
    "        class_label = test_classes[cls_idx]\n",
    "        x_sample_idx = random.sample(range(0, x_f[cls_idx].shape[0]), n_shot+1)\n",
    "\n",
    "        for c, idx in enumerate(x_sample_idx):\n",
    "\n",
    "            x_sample = x_f[cls_idx][idx].reshape(-1,784)\n",
    "\n",
    "            if c == len(x_sample_idx) - 1:\n",
    "                local_test_images.append(x_sample)\n",
    "                local_test_gt_labels.append(class_label)\n",
    "            else:\n",
    "                local_train_images.append(x_sample)\n",
    "                local_train_gt_labels.append(class_label)\n",
    "\n",
    "    # add local to general list\n",
    "    test_images.append(local_test_images)\n",
    "    test_gt_labels.append(local_test_gt_labels)\n",
    "    \n",
    "    train_images.append(local_train_images)\n",
    "    train_gt_labels.append(local_train_gt_labels)\n",
    "    ways.append(local_ways)\n",
    "\n",
    "np.savez(str(n_way)+\"-\"+str(n_shot)+'.npz', trainImage=train_images, trainLabel=train_gt_labels, testImage=test_images, testLabel=test_gt_labels, ways=ways)"
   ]
  },
  {
   "cell_type": "code",
   "execution_count": null,
   "metadata": {},
   "outputs": [],
   "source": [
    "# output of test images in terms of mu,sigma\n",
    "test_0 = scipy.stats.multivariate_normal(test_mus[0], np.diag(test_vars[0]))\n",
    "test_1 = scipy.stats.multivariate_normal(test_mus[1], np.diag(test_vars[1]))\n",
    "test_2 = scipy.stats.multivariate_normal(test_mus[2], np.diag(test_vars[2]))\n",
    "\n",
    "dist_0 = sps.multivariate_normal(avg_train_mus[0], np.diag(avg_train_vars[0]))\n",
    "dist_1 = sps.multivariate_normal(avg_train_mus[1], np.diag(avg_train_vars[1]))\n",
    "dist_2 = sps.multivariate_normal(avg_train_mus[2], np.diag(avg_train_vars[2]))"
   ]
  },
  {
   "cell_type": "code",
   "execution_count": null,
   "metadata": {},
   "outputs": [],
   "source": [
    "test_sample = test_0.rvs(100)\n",
    "test_sample = np.mean(test_sample, axis=0)\n",
    "test_sample"
   ]
  },
  {
   "cell_type": "code",
   "execution_count": null,
   "metadata": {},
   "outputs": [],
   "source": [
    "n_sample = 1\n",
    "\n",
    "test_sample = test_1.rvs(10)\n",
    "test_sample = np.mean(test_sample, axis=0)\n",
    "\n",
    "score_0 = 0.0\n",
    "for i in range(n_sample):\n",
    "    score_0 += mahalanobis(test_sample[i], train_mus[0], np.diag(avg_train_vars[0]))\n",
    "    \n",
    "print(score_0/n_sample)\n",
    "\n",
    "score_1 = 0.0\n",
    "for i in range(n_sample):\n",
    "    score_1 += mahalanobis(test_sample[i], train_mus[1], np.diag(avg_train_vars[1]))\n",
    "    \n",
    "print(score_1/n_sample)\n",
    "\n",
    "score_2 = 0.0\n",
    "for i in range(n_sample):\n",
    "    score_2 += mahalanobis(test_sample[i], train_mus[2], np.diag(avg_train_vars[2]))\n",
    "    \n",
    "print(score_2/n_sample)"
   ]
  },
  {
   "cell_type": "code",
   "execution_count": null,
   "metadata": {},
   "outputs": [],
   "source": [
    "eps = K.random_normal(shape=(100, z_dim), mean=0., stddev=1.0)\n",
    "\n",
    "dist_a1 = train_mus[0] + K.exp(train_vars[0]) * eps\n",
    "dist_b1 = train_mus[1] + K.exp(train_vars[1]) * eps\n",
    "dist_c1 = train_mus[2] + K.exp(train_vars[2]) * eps\n",
    "\n",
    "\n",
    "m_a1, std_a1 = np.mean(np.array(dist_a1)), np.std(np.array(dist_a1))\n",
    "m_b1, std_b1 = np.mean(np.array(dist_b1)), np.std(np.array(dist_b1))\n",
    "m_c1, std_c1 = np.mean(np.array(dist_c1)), np.std(np.array(dist_c1))\n",
    "\n",
    "\n",
    "x_a1 = np.random.normal(m_a1, std_a1, 100)\n",
    "x_b1 = np.random.normal(m_b1, std_b1, 100)\n",
    "x_c1 = np.random.normal(m_c1, std_c1, 100)\n",
    "\n",
    "\n",
    "#######################\n",
    "multivariate_a1 = scipy.stats.multivariate_normal(train_mus[0], np.diag(np.exp(train_vars[0])))\n",
    "multivariate_b1 = scipy.stats.multivariate_normal(train_mus[1], np.diag(np.exp(train_vars[1])))\n",
    "multivariate_c1 = scipy.stats.multivariate_normal(train_mus[2], np.diag(np.exp(train_vars[2])))\n",
    "\n",
    "multivariate_1 = scipy.stats.multivariate_normal(avg_train_mus[0], np.diag(np.exp(avg_train_vars[0])))\n",
    "multivariate_2 = scipy.stats.multivariate_normal(avg_train_mus[1], np.diag(np.exp(avg_train_vars[1])))\n",
    "multivariate_3 = scipy.stats.multivariate_normal(avg_train_mus[2], np.diag(np.exp(avg_train_vars[2])))"
   ]
  },
  {
   "cell_type": "code",
   "execution_count": null,
   "metadata": {},
   "outputs": [],
   "source": [
    "ks_2samp(x_a1, x_a1)"
   ]
  },
  {
   "cell_type": "code",
   "execution_count": null,
   "metadata": {},
   "outputs": [],
   "source": [
    "ks_2samp(x_a1, x_b1)"
   ]
  },
  {
   "cell_type": "code",
   "execution_count": null,
   "metadata": {},
   "outputs": [],
   "source": [
    "ks_2samp(x_a1, x_c1)"
   ]
  },
  {
   "cell_type": "code",
   "execution_count": null,
   "metadata": {},
   "outputs": [],
   "source": [
    "ks_2samp(x_b1, x_c1)"
   ]
  },
  {
   "cell_type": "code",
   "execution_count": null,
   "metadata": {},
   "outputs": [],
   "source": [
    "sps.ks_2samp()"
   ]
  }
 ],
 "metadata": {
  "interpreter": {
   "hash": "20095610f18a3268815da2e700e8452467ae104b71ca0ca74a40afa76fc500a6"
  },
  "kernelspec": {
   "display_name": "Python 3",
   "language": "python",
   "name": "python3"
  },
  "language_info": {
   "codemirror_mode": {
    "name": "ipython",
    "version": 3
   },
   "file_extension": ".py",
   "mimetype": "text/x-python",
   "name": "python",
   "nbconvert_exporter": "python",
   "pygments_lexer": "ipython3",
   "version": "3.7.6"
  }
 },
 "nbformat": 4,
 "nbformat_minor": 2
}
