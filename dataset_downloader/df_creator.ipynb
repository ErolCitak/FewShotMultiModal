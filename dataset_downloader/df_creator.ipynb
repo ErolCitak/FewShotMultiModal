{
 "cells": [
  {
   "cell_type": "code",
   "execution_count": 1,
   "metadata": {},
   "outputs": [],
   "source": [
    "import os\n",
    "import pandas as pd\n",
    "import numpy as np"
   ]
  },
  {
   "cell_type": "code",
   "execution_count": 2,
   "metadata": {},
   "outputs": [],
   "source": [
    "tags_df = pd.read_csv(\"C:/Users/PC/Desktop/FewShotPhd/data_hvu/hvu_classes/HVU_Tags_Categories_V1.0.csv\")\n",
    "general_df = pd.read_csv(\"D:/HolisticVideoUnderstanding/HVU_Train_V1.0.csv\")\n"
   ]
  },
  {
   "cell_type": "code",
   "execution_count": 3,
   "metadata": {},
   "outputs": [
    {
     "data": {
      "text/html": [
       "<div>\n",
       "<style scoped>\n",
       "    .dataframe tbody tr th:only-of-type {\n",
       "        vertical-align: middle;\n",
       "    }\n",
       "\n",
       "    .dataframe tbody tr th {\n",
       "        vertical-align: top;\n",
       "    }\n",
       "\n",
       "    .dataframe thead th {\n",
       "        text-align: right;\n",
       "    }\n",
       "</style>\n",
       "<table border=\"1\" class=\"dataframe\">\n",
       "  <thead>\n",
       "    <tr style=\"text-align: right;\">\n",
       "      <th></th>\n",
       "      <th>Tags</th>\n",
       "      <th>youtube_id</th>\n",
       "      <th>time_start</th>\n",
       "      <th>time_end</th>\n",
       "    </tr>\n",
       "  </thead>\n",
       "  <tbody>\n",
       "    <tr>\n",
       "      <th>0</th>\n",
       "      <td>brass_instrument|musical_instrument|trumpet|wo...</td>\n",
       "      <td>OLpWTpTC4P8</td>\n",
       "      <td>57.0</td>\n",
       "      <td>67.0</td>\n",
       "    </tr>\n",
       "    <tr>\n",
       "      <th>1</th>\n",
       "      <td>gadget|electronic_musical_instrument|electroni...</td>\n",
       "      <td>pjj6zedpCQY</td>\n",
       "      <td>75.0</td>\n",
       "      <td>85.0</td>\n",
       "    </tr>\n",
       "    <tr>\n",
       "      <th>2</th>\n",
       "      <td>photograph|joint|shoulder|nature|human_leg|fun...</td>\n",
       "      <td>_STSOsITd0E</td>\n",
       "      <td>3.0</td>\n",
       "      <td>13.0</td>\n",
       "    </tr>\n",
       "  </tbody>\n",
       "</table>\n",
       "</div>"
      ],
      "text/plain": [
       "                                                Tags   youtube_id  time_start  \\\n",
       "0  brass_instrument|musical_instrument|trumpet|wo...  OLpWTpTC4P8        57.0   \n",
       "1  gadget|electronic_musical_instrument|electroni...  pjj6zedpCQY        75.0   \n",
       "2  photograph|joint|shoulder|nature|human_leg|fun...  _STSOsITd0E         3.0   \n",
       "\n",
       "   time_end  \n",
       "0      67.0  \n",
       "1      85.0  \n",
       "2      13.0  "
      ]
     },
     "execution_count": 3,
     "metadata": {},
     "output_type": "execute_result"
    }
   ],
   "source": [
    "general_df.head(3)"
   ]
  },
  {
   "cell_type": "code",
   "execution_count": 48,
   "metadata": {},
   "outputs": [
    {
     "name": "stderr",
     "output_type": "stream",
     "text": [
      "C:\\Users\\PC\\anaconda3\\envs\\HVU_downloader\\lib\\site-packages\\ipykernel_launcher.py:16: SettingWithCopyWarning: \n",
      "A value is trying to be set on a copy of a slice from a DataFrame.\n",
      "Try using .loc[row_indexer,col_indexer] = value instead\n",
      "\n",
      "See the caveats in the documentation: https://pandas.pydata.org/pandas-docs/stable/user_guide/indexing.html#returning-a-view-versus-a-copy\n",
      "  app.launch_new_instance()\n"
     ]
    }
   ],
   "source": [
    "train_videos_path = \"D:/HolisticVideoUnderstanding/val\"\n",
    "train_videos_actions = os.listdir(train_videos_path)\n",
    "\n",
    "general_train_df = pd.DataFrame()\n",
    "\n",
    "for action in train_videos_actions:\n",
    "    \n",
    "    action_path = os.path.join(train_videos_path, action)\n",
    "    action_videos_name = os.listdir(action_path)\n",
    "    action_videos_id = []\n",
    "    \n",
    "    for name in action_videos_name:\n",
    "        action_videos_id.append(name.split(\".mp4\")[0])\n",
    "    \n",
    "    action_df = general_df[general_df[\"youtube_id\"].isin(action_videos_id)]\n",
    "    action_df[\"action_name\"] = [action] * len(action_df)\n",
    "    \n",
    "    general_train_df = general_train_df.append(action_df)  "
   ]
  },
  {
   "cell_type": "code",
   "execution_count": 49,
   "metadata": {},
   "outputs": [],
   "source": [
    "general_train_df[\"general_idx\"] = list(range(0, len(general_train_df)))"
   ]
  },
  {
   "cell_type": "code",
   "execution_count": 50,
   "metadata": {},
   "outputs": [
    {
     "data": {
      "text/html": [
       "<div>\n",
       "<style scoped>\n",
       "    .dataframe tbody tr th:only-of-type {\n",
       "        vertical-align: middle;\n",
       "    }\n",
       "\n",
       "    .dataframe tbody tr th {\n",
       "        vertical-align: top;\n",
       "    }\n",
       "\n",
       "    .dataframe thead th {\n",
       "        text-align: right;\n",
       "    }\n",
       "</style>\n",
       "<table border=\"1\" class=\"dataframe\">\n",
       "  <thead>\n",
       "    <tr style=\"text-align: right;\">\n",
       "      <th></th>\n",
       "      <th>Tags</th>\n",
       "      <th>youtube_id</th>\n",
       "      <th>time_start</th>\n",
       "      <th>time_end</th>\n",
       "      <th>action_name</th>\n",
       "      <th>general_idx</th>\n",
       "    </tr>\n",
       "  </thead>\n",
       "  <tbody>\n",
       "    <tr>\n",
       "      <th>368487</th>\n",
       "      <td>performing_arts|child|footwear|fun|salsa_danci...</td>\n",
       "      <td>XI1U85FEulQ</td>\n",
       "      <td>25.0</td>\n",
       "      <td>35.0</td>\n",
       "      <td>salsa dancing</td>\n",
       "      <td>1594</td>\n",
       "    </tr>\n",
       "    <tr>\n",
       "      <th>375500</th>\n",
       "      <td>performance|performing_arts|dancer|theatre|mus...</td>\n",
       "      <td>SnhPUac-QQI</td>\n",
       "      <td>86.0</td>\n",
       "      <td>96.0</td>\n",
       "      <td>salsa dancing</td>\n",
       "      <td>1595</td>\n",
       "    </tr>\n",
       "    <tr>\n",
       "      <th>375830</th>\n",
       "      <td>performance|shadow|performing_arts|night|silho...</td>\n",
       "      <td>ma4Mz-uDmEI</td>\n",
       "      <td>121.0</td>\n",
       "      <td>131.0</td>\n",
       "      <td>salsa dancing</td>\n",
       "      <td>1596</td>\n",
       "    </tr>\n",
       "    <tr>\n",
       "      <th>375925</th>\n",
       "      <td>night|cool|performing_arts|dancer|nightclub|fu...</td>\n",
       "      <td>_j6-afs7_0E</td>\n",
       "      <td>37.0</td>\n",
       "      <td>47.0</td>\n",
       "      <td>salsa dancing</td>\n",
       "      <td>1597</td>\n",
       "    </tr>\n",
       "    <tr>\n",
       "      <th>375926</th>\n",
       "      <td>night|bar|fun|entertainment|salsa_dancing|ligh...</td>\n",
       "      <td>KwOxD1CRYFo</td>\n",
       "      <td>105.0</td>\n",
       "      <td>115.0</td>\n",
       "      <td>salsa dancing</td>\n",
       "      <td>1598</td>\n",
       "    </tr>\n",
       "  </tbody>\n",
       "</table>\n",
       "</div>"
      ],
      "text/plain": [
       "                                                     Tags   youtube_id  \\\n",
       "368487  performing_arts|child|footwear|fun|salsa_danci...  XI1U85FEulQ   \n",
       "375500  performance|performing_arts|dancer|theatre|mus...  SnhPUac-QQI   \n",
       "375830  performance|shadow|performing_arts|night|silho...  ma4Mz-uDmEI   \n",
       "375925  night|cool|performing_arts|dancer|nightclub|fu...  _j6-afs7_0E   \n",
       "375926  night|bar|fun|entertainment|salsa_dancing|ligh...  KwOxD1CRYFo   \n",
       "\n",
       "        time_start  time_end    action_name  general_idx  \n",
       "368487        25.0      35.0  salsa dancing         1594  \n",
       "375500        86.0      96.0  salsa dancing         1595  \n",
       "375830       121.0     131.0  salsa dancing         1596  \n",
       "375925        37.0      47.0  salsa dancing         1597  \n",
       "375926       105.0     115.0  salsa dancing         1598  "
      ]
     },
     "execution_count": 50,
     "metadata": {},
     "output_type": "execute_result"
    }
   ],
   "source": [
    "general_train_df.tail()"
   ]
  },
  {
   "cell_type": "code",
   "execution_count": 51,
   "metadata": {},
   "outputs": [],
   "source": [
    "general_train_df.to_csv(\"C:/Users/PC/Desktop/FewShotPhd/data_hvu/hvu_classes/val_df.csv\", index=False)"
   ]
  },
  {
   "cell_type": "code",
   "execution_count": null,
   "metadata": {},
   "outputs": [],
   "source": []
  }
 ],
 "metadata": {
  "interpreter": {
   "hash": "5f6b2c0caf09e7f5074300822a678449c06d61679fa16ad2237aa0fdfe76d86b"
  },
  "kernelspec": {
   "display_name": "Python 3.7.7 64-bit ('HVU_downloader': conda)",
   "language": "python",
   "name": "python3"
  },
  "language_info": {
   "codemirror_mode": {
    "name": "ipython",
    "version": 3
   },
   "file_extension": ".py",
   "mimetype": "text/x-python",
   "name": "python",
   "nbconvert_exporter": "python",
   "pygments_lexer": "ipython3",
   "version": "3.7.7"
  },
  "orig_nbformat": 4
 },
 "nbformat": 4,
 "nbformat_minor": 2
}
