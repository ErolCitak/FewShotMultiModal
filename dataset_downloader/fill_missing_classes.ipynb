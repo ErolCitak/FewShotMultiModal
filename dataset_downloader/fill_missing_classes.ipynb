{
 "cells": [
  {
   "cell_type": "code",
   "execution_count": 2,
   "metadata": {},
   "outputs": [],
   "source": [
    "import os\n",
    "import shutil\n",
    "import glob\n",
    "import pandas as pd\n",
    "import random"
   ]
  },
  {
   "cell_type": "code",
   "execution_count": 2,
   "metadata": {},
   "outputs": [],
   "source": [
    "d_path = \"D:/HolisticVideoUnderstanding/\"\n",
    "\n",
    "train_path = os.path.join(d_path, \"train\")\n",
    "test_path = os.path.join(d_path, \"test\")\n",
    "val_path = os.path.join(d_path, \"val\")\n",
    "\n",
    "less_train = []\n",
    "less_val = []\n",
    "less_test = []"
   ]
  },
  {
   "cell_type": "code",
   "execution_count": 3,
   "metadata": {},
   "outputs": [
    {
     "name": "stdout",
     "output_type": "stream",
     "text": [
      "air drumming\n",
      "118 - 0\n",
      "--------------------\n",
      "alpine skiing\n",
      "113 - 0\n",
      "--------------------\n",
      "beach soccer\n",
      "119 - 0\n",
      "--------------------\n",
      "bmx\n",
      "121 - 0\n",
      "--------------------\n",
      "boating\n",
      "113 - 0\n",
      "--------------------\n",
      "calf roping\n",
      "125 - 0\n",
      "--------------------\n",
      "cooking egg\n",
      "109 - 0\n",
      "--------------------\n",
      "disc dog\n",
      "115 - 0\n",
      "--------------------\n",
      "diving cliff\n",
      "133 - 0\n",
      "--------------------\n",
      "docking boat\n",
      "125 - 0\n",
      "--------------------\n",
      "downhill mountain biking\n",
      "128 - 0\n",
      "--------------------\n",
      "eating cake\n",
      "104 - 0\n",
      "--------------------\n",
      "eating ice cream\n",
      "112 - 0\n",
      "--------------------\n",
      "feeding fish\n",
      "117 - 0\n",
      "--------------------\n",
      "fishing\n",
      "104 - 0\n",
      "--------------------\n",
      "flying kite\n",
      "120 - 0\n",
      "--------------------\n",
      "golf\n",
      "121 - 0\n",
      "--------------------\n",
      "golf putting\n",
      "121 - 0\n",
      "--------------------\n",
      "grooming dog\n",
      "118 - 0\n",
      "--------------------\n",
      "grooming horse\n",
      "107 - 0\n",
      "--------------------\n",
      "hula hooping\n",
      "131 - 0\n",
      "--------------------\n",
      "ice climbing\n",
      "110 - 0\n",
      "--------------------\n",
      "ice fishing\n",
      "113 - 0\n",
      "--------------------\n",
      "luge\n",
      "119 - 0\n",
      "--------------------\n",
      "making tea\n",
      "113 - 0\n",
      "--------------------\n",
      "milking cow\n",
      "107 - 0\n",
      "--------------------\n",
      "mountain biking\n",
      "131 - 0\n",
      "--------------------\n",
      "outdoor recreation\n",
      "145 - 0\n",
      "--------------------\n",
      "playing beer pong\n",
      "107 - 0\n",
      "--------------------\n",
      "playing polo\n",
      "105 - 0\n",
      "--------------------\n",
      "playing water polo\n",
      "120 - 0\n",
      "--------------------\n",
      "pumping gas\n",
      "123 - 0\n",
      "--------------------\n",
      "purl\n",
      "113 - 0\n",
      "--------------------\n",
      "rafting\n",
      "115 - 0\n",
      "--------------------\n",
      "riding a bike\n",
      "120 - 0\n",
      "--------------------\n",
      "riding bumper cars\n",
      "130 - 0\n",
      "--------------------\n",
      "riding elephant\n",
      "110 - 0\n",
      "--------------------\n",
      "riding mower\n",
      "125 - 0\n",
      "--------------------\n",
      "riding or walking with horse\n",
      "128 - 0\n",
      "--------------------\n",
      "riding scooter\n",
      "117 - 0\n",
      "--------------------\n",
      "riding unicycle\n",
      "125 - 0\n",
      "--------------------\n",
      "roasting pig\n",
      "126 - 0\n",
      "--------------------\n",
      "rock climbing\n",
      "114 - 0\n",
      "--------------------\n",
      "roller skating\n",
      "118 - 0\n",
      "--------------------\n",
      "scuba diving\n",
      "107 - 0\n",
      "--------------------\n",
      "shoveling snow\n",
      "124 - 0\n",
      "--------------------\n",
      "skateboarding\n",
      "144 - 0\n",
      "--------------------\n",
      "skiing crosscountry\n",
      "111 - 0\n",
      "--------------------\n",
      "skiing mono\n",
      "114 - 0\n",
      "--------------------\n",
      "skiing slalom\n",
      "113 - 0\n",
      "--------------------\n",
      "snow tubing\n",
      "124 - 0\n",
      "--------------------\n",
      "tai chi\n",
      "109 - 0\n",
      "--------------------\n",
      "tasting beer\n",
      "111 - 0\n",
      "--------------------\n",
      "tasting wine\n",
      "116 - 0\n",
      "--------------------\n",
      "training dog\n",
      "122 - 0\n",
      "--------------------\n",
      "visiting the zoo\n",
      "109 - 0\n",
      "--------------------\n",
      "wading through water\n",
      "120 - 0\n",
      "--------------------\n",
      "walking the dog\n",
      "115 - 0\n",
      "--------------------\n",
      "walking through snow\n",
      "113 - 0\n",
      "--------------------\n",
      "watching tv\n",
      "122 - 0\n",
      "--------------------\n",
      "water skiing\n",
      "117 - 0\n",
      "--------------------\n",
      "windsurfing\n",
      "134 - 0\n",
      "--------------------\n"
     ]
    }
   ],
   "source": [
    "for folder in os.listdir(train_path):\n",
    "    folder_path = os.path.join(train_path, folder)\n",
    "    \n",
    "    \n",
    "    mp4_files = glob.glob(os.path.join(folder_path,\"*.mp4\"))\n",
    "    other_files = list(set(glob.glob(os.path.join(folder_path,\"*.*\"))) - set(mp4_files))\n",
    "    \n",
    "    # remove other files\n",
    "    for other_file in other_files:\n",
    "        os.remove(other_file)\n",
    "        \n",
    "    other_files = list(set(glob.glob(os.path.join(folder_path,\"*.*\"))) - set(mp4_files))\n",
    "    \n",
    "    if len(mp4_files) < 100:\n",
    "        less_test.append(folder)\n",
    "    \n",
    "    print(folder)\n",
    "    print(\"{} - {}\".format(len(mp4_files), len(other_files)))\n",
    "    print(\"--------------------\")"
   ]
  },
  {
   "cell_type": "code",
   "execution_count": 4,
   "metadata": {},
   "outputs": [
    {
     "data": {
      "text/plain": [
       "[]"
      ]
     },
     "execution_count": 4,
     "metadata": {},
     "output_type": "execute_result"
    }
   ],
   "source": [
    "less_train"
   ]
  },
  {
   "cell_type": "code",
   "execution_count": 5,
   "metadata": {},
   "outputs": [],
   "source": [
    "new_train = [\"crochet\", \"zumba\"]"
   ]
  },
  {
   "cell_type": "code",
   "execution_count": 7,
   "metadata": {},
   "outputs": [
    {
     "data": {
      "text/plain": [
       "[]"
      ]
     },
     "execution_count": 7,
     "metadata": {},
     "output_type": "execute_result"
    }
   ],
   "source": [
    "less_test"
   ]
  },
  {
   "cell_type": "code",
   "execution_count": 118,
   "metadata": {},
   "outputs": [],
   "source": [
    "new_test = [\"soccer\"]"
   ]
  },
  {
   "cell_type": "code",
   "execution_count": 119,
   "metadata": {},
   "outputs": [
    {
     "data": {
      "text/plain": [
       "[]"
      ]
     },
     "execution_count": 119,
     "metadata": {},
     "output_type": "execute_result"
    }
   ],
   "source": [
    "less_val"
   ]
  },
  {
   "cell_type": "code",
   "execution_count": 19,
   "metadata": {},
   "outputs": [],
   "source": [
    "data_path = \"D://HolisticVideoUnderstanding/\"\n",
    "df_save_path = \"C:/Users/PC/Desktop/FewShotPhd/data_hvu/hvu_classes/\" "
   ]
  },
  {
   "cell_type": "code",
   "execution_count": 20,
   "metadata": {},
   "outputs": [],
   "source": [
    "# Read the train csv to obtain video ids\n",
    "df_hvu_train = pd.read_csv(os.path.join(data_path, \"HVU_Train_V1.0.csv\"))"
   ]
  },
  {
   "cell_type": "code",
   "execution_count": 21,
   "metadata": {},
   "outputs": [
    {
     "data": {
      "text/html": [
       "<div>\n",
       "<style scoped>\n",
       "    .dataframe tbody tr th:only-of-type {\n",
       "        vertical-align: middle;\n",
       "    }\n",
       "\n",
       "    .dataframe tbody tr th {\n",
       "        vertical-align: top;\n",
       "    }\n",
       "\n",
       "    .dataframe thead th {\n",
       "        text-align: right;\n",
       "    }\n",
       "</style>\n",
       "<table border=\"1\" class=\"dataframe\">\n",
       "  <thead>\n",
       "    <tr style=\"text-align: right;\">\n",
       "      <th></th>\n",
       "      <th>Tags</th>\n",
       "      <th>youtube_id</th>\n",
       "      <th>time_start</th>\n",
       "      <th>time_end</th>\n",
       "    </tr>\n",
       "  </thead>\n",
       "  <tbody>\n",
       "    <tr>\n",
       "      <th>0</th>\n",
       "      <td>brass_instrument|musical_instrument|trumpet|wo...</td>\n",
       "      <td>OLpWTpTC4P8</td>\n",
       "      <td>57.0</td>\n",
       "      <td>67.0</td>\n",
       "    </tr>\n",
       "    <tr>\n",
       "      <th>1</th>\n",
       "      <td>gadget|electronic_musical_instrument|electroni...</td>\n",
       "      <td>pjj6zedpCQY</td>\n",
       "      <td>75.0</td>\n",
       "      <td>85.0</td>\n",
       "    </tr>\n",
       "    <tr>\n",
       "      <th>2</th>\n",
       "      <td>photograph|joint|shoulder|nature|human_leg|fun...</td>\n",
       "      <td>_STSOsITd0E</td>\n",
       "      <td>3.0</td>\n",
       "      <td>13.0</td>\n",
       "    </tr>\n",
       "    <tr>\n",
       "      <th>3</th>\n",
       "      <td>mouth|child|fun|nose|hair|human_hair_color|hea...</td>\n",
       "      <td>0r_BGL3416g</td>\n",
       "      <td>406.0</td>\n",
       "      <td>416.0</td>\n",
       "    </tr>\n",
       "    <tr>\n",
       "      <th>4</th>\n",
       "      <td>photograph|violist|cellist|violin_family|night...</td>\n",
       "      <td>xsPKW4tZZBc</td>\n",
       "      <td>233.0</td>\n",
       "      <td>243.0</td>\n",
       "    </tr>\n",
       "  </tbody>\n",
       "</table>\n",
       "</div>"
      ],
      "text/plain": [
       "                                                Tags   youtube_id  time_start  \\\n",
       "0  brass_instrument|musical_instrument|trumpet|wo...  OLpWTpTC4P8        57.0   \n",
       "1  gadget|electronic_musical_instrument|electroni...  pjj6zedpCQY        75.0   \n",
       "2  photograph|joint|shoulder|nature|human_leg|fun...  _STSOsITd0E         3.0   \n",
       "3  mouth|child|fun|nose|hair|human_hair_color|hea...  0r_BGL3416g       406.0   \n",
       "4  photograph|violist|cellist|violin_family|night...  xsPKW4tZZBc       233.0   \n",
       "\n",
       "   time_end  \n",
       "0      67.0  \n",
       "1      85.0  \n",
       "2      13.0  \n",
       "3     416.0  \n",
       "4     243.0  "
      ]
     },
     "execution_count": 21,
     "metadata": {},
     "output_type": "execute_result"
    }
   ],
   "source": [
    "df_hvu_train.head()"
   ]
  },
  {
   "cell_type": "code",
   "execution_count": 23,
   "metadata": {},
   "outputs": [
    {
     "data": {
      "text/plain": [
       "11535"
      ]
     },
     "execution_count": 23,
     "metadata": {},
     "output_type": "execute_result"
    }
   ],
   "source": [
    "len(train_df)"
   ]
  },
  {
   "cell_type": "code",
   "execution_count": 26,
   "metadata": {},
   "outputs": [
    {
     "data": {
      "text/html": [
       "<div>\n",
       "<style scoped>\n",
       "    .dataframe tbody tr th:only-of-type {\n",
       "        vertical-align: middle;\n",
       "    }\n",
       "\n",
       "    .dataframe tbody tr th {\n",
       "        vertical-align: top;\n",
       "    }\n",
       "\n",
       "    .dataframe thead th {\n",
       "        text-align: right;\n",
       "    }\n",
       "</style>\n",
       "<table border=\"1\" class=\"dataframe\">\n",
       "  <thead>\n",
       "    <tr style=\"text-align: right;\">\n",
       "      <th></th>\n",
       "      <th>Tags</th>\n",
       "      <th>youtube_id</th>\n",
       "      <th>time_start</th>\n",
       "      <th>time_end</th>\n",
       "      <th>action_name</th>\n",
       "    </tr>\n",
       "  </thead>\n",
       "  <tbody>\n",
       "    <tr>\n",
       "      <th>162054</th>\n",
       "      <td>crochet|thread|crochet_needle|nail|hand|knitti...</td>\n",
       "      <td>y8G2k0ef6_Q</td>\n",
       "      <td>19.0</td>\n",
       "      <td>29.0</td>\n",
       "      <td>crochet</td>\n",
       "    </tr>\n",
       "    <tr>\n",
       "      <th>12118</th>\n",
       "      <td>knitting_needle|crochet|thread|thumb|wire|meta...</td>\n",
       "      <td>ZayUtwgNTwA</td>\n",
       "      <td>874.0</td>\n",
       "      <td>884.0</td>\n",
       "      <td>crochet</td>\n",
       "    </tr>\n",
       "    <tr>\n",
       "      <th>104544</th>\n",
       "      <td>weaving|needlework|mesh|crochet|pattern|thread...</td>\n",
       "      <td>Sd1Lt9MWi7w</td>\n",
       "      <td>84.0</td>\n",
       "      <td>94.0</td>\n",
       "      <td>crochet</td>\n",
       "    </tr>\n",
       "    <tr>\n",
       "      <th>351828</th>\n",
       "      <td>needlework|crochet|knot|thread|craft|embroider...</td>\n",
       "      <td>Uzg9fpgx-6Y</td>\n",
       "      <td>446.0</td>\n",
       "      <td>456.0</td>\n",
       "      <td>crochet</td>\n",
       "    </tr>\n",
       "    <tr>\n",
       "      <th>319155</th>\n",
       "      <td>knitting_needle|knot|thread|plastic|crochet_ne...</td>\n",
       "      <td>A9fmjq_-t4Y</td>\n",
       "      <td>53.0</td>\n",
       "      <td>63.0</td>\n",
       "      <td>crochet</td>\n",
       "    </tr>\n",
       "  </tbody>\n",
       "</table>\n",
       "</div>"
      ],
      "text/plain": [
       "                                                     Tags   youtube_id  \\\n",
       "162054  crochet|thread|crochet_needle|nail|hand|knitti...  y8G2k0ef6_Q   \n",
       "12118   knitting_needle|crochet|thread|thumb|wire|meta...  ZayUtwgNTwA   \n",
       "104544  weaving|needlework|mesh|crochet|pattern|thread...  Sd1Lt9MWi7w   \n",
       "351828  needlework|crochet|knot|thread|craft|embroider...  Uzg9fpgx-6Y   \n",
       "319155  knitting_needle|knot|thread|plastic|crochet_ne...  A9fmjq_-t4Y   \n",
       "\n",
       "        time_start  time_end action_name  \n",
       "162054        19.0      29.0     crochet  \n",
       "12118        874.0     884.0     crochet  \n",
       "104544        84.0      94.0     crochet  \n",
       "351828       446.0     456.0     crochet  \n",
       "319155        53.0      63.0     crochet  "
      ]
     },
     "execution_count": 26,
     "metadata": {},
     "output_type": "execute_result"
    }
   ],
   "source": [
    "add_df = pd.DataFrame.sample(df_hvu_train[df_hvu_train.Tags.str.contains(\"crochet\")], 300)\n",
    "add_df[\"action_name\"] = [\"crochet\"] * len(add_df)\n",
    "add_df.head()"
   ]
  },
  {
   "cell_type": "code",
   "execution_count": 27,
   "metadata": {},
   "outputs": [],
   "source": [
    "train_df = train_df.append(add_df)"
   ]
  },
  {
   "cell_type": "code",
   "execution_count": 28,
   "metadata": {},
   "outputs": [
    {
     "data": {
      "text/plain": [
       "12135"
      ]
     },
     "execution_count": 28,
     "metadata": {},
     "output_type": "execute_result"
    }
   ],
   "source": [
    "len(train_df)"
   ]
  },
  {
   "cell_type": "code",
   "execution_count": 30,
   "metadata": {},
   "outputs": [],
   "source": [
    "train_df.to_csv(df_save_path + 'train_df.csv', index=False)"
   ]
  },
  {
   "cell_type": "code",
   "execution_count": 8,
   "metadata": {},
   "outputs": [],
   "source": [
    "# Remove missing classes from df"
   ]
  },
  {
   "cell_type": "code",
   "execution_count": 1,
   "metadata": {},
   "outputs": [
    {
     "ename": "NameError",
     "evalue": "name 'pd' is not defined",
     "output_type": "error",
     "traceback": [
      "\u001b[1;31m---------------------------------------------------------------------------\u001b[0m",
      "\u001b[1;31mNameError\u001b[0m                                 Traceback (most recent call last)",
      "\u001b[1;32m~\\AppData\\Local\\Temp/ipykernel_28340/3506138508.py\u001b[0m in \u001b[0;36m<module>\u001b[1;34m\u001b[0m\n\u001b[0;32m      2\u001b[0m \u001b[0mdf_folder_path\u001b[0m \u001b[1;33m=\u001b[0m \u001b[0mos\u001b[0m\u001b[1;33m.\u001b[0m\u001b[0mpath\u001b[0m\u001b[1;33m.\u001b[0m\u001b[0mjoin\u001b[0m\u001b[1;33m(\u001b[0m\u001b[1;34m\"D:/HolisticVideoUnderstanding_firstAttempt/\"\u001b[0m\u001b[1;33m,\u001b[0m \u001b[1;34m\"train\"\u001b[0m\u001b[1;33m)\u001b[0m\u001b[1;33m\u001b[0m\u001b[1;33m\u001b[0m\u001b[0m\n\u001b[0;32m      3\u001b[0m \u001b[1;33m\u001b[0m\u001b[0m\n\u001b[1;32m----> 4\u001b[1;33m \u001b[0mtrain_df\u001b[0m \u001b[1;33m=\u001b[0m \u001b[0mpd\u001b[0m\u001b[1;33m.\u001b[0m\u001b[0mread_csv\u001b[0m\u001b[1;33m(\u001b[0m\u001b[0mdf_save_path\u001b[0m\u001b[1;33m+\u001b[0m\u001b[1;34m\"train_df.csv\"\u001b[0m\u001b[1;33m)\u001b[0m\u001b[1;33m\u001b[0m\u001b[1;33m\u001b[0m\u001b[0m\n\u001b[0m\u001b[0;32m      5\u001b[0m \u001b[0mtrain_df\u001b[0m\u001b[1;33m.\u001b[0m\u001b[0mtail\u001b[0m\u001b[1;33m(\u001b[0m\u001b[1;33m)\u001b[0m\u001b[1;33m\u001b[0m\u001b[1;33m\u001b[0m\u001b[0m\n",
      "\u001b[1;31mNameError\u001b[0m: name 'pd' is not defined"
     ]
    }
   ],
   "source": [
    "df_save_path = \"C:/Users/PC/Desktop/FewShotPhd/data_hvu/hvu_classes/\" \n",
    "df_folder_path = os.path.join(\"D:/HolisticVideoUnderstanding_firstAttempt/\", \"train\")\n",
    "\n",
    "train_df = pd.read_csv(df_save_path+\"train_df.csv\")\n",
    "train_df.tail()"
   ]
  },
  {
   "cell_type": "code",
   "execution_count": 41,
   "metadata": {},
   "outputs": [
    {
     "data": {
      "text/plain": [
       "['adjusting glasses',\n",
       " 'basketball moves',\n",
       " 'bowling',\n",
       " 'choreography',\n",
       " 'climbing',\n",
       " 'directing traffic',\n",
       " 'equitation',\n",
       " 'gymnastics',\n",
       " 'hoverboarding',\n",
       " 'making a sandwich',\n",
       " 'playing basketball',\n",
       " 'salsa dancing']"
      ]
     },
     "execution_count": 41,
     "metadata": {},
     "output_type": "execute_result"
    }
   ],
   "source": [
    "greater_100_classes = os.listdir(df_folder_path)\n",
    "greater_100_classes"
   ]
  },
  {
   "cell_type": "code",
   "execution_count": 42,
   "metadata": {},
   "outputs": [],
   "source": [
    "remove_idx = []\n",
    "\n",
    "for i in range(len(train_df)):\n",
    "    \n",
    "    if train_df.iloc[i][-1] not in greater_100_classes:\n",
    "        remove_idx.append(i)"
   ]
  },
  {
   "cell_type": "code",
   "execution_count": 43,
   "metadata": {},
   "outputs": [
    {
     "data": {
      "text/plain": [
       "0"
      ]
     },
     "execution_count": 43,
     "metadata": {},
     "output_type": "execute_result"
    }
   ],
   "source": [
    "len(remove_idx)"
   ]
  },
  {
   "cell_type": "code",
   "execution_count": 44,
   "metadata": {},
   "outputs": [],
   "source": [
    "train_df = train_df.drop(remove_idx)\n",
    "train_df.to_csv(df_save_path + 'val_df.csv', index=False)"
   ]
  },
  {
   "cell_type": "code",
   "execution_count": null,
   "metadata": {},
   "outputs": [],
   "source": []
  }
 ],
 "metadata": {
  "kernelspec": {
   "display_name": "Python 3",
   "language": "python",
   "name": "python3"
  },
  "language_info": {
   "codemirror_mode": {
    "name": "ipython",
    "version": 3
   },
   "file_extension": ".py",
   "mimetype": "text/x-python",
   "name": "python",
   "nbconvert_exporter": "python",
   "pygments_lexer": "ipython3",
   "version": "3.7.7"
  }
 },
 "nbformat": 4,
 "nbformat_minor": 4
}
