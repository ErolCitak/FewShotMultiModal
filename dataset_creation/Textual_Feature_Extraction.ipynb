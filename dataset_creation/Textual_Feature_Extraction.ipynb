{
 "cells": [
  {
   "cell_type": "code",
   "execution_count": 5,
   "metadata": {},
   "outputs": [],
   "source": [
    "from gensim.models import FastText\n",
    "from gensim.models.fasttext import load_facebook_model\n",
    "\n",
    "import pandas as pd\n",
    "import bigjson\n",
    "import numpy as np\n",
    "import json\n",
    "from tqdm import tqdm\n",
    "import time\n",
    "\n",
    "import tensorflow_hub as hub\n",
    "import tensorflow as tf\n",
    "\n",
    "import os"
   ]
  },
  {
   "cell_type": "code",
   "execution_count": 34,
   "metadata": {},
   "outputs": [],
   "source": [
    "# Elmo related loads, inits\n",
    "\n",
    "elmo_model = \"https://tfhub.dev/google/elmo/2\"\n",
    "\n",
    "hub_layer = hub.KerasLayer(elmo_model, input_shape=[], dtype=tf.string)"
   ]
  },
  {
   "cell_type": "code",
   "execution_count": 164,
   "metadata": {},
   "outputs": [],
   "source": [
    "# movie frame folders\n",
    "main_path = \"C:\\HolisticVideoUnderstanding\"\n",
    "\n",
    "sampled_test = os.path.join(main_path, \"sampled_test\") # +\n",
    "sampled_train = os.path.join(main_path, \"sampled_train\") # +\n",
    "sampled_val = os.path.join(main_path, \"sampled_val\") # +\n",
    "\n",
    "uniform_test = os.path.join(main_path, \"uniform_test\") # +\n",
    "uniform_train = os.path.join(main_path, \"uniform_train\") # +\n",
    "uniform_val = os.path.join(main_path, \"uniform_val\") # +"
   ]
  },
  {
   "cell_type": "code",
   "execution_count": 165,
   "metadata": {},
   "outputs": [
    {
     "name": "stdout",
     "output_type": "stream",
     "text": [
      "C:\\HolisticVideoUnderstanding\\uniform_train\n"
     ]
    }
   ],
   "source": [
    "analyzing_group = uniform_train\n",
    "\n",
    "print(analyzing_group)"
   ]
  },
  {
   "cell_type": "code",
   "execution_count": 166,
   "metadata": {},
   "outputs": [
    {
     "data": {
      "text/html": [
       "<div>\n",
       "<style scoped>\n",
       "    .dataframe tbody tr th:only-of-type {\n",
       "        vertical-align: middle;\n",
       "    }\n",
       "\n",
       "    .dataframe tbody tr th {\n",
       "        vertical-align: top;\n",
       "    }\n",
       "\n",
       "    .dataframe thead th {\n",
       "        text-align: right;\n",
       "    }\n",
       "</style>\n",
       "<table border=\"1\" class=\"dataframe\">\n",
       "  <thead>\n",
       "    <tr style=\"text-align: right;\">\n",
       "      <th></th>\n",
       "      <th>Tags</th>\n",
       "      <th>youtube_id</th>\n",
       "      <th>time_start</th>\n",
       "      <th>time_end</th>\n",
       "      <th>action_name</th>\n",
       "      <th>general_idx</th>\n",
       "    </tr>\n",
       "  </thead>\n",
       "  <tbody>\n",
       "    <tr>\n",
       "      <th>0</th>\n",
       "      <td>carnivoran|mouth|fun|joint|human_leg|muscle|gi...</td>\n",
       "      <td>rJzHt-WU1cs</td>\n",
       "      <td>4.0</td>\n",
       "      <td>14.0</td>\n",
       "      <td>air drumming</td>\n",
       "      <td>0</td>\n",
       "    </tr>\n",
       "    <tr>\n",
       "      <th>1</th>\n",
       "      <td>daytime|land_vehicle|mouth|mode_of_transport|c...</td>\n",
       "      <td>l-W0altbZ3o</td>\n",
       "      <td>17.0</td>\n",
       "      <td>27.0</td>\n",
       "      <td>air drumming</td>\n",
       "      <td>1</td>\n",
       "    </tr>\n",
       "    <tr>\n",
       "      <th>2</th>\n",
       "      <td>mouth|fun|nose|musician|hair|keyboard_player|p...</td>\n",
       "      <td>u-nRitozDOE</td>\n",
       "      <td>1.0</td>\n",
       "      <td>11.0</td>\n",
       "      <td>air drumming</td>\n",
       "      <td>2</td>\n",
       "    </tr>\n",
       "  </tbody>\n",
       "</table>\n",
       "</div>"
      ],
      "text/plain": [
       "                                                Tags   youtube_id  time_start  \\\n",
       "0  carnivoran|mouth|fun|joint|human_leg|muscle|gi...  rJzHt-WU1cs         4.0   \n",
       "1  daytime|land_vehicle|mouth|mode_of_transport|c...  l-W0altbZ3o        17.0   \n",
       "2  mouth|fun|nose|musician|hair|keyboard_player|p...  u-nRitozDOE         1.0   \n",
       "\n",
       "   time_end   action_name  general_idx  \n",
       "0      14.0  air drumming            0  \n",
       "1      27.0  air drumming            1  \n",
       "2      11.0  air drumming            2  "
      ]
     },
     "execution_count": 166,
     "metadata": {},
     "output_type": "execute_result"
    }
   ],
   "source": [
    "captions_path = r\"C:/Users/PC/Desktop/FewShotPhd/data_hvu/hvu_classes/train_df.csv\"\n",
    "captions_df = pd.read_csv(captions_path)\n",
    "\n",
    "captions_df.head(3)"
   ]
  },
  {
   "cell_type": "code",
   "execution_count": 167,
   "metadata": {},
   "outputs": [
    {
     "name": "stdout",
     "output_type": "stream",
     "text": [
      "['carnivoran', 'mouth', 'fun', 'joint', 'human leg', 'muscle', 'girl', 'nose', 'diaper', 'head', 'infant', 'skin', 'neck', 'arm', 'black hair', 'forehead', 'air drumming', 'face', 'child', 'human hair color', 'thigh', 'hand', 'toddler', 'standing', 'chest', 'finger']\n"
     ]
    }
   ],
   "source": [
    "y_id = \"rJzHt-WU1cs\"\n",
    "g_idx = 0\n",
    "\n",
    "\n",
    "filter_1 = captions_df[\"youtube_id\"] == y_id\n",
    "filter_2 = captions_df[\"general_idx\"] == g_idx\n",
    "\n",
    "y_keywords = captions_df[filter_1 & filter_2].Tags.values.tolist()[0].split(\"|\")\n",
    "y_keywords = [keyword.replace(\"_\", \" \") for keyword in y_keywords]\n",
    "\n",
    "##########\n",
    "# !! Remove class name from these keywords\n",
    "##########\n",
    "print(y_keywords)"
   ]
  },
  {
   "cell_type": "code",
   "execution_count": 168,
   "metadata": {},
   "outputs": [],
   "source": [
    "def text_feature_by_id(text):\n",
    "    try:\n",
    "        element_vector = np.zeros((1024,), np.float32)\n",
    "        video_texts = []\n",
    "        text = np.array(text)\n",
    "        n_sentence = 0\n",
    "        \n",
    "        for token in text:\n",
    "            n_sentence += 1\n",
    "            video_texts.append(str(token))\n",
    "            \n",
    "        emb = hub_layer(tf.convert_to_tensor(video_texts))\n",
    "        emb = emb.numpy().mean(axis=0).reshape(-1)\n",
    "        \n",
    "        return emb\n",
    "    except:\n",
    "        return element_vector"
   ]
  },
  {
   "cell_type": "code",
   "execution_count": 169,
   "metadata": {},
   "outputs": [
    {
     "name": "stderr",
     "output_type": "stream",
     "text": [
      "  3%|▎         | 3/100 [00:00<00:03, 27.78it/s]"
     ]
    },
    {
     "name": "stdout",
     "output_type": "stream",
     "text": [
      "Folder --> 0/64\n"
     ]
    },
    {
     "name": "stderr",
     "output_type": "stream",
     "text": [
      "100%|██████████| 100/100 [00:03<00:00, 33.11it/s]\n",
      "  4%|▍         | 4/100 [00:00<00:03, 31.01it/s]"
     ]
    },
    {
     "name": "stdout",
     "output_type": "stream",
     "text": [
      "Folder --> 1/64\n"
     ]
    },
    {
     "name": "stderr",
     "output_type": "stream",
     "text": [
      "100%|██████████| 100/100 [00:03<00:00, 30.66it/s]\n",
      "  4%|▍         | 4/100 [00:00<00:02, 36.36it/s]"
     ]
    },
    {
     "name": "stdout",
     "output_type": "stream",
     "text": [
      "Folder --> 2/64\n"
     ]
    },
    {
     "name": "stderr",
     "output_type": "stream",
     "text": [
      "100%|██████████| 100/100 [00:02<00:00, 33.41it/s]\n",
      "  4%|▍         | 4/100 [00:00<00:03, 30.53it/s]"
     ]
    },
    {
     "name": "stdout",
     "output_type": "stream",
     "text": [
      "Folder --> 3/64\n"
     ]
    },
    {
     "name": "stderr",
     "output_type": "stream",
     "text": [
      "100%|██████████| 100/100 [00:03<00:00, 32.25it/s]\n",
      "  3%|▎         | 3/100 [00:00<00:03, 25.21it/s]"
     ]
    },
    {
     "name": "stdout",
     "output_type": "stream",
     "text": [
      "Folder --> 4/64\n"
     ]
    },
    {
     "name": "stderr",
     "output_type": "stream",
     "text": [
      "100%|██████████| 100/100 [00:04<00:00, 24.58it/s]\n",
      "  4%|▍         | 4/100 [00:00<00:02, 33.06it/s]"
     ]
    },
    {
     "name": "stdout",
     "output_type": "stream",
     "text": [
      "Folder --> 5/64\n"
     ]
    },
    {
     "name": "stderr",
     "output_type": "stream",
     "text": [
      "100%|██████████| 100/100 [00:03<00:00, 32.98it/s]\n",
      "  4%|▍         | 4/100 [00:00<00:02, 32.26it/s]"
     ]
    },
    {
     "name": "stdout",
     "output_type": "stream",
     "text": [
      "Folder --> 6/64\n"
     ]
    },
    {
     "name": "stderr",
     "output_type": "stream",
     "text": [
      "100%|██████████| 100/100 [00:02<00:00, 33.48it/s]\n",
      "  4%|▍         | 4/100 [00:00<00:02, 37.04it/s]"
     ]
    },
    {
     "name": "stdout",
     "output_type": "stream",
     "text": [
      "Folder --> 7/64\n"
     ]
    },
    {
     "name": "stderr",
     "output_type": "stream",
     "text": [
      "100%|██████████| 100/100 [00:02<00:00, 35.22it/s]\n",
      "  4%|▍         | 4/100 [00:00<00:02, 35.40it/s]"
     ]
    },
    {
     "name": "stdout",
     "output_type": "stream",
     "text": [
      "Folder --> 8/64\n"
     ]
    },
    {
     "name": "stderr",
     "output_type": "stream",
     "text": [
      "100%|██████████| 100/100 [00:02<00:00, 37.19it/s]\n",
      "  4%|▍         | 4/100 [00:00<00:02, 32.26it/s]"
     ]
    },
    {
     "name": "stdout",
     "output_type": "stream",
     "text": [
      "Folder --> 9/64\n"
     ]
    },
    {
     "name": "stderr",
     "output_type": "stream",
     "text": [
      "100%|██████████| 100/100 [00:03<00:00, 30.63it/s]\n",
      "  3%|▎         | 3/100 [00:00<00:03, 25.00it/s]"
     ]
    },
    {
     "name": "stdout",
     "output_type": "stream",
     "text": [
      "Folder --> 10/64\n"
     ]
    },
    {
     "name": "stderr",
     "output_type": "stream",
     "text": [
      "100%|██████████| 100/100 [00:03<00:00, 29.08it/s]\n",
      "  4%|▍         | 4/100 [00:00<00:02, 36.04it/s]"
     ]
    },
    {
     "name": "stdout",
     "output_type": "stream",
     "text": [
      "Folder --> 11/64\n"
     ]
    },
    {
     "name": "stderr",
     "output_type": "stream",
     "text": [
      "100%|██████████| 100/100 [00:02<00:00, 35.26it/s]\n",
      "  4%|▍         | 4/100 [00:00<00:02, 38.09it/s]"
     ]
    },
    {
     "name": "stdout",
     "output_type": "stream",
     "text": [
      "Folder --> 12/64\n"
     ]
    },
    {
     "name": "stderr",
     "output_type": "stream",
     "text": [
      "100%|██████████| 100/100 [00:02<00:00, 36.64it/s]\n",
      "  4%|▍         | 4/100 [00:00<00:02, 36.36it/s]"
     ]
    },
    {
     "name": "stdout",
     "output_type": "stream",
     "text": [
      "Folder --> 13/64\n"
     ]
    },
    {
     "name": "stderr",
     "output_type": "stream",
     "text": [
      "100%|██████████| 100/100 [00:02<00:00, 34.84it/s]\n",
      "  4%|▍         | 4/100 [00:00<00:02, 33.06it/s]"
     ]
    },
    {
     "name": "stdout",
     "output_type": "stream",
     "text": [
      "Folder --> 14/64\n"
     ]
    },
    {
     "name": "stderr",
     "output_type": "stream",
     "text": [
      "100%|██████████| 100/100 [00:02<00:00, 34.64it/s]\n",
      "  4%|▍         | 4/100 [00:00<00:02, 33.33it/s]"
     ]
    },
    {
     "name": "stdout",
     "output_type": "stream",
     "text": [
      "Folder --> 15/64\n"
     ]
    },
    {
     "name": "stderr",
     "output_type": "stream",
     "text": [
      "100%|██████████| 100/100 [00:03<00:00, 30.32it/s]\n",
      "  4%|▍         | 4/100 [00:00<00:02, 36.04it/s]"
     ]
    },
    {
     "name": "stdout",
     "output_type": "stream",
     "text": [
      "Folder --> 16/64\n"
     ]
    },
    {
     "name": "stderr",
     "output_type": "stream",
     "text": [
      "100%|██████████| 100/100 [00:02<00:00, 35.34it/s]\n",
      "  4%|▍         | 4/100 [00:00<00:02, 33.90it/s]"
     ]
    },
    {
     "name": "stdout",
     "output_type": "stream",
     "text": [
      "Folder --> 17/64\n"
     ]
    },
    {
     "name": "stderr",
     "output_type": "stream",
     "text": [
      "100%|██████████| 100/100 [00:02<00:00, 35.29it/s]\n",
      "  4%|▍         | 4/100 [00:00<00:02, 36.04it/s]"
     ]
    },
    {
     "name": "stdout",
     "output_type": "stream",
     "text": [
      "Folder --> 18/64\n"
     ]
    },
    {
     "name": "stderr",
     "output_type": "stream",
     "text": [
      "100%|██████████| 100/100 [00:02<00:00, 36.62it/s]\n",
      "  4%|▍         | 4/100 [00:00<00:02, 36.70it/s]"
     ]
    },
    {
     "name": "stdout",
     "output_type": "stream",
     "text": [
      "Folder --> 19/64\n"
     ]
    },
    {
     "name": "stderr",
     "output_type": "stream",
     "text": [
      "100%|██████████| 100/100 [00:02<00:00, 35.35it/s]\n",
      "  4%|▍         | 4/100 [00:00<00:02, 32.52it/s]"
     ]
    },
    {
     "name": "stdout",
     "output_type": "stream",
     "text": [
      "Folder --> 20/64\n"
     ]
    },
    {
     "name": "stderr",
     "output_type": "stream",
     "text": [
      "100%|██████████| 100/100 [00:03<00:00, 32.06it/s]\n",
      "  4%|▍         | 4/100 [00:00<00:02, 36.04it/s]"
     ]
    },
    {
     "name": "stdout",
     "output_type": "stream",
     "text": [
      "Folder --> 21/64\n"
     ]
    },
    {
     "name": "stderr",
     "output_type": "stream",
     "text": [
      "100%|██████████| 100/100 [00:02<00:00, 34.90it/s]\n",
      "  4%|▍         | 4/100 [00:00<00:02, 33.90it/s]"
     ]
    },
    {
     "name": "stdout",
     "output_type": "stream",
     "text": [
      "Folder --> 22/64\n"
     ]
    },
    {
     "name": "stderr",
     "output_type": "stream",
     "text": [
      "100%|██████████| 100/100 [00:03<00:00, 30.04it/s]\n",
      "  4%|▍         | 4/100 [00:00<00:02, 32.52it/s]"
     ]
    },
    {
     "name": "stdout",
     "output_type": "stream",
     "text": [
      "Folder --> 23/64\n"
     ]
    },
    {
     "name": "stderr",
     "output_type": "stream",
     "text": [
      "100%|██████████| 100/100 [00:03<00:00, 32.45it/s]\n",
      "  4%|▍         | 4/100 [00:00<00:02, 34.19it/s]"
     ]
    },
    {
     "name": "stdout",
     "output_type": "stream",
     "text": [
      "Folder --> 24/64\n"
     ]
    },
    {
     "name": "stderr",
     "output_type": "stream",
     "text": [
      "100%|██████████| 100/100 [00:02<00:00, 33.60it/s]\n",
      "  4%|▍         | 4/100 [00:00<00:02, 32.26it/s]"
     ]
    },
    {
     "name": "stdout",
     "output_type": "stream",
     "text": [
      "Folder --> 25/64\n"
     ]
    },
    {
     "name": "stderr",
     "output_type": "stream",
     "text": [
      "100%|██████████| 100/100 [00:02<00:00, 34.93it/s]\n",
      "  4%|▍         | 4/100 [00:00<00:02, 33.90it/s]"
     ]
    },
    {
     "name": "stdout",
     "output_type": "stream",
     "text": [
      "Folder --> 26/64\n"
     ]
    },
    {
     "name": "stderr",
     "output_type": "stream",
     "text": [
      "100%|██████████| 100/100 [00:02<00:00, 33.68it/s]\n",
      "  4%|▍         | 4/100 [00:00<00:02, 32.52it/s]"
     ]
    },
    {
     "name": "stdout",
     "output_type": "stream",
     "text": [
      "Folder --> 27/64\n"
     ]
    },
    {
     "name": "stderr",
     "output_type": "stream",
     "text": [
      "100%|██████████| 100/100 [00:02<00:00, 34.26it/s]\n",
      "  4%|▍         | 4/100 [00:00<00:03, 31.50it/s]"
     ]
    },
    {
     "name": "stdout",
     "output_type": "stream",
     "text": [
      "Folder --> 28/64\n"
     ]
    },
    {
     "name": "stderr",
     "output_type": "stream",
     "text": [
      "100%|██████████| 100/100 [00:03<00:00, 31.70it/s]\n",
      "  4%|▍         | 4/100 [00:00<00:02, 38.10it/s]"
     ]
    },
    {
     "name": "stdout",
     "output_type": "stream",
     "text": [
      "Folder --> 29/64\n"
     ]
    },
    {
     "name": "stderr",
     "output_type": "stream",
     "text": [
      "100%|██████████| 100/100 [00:02<00:00, 35.66it/s]\n",
      "  4%|▍         | 4/100 [00:00<00:02, 33.33it/s]"
     ]
    },
    {
     "name": "stdout",
     "output_type": "stream",
     "text": [
      "Folder --> 30/64\n"
     ]
    },
    {
     "name": "stderr",
     "output_type": "stream",
     "text": [
      "100%|██████████| 100/100 [00:03<00:00, 31.24it/s]\n",
      "  4%|▍         | 4/100 [00:00<00:03, 31.75it/s]"
     ]
    },
    {
     "name": "stdout",
     "output_type": "stream",
     "text": [
      "Folder --> 31/64\n"
     ]
    },
    {
     "name": "stderr",
     "output_type": "stream",
     "text": [
      "100%|██████████| 100/100 [00:02<00:00, 33.62it/s]\n",
      "  4%|▍         | 4/100 [00:00<00:02, 34.78it/s]"
     ]
    },
    {
     "name": "stdout",
     "output_type": "stream",
     "text": [
      "Folder --> 32/64\n"
     ]
    },
    {
     "name": "stderr",
     "output_type": "stream",
     "text": [
      "100%|██████████| 100/100 [00:02<00:00, 33.99it/s]\n",
      "  4%|▍         | 4/100 [00:00<00:02, 37.04it/s]"
     ]
    },
    {
     "name": "stdout",
     "output_type": "stream",
     "text": [
      "Folder --> 33/64\n"
     ]
    },
    {
     "name": "stderr",
     "output_type": "stream",
     "text": [
      "100%|██████████| 100/100 [00:02<00:00, 37.20it/s]\n",
      "  3%|▎         | 3/100 [00:00<00:04, 22.22it/s]"
     ]
    },
    {
     "name": "stdout",
     "output_type": "stream",
     "text": [
      "Folder --> 34/64\n"
     ]
    },
    {
     "name": "stderr",
     "output_type": "stream",
     "text": [
      "100%|██████████| 100/100 [00:03<00:00, 25.32it/s]\n",
      "  4%|▍         | 4/100 [00:00<00:02, 35.09it/s]"
     ]
    },
    {
     "name": "stdout",
     "output_type": "stream",
     "text": [
      "Folder --> 35/64\n"
     ]
    },
    {
     "name": "stderr",
     "output_type": "stream",
     "text": [
      "100%|██████████| 100/100 [00:02<00:00, 34.35it/s]\n",
      "  4%|▍         | 4/100 [00:00<00:02, 36.70it/s]"
     ]
    },
    {
     "name": "stdout",
     "output_type": "stream",
     "text": [
      "Folder --> 36/64\n"
     ]
    },
    {
     "name": "stderr",
     "output_type": "stream",
     "text": [
      "100%|██████████| 100/100 [00:02<00:00, 34.49it/s]\n",
      "  4%|▍         | 4/100 [00:00<00:02, 33.90it/s]"
     ]
    },
    {
     "name": "stdout",
     "output_type": "stream",
     "text": [
      "Folder --> 37/64\n"
     ]
    },
    {
     "name": "stderr",
     "output_type": "stream",
     "text": [
      "100%|██████████| 100/100 [00:02<00:00, 33.96it/s]\n",
      "  4%|▍         | 4/100 [00:00<00:03, 31.50it/s]"
     ]
    },
    {
     "name": "stdout",
     "output_type": "stream",
     "text": [
      "Folder --> 38/64\n"
     ]
    },
    {
     "name": "stderr",
     "output_type": "stream",
     "text": [
      "100%|██████████| 100/100 [00:03<00:00, 31.81it/s]\n",
      "  4%|▍         | 4/100 [00:00<00:03, 31.50it/s]"
     ]
    },
    {
     "name": "stdout",
     "output_type": "stream",
     "text": [
      "Folder --> 39/64\n"
     ]
    },
    {
     "name": "stderr",
     "output_type": "stream",
     "text": [
      "100%|██████████| 100/100 [00:03<00:00, 31.56it/s]\n",
      "  4%|▍         | 4/100 [00:00<00:02, 33.61it/s]"
     ]
    },
    {
     "name": "stdout",
     "output_type": "stream",
     "text": [
      "Folder --> 40/64\n"
     ]
    },
    {
     "name": "stderr",
     "output_type": "stream",
     "text": [
      "100%|██████████| 100/100 [00:02<00:00, 33.60it/s]\n",
      "  4%|▍         | 4/100 [00:00<00:02, 35.09it/s]"
     ]
    },
    {
     "name": "stdout",
     "output_type": "stream",
     "text": [
      "Folder --> 41/64\n"
     ]
    },
    {
     "name": "stderr",
     "output_type": "stream",
     "text": [
      "100%|██████████| 100/100 [00:02<00:00, 35.51it/s]\n",
      "  4%|▍         | 4/100 [00:00<00:03, 31.25it/s]"
     ]
    },
    {
     "name": "stdout",
     "output_type": "stream",
     "text": [
      "Folder --> 42/64\n"
     ]
    },
    {
     "name": "stderr",
     "output_type": "stream",
     "text": [
      "100%|██████████| 100/100 [00:03<00:00, 32.96it/s]\n",
      "  3%|▎         | 3/100 [00:00<00:03, 29.70it/s]"
     ]
    },
    {
     "name": "stdout",
     "output_type": "stream",
     "text": [
      "Folder --> 43/64\n"
     ]
    },
    {
     "name": "stderr",
     "output_type": "stream",
     "text": [
      "100%|██████████| 100/100 [00:03<00:00, 32.70it/s]\n",
      "  4%|▍         | 4/100 [00:00<00:02, 33.61it/s]"
     ]
    },
    {
     "name": "stdout",
     "output_type": "stream",
     "text": [
      "Folder --> 44/64\n"
     ]
    },
    {
     "name": "stderr",
     "output_type": "stream",
     "text": [
      "100%|██████████| 100/100 [00:03<00:00, 32.48it/s]\n",
      "  4%|▍         | 4/100 [00:00<00:02, 34.78it/s]"
     ]
    },
    {
     "name": "stdout",
     "output_type": "stream",
     "text": [
      "Folder --> 45/64\n"
     ]
    },
    {
     "name": "stderr",
     "output_type": "stream",
     "text": [
      "100%|██████████| 100/100 [00:02<00:00, 33.39it/s]\n",
      "  4%|▍         | 4/100 [00:00<00:03, 31.01it/s]"
     ]
    },
    {
     "name": "stdout",
     "output_type": "stream",
     "text": [
      "Folder --> 46/64\n"
     ]
    },
    {
     "name": "stderr",
     "output_type": "stream",
     "text": [
      "100%|██████████| 100/100 [00:03<00:00, 31.81it/s]\n",
      "  4%|▍         | 4/100 [00:00<00:03, 31.25it/s]"
     ]
    },
    {
     "name": "stdout",
     "output_type": "stream",
     "text": [
      "Folder --> 47/64\n"
     ]
    },
    {
     "name": "stderr",
     "output_type": "stream",
     "text": [
      "100%|██████████| 100/100 [00:03<00:00, 32.18it/s]\n",
      "  4%|▍         | 4/100 [00:00<00:03, 30.53it/s]"
     ]
    },
    {
     "name": "stdout",
     "output_type": "stream",
     "text": [
      "Folder --> 48/64\n"
     ]
    },
    {
     "name": "stderr",
     "output_type": "stream",
     "text": [
      "100%|██████████| 100/100 [00:03<00:00, 31.31it/s]\n",
      "  4%|▍         | 4/100 [00:00<00:03, 31.25it/s]"
     ]
    },
    {
     "name": "stdout",
     "output_type": "stream",
     "text": [
      "Folder --> 49/64\n"
     ]
    },
    {
     "name": "stderr",
     "output_type": "stream",
     "text": [
      "100%|██████████| 100/100 [00:03<00:00, 31.32it/s]\n",
      "  4%|▍         | 4/100 [00:00<00:03, 31.25it/s]"
     ]
    },
    {
     "name": "stdout",
     "output_type": "stream",
     "text": [
      "Folder --> 50/64\n"
     ]
    },
    {
     "name": "stderr",
     "output_type": "stream",
     "text": [
      "100%|██████████| 100/100 [00:03<00:00, 31.89it/s]\n",
      "  4%|▍         | 4/100 [00:00<00:02, 36.36it/s]"
     ]
    },
    {
     "name": "stdout",
     "output_type": "stream",
     "text": [
      "Folder --> 51/64\n"
     ]
    },
    {
     "name": "stderr",
     "output_type": "stream",
     "text": [
      "100%|██████████| 100/100 [00:03<00:00, 32.82it/s]\n",
      "  4%|▍         | 4/100 [00:00<00:02, 37.74it/s]"
     ]
    },
    {
     "name": "stdout",
     "output_type": "stream",
     "text": [
      "Folder --> 52/64\n"
     ]
    },
    {
     "name": "stderr",
     "output_type": "stream",
     "text": [
      "100%|██████████| 100/100 [00:02<00:00, 34.72it/s]\n",
      "  4%|▍         | 4/100 [00:00<00:02, 36.37it/s]"
     ]
    },
    {
     "name": "stdout",
     "output_type": "stream",
     "text": [
      "Folder --> 53/64\n"
     ]
    },
    {
     "name": "stderr",
     "output_type": "stream",
     "text": [
      "100%|██████████| 100/100 [00:02<00:00, 36.40it/s]\n",
      "  4%|▍         | 4/100 [00:00<00:02, 34.48it/s]"
     ]
    },
    {
     "name": "stdout",
     "output_type": "stream",
     "text": [
      "Folder --> 54/64\n"
     ]
    },
    {
     "name": "stderr",
     "output_type": "stream",
     "text": [
      "100%|██████████| 100/100 [00:02<00:00, 35.42it/s]\n",
      "  4%|▍         | 4/100 [00:00<00:02, 38.10it/s]"
     ]
    },
    {
     "name": "stdout",
     "output_type": "stream",
     "text": [
      "Folder --> 55/64\n"
     ]
    },
    {
     "name": "stderr",
     "output_type": "stream",
     "text": [
      "100%|██████████| 100/100 [00:02<00:00, 35.36it/s]\n",
      "  4%|▍         | 4/100 [00:00<00:02, 36.04it/s]"
     ]
    },
    {
     "name": "stdout",
     "output_type": "stream",
     "text": [
      "Folder --> 56/64\n"
     ]
    },
    {
     "name": "stderr",
     "output_type": "stream",
     "text": [
      "100%|██████████| 100/100 [00:02<00:00, 35.84it/s]\n",
      "  4%|▍         | 4/100 [00:00<00:02, 33.61it/s]"
     ]
    },
    {
     "name": "stdout",
     "output_type": "stream",
     "text": [
      "Folder --> 57/64\n"
     ]
    },
    {
     "name": "stderr",
     "output_type": "stream",
     "text": [
      "100%|██████████| 100/100 [00:03<00:00, 32.93it/s]\n",
      "  4%|▍         | 4/100 [00:00<00:02, 33.06it/s]"
     ]
    },
    {
     "name": "stdout",
     "output_type": "stream",
     "text": [
      "Folder --> 58/64\n"
     ]
    },
    {
     "name": "stderr",
     "output_type": "stream",
     "text": [
      "100%|██████████| 100/100 [00:02<00:00, 35.04it/s]\n",
      "  4%|▍         | 4/100 [00:00<00:02, 33.90it/s]"
     ]
    },
    {
     "name": "stdout",
     "output_type": "stream",
     "text": [
      "Folder --> 59/64\n"
     ]
    },
    {
     "name": "stderr",
     "output_type": "stream",
     "text": [
      "100%|██████████| 100/100 [00:03<00:00, 31.95it/s]\n",
      "  4%|▍         | 4/100 [00:00<00:02, 34.78it/s]"
     ]
    },
    {
     "name": "stdout",
     "output_type": "stream",
     "text": [
      "Folder --> 60/64\n"
     ]
    },
    {
     "name": "stderr",
     "output_type": "stream",
     "text": [
      "100%|██████████| 100/100 [00:02<00:00, 33.77it/s]\n",
      "  3%|▎         | 3/100 [00:00<00:03, 24.59it/s]"
     ]
    },
    {
     "name": "stdout",
     "output_type": "stream",
     "text": [
      "Folder --> 61/64\n"
     ]
    },
    {
     "name": "stderr",
     "output_type": "stream",
     "text": [
      "100%|██████████| 100/100 [00:03<00:00, 26.36it/s]\n",
      "  3%|▎         | 3/100 [00:00<00:03, 27.78it/s]"
     ]
    },
    {
     "name": "stdout",
     "output_type": "stream",
     "text": [
      "Folder --> 62/64\n"
     ]
    },
    {
     "name": "stderr",
     "output_type": "stream",
     "text": [
      "100%|██████████| 100/100 [00:03<00:00, 26.76it/s]\n",
      "  4%|▍         | 4/100 [00:00<00:02, 33.90it/s]"
     ]
    },
    {
     "name": "stdout",
     "output_type": "stream",
     "text": [
      "Folder --> 63/64\n"
     ]
    },
    {
     "name": "stderr",
     "output_type": "stream",
     "text": [
      "100%|██████████| 100/100 [00:02<00:00, 35.42it/s]\n"
     ]
    }
   ],
   "source": [
    "empty_list = []\n",
    "\n",
    "for idx, class_folder in enumerate(os.listdir(analyzing_group)):\n",
    "    print(\"Folder --> {}/{}\".format(idx, len(os.listdir(analyzing_group))))\n",
    "\n",
    "    class_name = class_folder # adjusting glasses\n",
    "    class_path = os.path.join(analyzing_group,class_name)\n",
    "    \n",
    "    class_videos = os.listdir(class_path)\n",
    "    n_class_videos = len(class_videos)\n",
    "    \n",
    "    for class_video in tqdm(class_videos):\n",
    "        \n",
    "        class_video_id = str(class_video[:class_video.rfind(\"_\")]) # video_id\n",
    "        class_gidx = int(class_video[class_video.rfind(\"_\")+1:])\n",
    "        #print(class_gidx)\n",
    "        #print(class_video_id)\n",
    "        #print(class_name)\n",
    "        \n",
    "        filter_1 = captions_df[\"youtube_id\"] == class_video_id\n",
    "        filter_2 = captions_df[\"general_idx\"] == class_gidx\n",
    "\n",
    "        y_keywords = captions_df[filter_1 & filter_2].Tags.values.tolist()[0].split(\"|\")\n",
    "        y_keywords = [keyword.replace(\"_\", \" \") for keyword in y_keywords]\n",
    "        #print(y_keywords)\n",
    "        # ! removing label from keywords if exists, because some videos dont have action name in tags...\n",
    "        try:\n",
    "            y_keywords.remove(class_name)\n",
    "        except:\n",
    "            pass\n",
    "        \n",
    "        #print(y_keywords)\n",
    "        \n",
    "        # extract features from keywords\n",
    "        emb = text_feature_by_id(y_keywords)\n",
    "        emb = list(emb)\n",
    "            \n",
    "        # save elmo features to relevant folder\n",
    "        saving_path = os.path.join(class_path, class_video)\n",
    "        \n",
    "        if len(y_keywords) == 0:\n",
    "            empty_list.append(saving_path)        \n",
    "    \n",
    "        np.savez(saving_path+'\\Elmo_Mean.npz', Elmo=emb)"
   ]
  },
  {
   "cell_type": "code",
   "execution_count": 170,
   "metadata": {},
   "outputs": [
    {
     "data": {
      "text/plain": [
       "['C:\\\\HolisticVideoUnderstanding\\\\uniform_train\\\\calf roping\\\\FelgRFIXe5g_1012',\n",
       " 'C:\\\\HolisticVideoUnderstanding\\\\uniform_train\\\\golf putting\\\\cF-GGUTzORE_2975',\n",
       " 'C:\\\\HolisticVideoUnderstanding\\\\uniform_train\\\\milking cow\\\\GUP-Kg1KG74_3857']"
      ]
     },
     "execution_count": 170,
     "metadata": {},
     "output_type": "execute_result"
    }
   ],
   "source": [
    "empty_list"
   ]
  },
  {
   "cell_type": "markdown",
   "metadata": {},
   "source": [
    "#### Val --> Empty Set\n",
    "\n",
    "#### Test Set -->\n",
    "['C:\\\\HolisticVideoUnderstanding\\\\sampled_test\\\\shearing sheep\\\\8dDUvf4-cx8_2545',\n",
    " 'C:\\\\HolisticVideoUnderstanding\\\\sampled_test\\\\shearing sheep\\\\CmKsFNJfH1s_2513',\n",
    " 'C:\\\\HolisticVideoUnderstanding\\\\sampled_test\\\\using circular saw\\\\fRKePKEdUSA_3096']\n",
    "\n",
    "#### Train Set -->\n",
    "['C:\\\\HolisticVideoUnderstanding\\\\sampled_train\\\\calf roping\\\\FelgRFIXe5g_1012',\n",
    " 'C:\\\\HolisticVideoUnderstanding\\\\sampled_train\\\\golf putting\\\\cF-GGUTzORE_2975',\n",
    " 'C:\\\\HolisticVideoUnderstanding\\\\sampled_train\\\\milking cow\\\\GUP-Kg1KG74_3857']"
   ]
  },
  {
   "cell_type": "markdown",
   "metadata": {},
   "source": []
  }
 ],
 "metadata": {
  "interpreter": {
   "hash": "20095610f18a3268815da2e700e8452467ae104b71ca0ca74a40afa76fc500a6"
  },
  "kernelspec": {
   "display_name": "Python 3.7.6 64-bit ('base': conda)",
   "language": "python",
   "name": "python3"
  },
  "language_info": {
   "codemirror_mode": {
    "name": "ipython",
    "version": 3
   },
   "file_extension": ".py",
   "mimetype": "text/x-python",
   "name": "python",
   "nbconvert_exporter": "python",
   "pygments_lexer": "ipython3",
   "version": "3.7.6"
  },
  "orig_nbformat": 4
 },
 "nbformat": 4,
 "nbformat_minor": 2
}
