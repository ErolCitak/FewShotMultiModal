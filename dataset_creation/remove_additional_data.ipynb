{
 "cells": [
  {
   "cell_type": "code",
   "execution_count": 14,
   "metadata": {},
   "outputs": [],
   "source": [
    "import os\n",
    "import glob\n",
    "import shutil"
   ]
  },
  {
   "cell_type": "code",
   "execution_count": 28,
   "metadata": {},
   "outputs": [],
   "source": [
    "main_path = \"C:\\HolisticVideoUnderstanding\"\n",
    "move_path = \"D:\\HolisticVideoUnderstanding\\Frames\"\n",
    "\n",
    "\n",
    "sampled_test = os.path.join(main_path, \"sampled_test\")\n",
    "m_sampled_test = os.path.join(move_path, \"sampled_test\")\n",
    "\n",
    "sampled_train = os.path.join(main_path, \"sampled_train\")\n",
    "m_sampled_train = os.path.join(move_path, \"sampled_train\")\n",
    "\n",
    "sampled_val = os.path.join(main_path, \"sampled_val\")\n",
    "m_sampled_val = os.path.join(move_path, \"sampled_val\")\n",
    "\n",
    "uniform_test = os.path.join(main_path, \"uniform_test\")\n",
    "m_uniform_test = os.path.join(move_path, \"uniform_test\")\n",
    "\n",
    "uniform_train = os.path.join(main_path, \"uniform_train\")\n",
    "m_uniform_train = os.path.join(move_path, \"uniform_train\")\n",
    "\n",
    "uniform_val = os.path.join(main_path, \"uniform_val\")\n",
    "m_uniform_val = os.path.join(move_path, \"uniform_val\")"
   ]
  },
  {
   "cell_type": "code",
   "execution_count": 43,
   "metadata": {},
   "outputs": [
    {
     "name": "stdout",
     "output_type": "stream",
     "text": [
      "C:\\HolisticVideoUnderstanding\\uniform_val\n",
      "D:\\HolisticVideoUnderstanding\\Frames\\uniform_val\n"
     ]
    }
   ],
   "source": [
    "analyzing_group = uniform_val\n",
    "m_analyzing_group = m_uniform_val\n",
    "\n",
    "print(analyzing_group)\n",
    "print(m_analyzing_group)"
   ]
  },
  {
   "cell_type": "code",
   "execution_count": 44,
   "metadata": {},
   "outputs": [],
   "source": [
    "for class_folder in os.listdir(analyzing_group):\n",
    "    \n",
    "    class_name = class_folder\n",
    "    class_path = os.path.join(analyzing_group,class_name)\n",
    "    m_class_path = os.path.join(m_analyzing_group,class_name)\n",
    "    \n",
    "    class_videos = os.listdir(class_path)\n",
    "    n_class_videos = len(class_videos)\n",
    "    \n",
    "    if n_class_videos > 100:\n",
    "        #if not os.path.exists()\n",
    "        for i in range(100, n_class_videos):\n",
    "            os.makedirs(os.path.join(m_class_path, class_videos[i]))\n",
    "            #print(os.path.join(m_class_path, class_videos[i]))\n",
    "            shutil.move(os.path.join(class_path, class_videos[i]), os.path.join(m_class_path, class_videos[i]))"
   ]
  }
 ],
 "metadata": {
  "interpreter": {
   "hash": "20095610f18a3268815da2e700e8452467ae104b71ca0ca74a40afa76fc500a6"
  },
  "kernelspec": {
   "display_name": "Python 3.7.6 64-bit ('base': conda)",
   "language": "python",
   "name": "python3"
  },
  "language_info": {
   "codemirror_mode": {
    "name": "ipython",
    "version": 3
   },
   "file_extension": ".py",
   "mimetype": "text/x-python",
   "name": "python",
   "nbconvert_exporter": "python",
   "pygments_lexer": "ipython3",
   "version": "3.7.6"
  },
  "orig_nbformat": 4
 },
 "nbformat": 4,
 "nbformat_minor": 2
}
