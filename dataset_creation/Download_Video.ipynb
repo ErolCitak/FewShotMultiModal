{
 "cells": [
  {
   "cell_type": "code",
   "execution_count": 1,
   "metadata": {},
   "outputs": [],
   "source": [
    "import glob\n",
    "import os\n",
    "import requests\n",
    "from requests.auth import HTTPBasicAuth\n",
    "from tqdm import tqdm"
   ]
  },
  {
   "cell_type": "code",
   "execution_count": 2,
   "metadata": {},
   "outputs": [],
   "source": [
    "files = os.listdir(\"C:/Users/PC/Desktop/FewShotPhd/data/h100m_info/test\")\n",
    "save_path = \"D:/Howto100_Dataset/ds/test\""
   ]
  },
  {
   "cell_type": "code",
   "execution_count": 3,
   "metadata": {
    "scrolled": false
   },
   "outputs": [
    {
     "name": "stderr",
     "output_type": "stream",
     "text": [
      "\r",
      "  0%|                                                                                          | 0/100 [00:00<?, ?it/s]"
     ]
    },
    {
     "name": "stdout",
     "output_type": "stream",
     "text": [
      "Where am i: \t Parties\n"
     ]
    },
    {
     "name": "stderr",
     "output_type": "stream",
     "text": [
      "100%|████████████████████████████████████████████████████████████████████████████████| 100/100 [04:39<00:00,  2.79s/it]\n",
      "  0%|                                                                                          | 0/100 [00:00<?, ?it/s]"
     ]
    },
    {
     "name": "stdout",
     "output_type": "stream",
     "text": [
      "\n",
      "-------\n",
      "\n",
      "Where am i: \t Picnics\n"
     ]
    },
    {
     "name": "stderr",
     "output_type": "stream",
     "text": [
      "100%|████████████████████████████████████████████████████████████████████████████████| 100/100 [07:42<00:00,  4.63s/it]\n",
      "  0%|                                                                                          | 0/100 [00:00<?, ?it/s]"
     ]
    },
    {
     "name": "stdout",
     "output_type": "stream",
     "text": [
      "\n",
      "-------\n",
      "\n",
      "Where am i: \t Recipes\n"
     ]
    },
    {
     "name": "stderr",
     "output_type": "stream",
     "text": [
      "100%|████████████████████████████████████████████████████████████████████████████████| 100/100 [05:48<00:00,  3.49s/it]\n",
      "  0%|                                                                                          | 0/100 [00:00<?, ?it/s]"
     ]
    },
    {
     "name": "stdout",
     "output_type": "stream",
     "text": [
      "\n",
      "-------\n",
      "\n",
      "Where am i: \t Recreational_Drug_Use\n"
     ]
    },
    {
     "name": "stderr",
     "output_type": "stream",
     "text": [
      "100%|████████████████████████████████████████████████████████████████████████████████| 100/100 [05:49<00:00,  3.50s/it]\n",
      "  0%|                                                                                          | 0/100 [00:00<?, ?it/s]"
     ]
    },
    {
     "name": "stdout",
     "output_type": "stream",
     "text": [
      "\n",
      "-------\n",
      "\n",
      "Where am i: \t Reproductive_Health\n"
     ]
    },
    {
     "name": "stderr",
     "output_type": "stream",
     "text": [
      "100%|████████████████████████████████████████████████████████████████████████████████| 100/100 [08:01<00:00,  4.82s/it]\n",
      "  0%|                                                                                          | 0/100 [00:00<?, ?it/s]"
     ]
    },
    {
     "name": "stdout",
     "output_type": "stream",
     "text": [
      "\n",
      "-------\n",
      "\n",
      "Where am i: \t Travel_Tips\n"
     ]
    },
    {
     "name": "stderr",
     "output_type": "stream",
     "text": [
      "100%|████████████████████████████████████████████████████████████████████████████████| 100/100 [04:30<00:00,  2.71s/it]"
     ]
    },
    {
     "name": "stdout",
     "output_type": "stream",
     "text": [
      "\n",
      "-------\n",
      "\n"
     ]
    },
    {
     "name": "stderr",
     "output_type": "stream",
     "text": [
      "\n"
     ]
    }
   ],
   "source": [
    "skip_f = 17\n",
    "\n",
    "skip_v_flag = True\n",
    "\n",
    "for j in range(len(files)):\n",
    "    file = files[j]\n",
    "    \n",
    "    if j <= skip_f:\n",
    "        continue\n",
    "    \n",
    "    label = file.split(\".\")[0]\n",
    "    print(\"Where am i: \\t {}\".format(label))\n",
    "    \n",
    "    if not os.path.exists(os.path.join(save_path, label)):\n",
    "        os.makedirs(os.path.join(save_path, label))\n",
    "    \n",
    "    with open(\"C:/Users/PC/Desktop/FewShotPhd/data/h100m_info/test/\"+file) as f:\n",
    "        lines = f.readlines()\n",
    "    \n",
    "    for i in tqdm(range(len(lines))):\n",
    "                    \n",
    "        line = lines[i]\n",
    "        name = line.split(\"/\")[-1].strip()\n",
    "        \n",
    "        # if specific file is not exists\n",
    "        if not os.path.exists(save_path+\"/\"+label+\"/\"+str(name)):\n",
    "            resp = requests.get(line.strip(), auth=HTTPBasicAuth('htlog23', 'fb93dc3b1950d18'))\n",
    "\n",
    "            if resp.status_code != 200:\n",
    "                print(\"Err: \\t {}\".format(line))\n",
    "            else:\n",
    "                with open(save_path+\"/\"+label+\"/\"+str(name), \"wb\") as binary_file:\n",
    "                    # Write bytes to file\n",
    "                    binary_file.write(resp.content)\n",
    "        \n",
    "        \n",
    "    print(\"\\n-------\\n\")"
   ]
  },
  {
   "cell_type": "code",
   "execution_count": null,
   "metadata": {},
   "outputs": [],
   "source": []
  }
 ],
 "metadata": {
  "kernelspec": {
   "display_name": "Python 3",
   "language": "python",
   "name": "python3"
  },
  "language_info": {
   "codemirror_mode": {
    "name": "ipython",
    "version": 3
   },
   "file_extension": ".py",
   "mimetype": "text/x-python",
   "name": "python",
   "nbconvert_exporter": "python",
   "pygments_lexer": "ipython3",
   "version": "3.7.6"
  }
 },
 "nbformat": 4,
 "nbformat_minor": 4
}
