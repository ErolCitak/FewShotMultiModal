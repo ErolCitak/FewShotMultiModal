{
 "cells": [
  {
   "cell_type": "code",
   "execution_count": null,
   "metadata": {},
   "outputs": [],
   "source": [
    "import glob\n",
    "import os\n",
    "import requests\n",
    "from requests.auth import HTTPBasicAuth\n",
    "from tqdm import tqdm"
   ]
  },
  {
   "cell_type": "code",
   "execution_count": null,
   "metadata": {},
   "outputs": [],
   "source": [
    "files = os.listdir(\"C:/Users/PC/Desktop/FewShotPhd/data/h100m_info/train\")\n",
    "save_path = \"D:/Howto100_Dataset/ds/train\""
   ]
  },
  {
   "cell_type": "code",
   "execution_count": null,
   "metadata": {
    "scrolled": false
   },
   "outputs": [],
   "source": [
    "skip_f = 10\n",
    "\n",
    "skip_v_flag = True\n",
    "\n",
    "for j in range(len(files)):\n",
    "    file = files[j]\n",
    "    \n",
    "    if j <= skip_f:\n",
    "        continue\n",
    "    \n",
    "    label = file.split(\".\")[0]\n",
    "    print(\"Where am i: \\t {}\".format(label))\n",
    "    \n",
    "    if not os.path.exists(os.path.join(save_path, label)):\n",
    "        os.makedirs(os.path.join(save_path, label))\n",
    "    \n",
    "    with open(\"C:/Users/PC/Desktop/FewShotPhd/data/h100m_info/train/\"+file) as f:\n",
    "        lines = f.readlines()\n",
    "    \n",
    "    for i in tqdm(range(len(lines))):\n",
    "                    \n",
    "        line = lines[i]\n",
    "        name = line.split(\"/\")[-1].strip()\n",
    "        \n",
    "        # if specific file is not exists\n",
    "        if not os.path.exists(save_path+\"/\"+label+\"/\"+str(name)):\n",
    "            resp = requests.get(line.strip(), auth=HTTPBasicAuth('htlog23', 'fb93dc3b1950d18'))\n",
    "\n",
    "            if resp.status_code != 200:\n",
    "                print(\"Err: \\t {}\".format(line))\n",
    "            else:\n",
    "                with open(save_path+\"/\"+label+\"/\"+str(name), \"wb\") as binary_file:\n",
    "                    # Write bytes to file\n",
    "                    binary_file.write(resp.content)\n",
    "        \n",
    "        \n",
    "    print(\"\\n-------\\n\")"
   ]
  },
  {
   "cell_type": "code",
   "execution_count": null,
   "metadata": {},
   "outputs": [],
   "source": []
  }
 ],
 "metadata": {
  "kernelspec": {
   "display_name": "Python 3",
   "language": "python",
   "name": "python3"
  },
  "language_info": {
   "codemirror_mode": {
    "name": "ipython",
    "version": 3
   },
   "file_extension": ".py",
   "mimetype": "text/x-python",
   "name": "python",
   "nbconvert_exporter": "python",
   "pygments_lexer": "ipython3",
   "version": "3.7.6"
  }
 },
 "nbformat": 4,
 "nbformat_minor": 4
}
